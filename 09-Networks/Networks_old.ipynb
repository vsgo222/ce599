{
 "cells": [
  {
   "cell_type": "markdown",
   "metadata": {},
   "source": [
    "# Networks\n",
    "\n",
    "This lesson introduces the network data structure.  Aspects of this lesson are adapted from Andrew Brooks' tutorial on graph optimization.  \n",
    "\n",
    "https://www.datacamp.com/community/tutorials/networkx-python-graph-tutorial\n",
    "\n",
    "It also draws from theory material presented at PyCon 2015 by Celia La and Sarah Guido.  \n",
    "\n",
    "https://github.com/sarguido/networkx-tutorial\n",
    "\n",
    "You will need to install two packages:\n",
    "\n",
    "pip install networkx\n",
    "pip install imageio\n",
    "\n",
    "The networkx documentation is here: \n",
    "\n",
    "https://networkx.github.io/"
   ]
  },
  {
   "cell_type": "code",
   "execution_count": 1,
<<<<<<< HEAD
   "metadata": {},
=======
   "metadata": {
    "collapsed": true
   },
>>>>>>> upstream/master
   "outputs": [],
   "source": [
    "# imports\n",
    "import pandas as pd\n",
    "import networkx as nx\n",
    "import matplotlib.pyplot as plt\n",
    "\n",
    "%matplotlib inline"
   ]
  },
  {
   "cell_type": "markdown",
   "metadata": {
    "collapsed": true
   },
   "source": [
    "# Intro to NetworkX\n",
    "\n",
    "### Adding & editing graph nodes\n",
    "\n",
    "We'll first take a look at creating a graph, and adding/editing nodes:"
   ]
  },
  {
   "cell_type": "code",
<<<<<<< HEAD
   "execution_count": 13,
   "metadata": {},
=======
   "execution_count": 2,
   "metadata": {
    "collapsed": false
   },
>>>>>>> upstream/master
   "outputs": [
    {
     "data": {
      "text/plain": [
<<<<<<< HEAD
       "NodeView((1, 2, 3, 'four', 5))"
      ]
     },
     "execution_count": 13,
=======
       "NodeView((1, 2, 3, 5, 'four'))"
      ]
     },
     "execution_count": 2,
>>>>>>> upstream/master
     "metadata": {},
     "output_type": "execute_result"
    }
   ],
   "source": [
    "import networkx as nx\n",
    "\n",
    "'''use g = nx.Graph() to create a graph'''\n",
    "\n",
    "g = nx.Graph()\n",
    "\n",
    "'''Lesson: use .add_node(1) to add a single node'''\n",
    "g.add_node(1)\n",
    "\n",
    "'''Lesson: use .add_nodes_from([2, 3, 'four', 5])  to add in bulk'''\n",
    "g.add_nodes_from([2, 3, 'four', 5])\n",
    "\n",
    "g.nodes()  # run g.nodes() to view the graph"
   ]
  },
  {
   "cell_type": "code",
<<<<<<< HEAD
   "execution_count": 10,
   "metadata": {},
=======
   "execution_count": 3,
   "metadata": {
    "collapsed": false
   },
>>>>>>> upstream/master
   "outputs": [
    {
     "data": {
      "text/plain": [
<<<<<<< HEAD
       "NodeView((1, 2, 3, 'four', 5))"
      ]
     },
     "execution_count": 10,
=======
       "NodeView((1, 2, 3, 5, 'four'))"
      ]
     },
     "execution_count": 3,
>>>>>>> upstream/master
     "metadata": {},
     "output_type": "execute_result"
    }
   ],
   "source": [
    "'''Note that NetworkX won't complain if we re-add pre-existing nodes'''\n",
    "\n",
    "# TODO: try re-adding nodes to see what happens\n",
    "\n",
    "g.nodes()  # display nodes"
   ]
  },
  {
   "cell_type": "code",
<<<<<<< HEAD
   "execution_count": 12,
   "metadata": {},
=======
   "execution_count": 4,
   "metadata": {
    "collapsed": false
   },
>>>>>>> upstream/master
   "outputs": [
    {
     "data": {
      "text/plain": [
<<<<<<< HEAD
       "NodeView((3, 'four'))"
      ]
     },
     "execution_count": 12,
=======
       "NodeView((1, 2, 3, 5, 'four'))"
      ]
     },
     "execution_count": 4,
>>>>>>> upstream/master
     "metadata": {},
     "output_type": "execute_result"
    }
   ],
   "source": [
    "'''Lesson: remove syntax is similar to adding, eg:\n",
    "        .remove_node()\n",
    "        .remove_nodes_from()\n",
    "'''\n",
    "\n",
    "# TODO: try removing both 1) single nodes, 2) nodes in bulk\n",
    "\n",
    "# g.remove_node(1)\n",
    "# g.nodes()  # display nodes\n",
    "\n",
    "g.remove_nodes_from([2,5])\n",
    "g.nodes()"
   ]
  },
  {
   "cell_type": "markdown",
   "metadata": {},
   "source": [
    "### Adding & editing edges"
   ]
  },
  {
   "cell_type": "code",
<<<<<<< HEAD
   "execution_count": 14,
   "metadata": {},
=======
   "execution_count": 5,
   "metadata": {
    "collapsed": false
   },
>>>>>>> upstream/master
   "outputs": [
    {
     "name": "stdout",
     "output_type": "stream",
     "text": [
      "edges: [('a', 'b')]\n",
      "nodes: ['a', 'b']\n"
     ]
    }
   ],
   "source": [
    "h = nx.Graph()  # let's create a 2nd graph to play with edges\n",
    "\n",
    "'''Lesson: to create an edge, just specify the 2 nodes that define it: \n",
    "        .add_edge('a','b')\n",
    "    Note that those nodes also get added (no need to make them beforehand!)\n",
    "'''\n",
    "\n",
    "h.add_edge('a', 'b')\n",
    "\n",
    "\n",
    "print('edges:', h.edges())  # see your new edge\n",
    "print('nodes:', h.nodes())  # verify that new nodes were also added"
   ]
  },
  {
   "cell_type": "markdown",
   "metadata": {},
   "source": [
    "### Visualizing graphs"
   ]
  },
  {
   "cell_type": "code",
<<<<<<< HEAD
   "execution_count": 15,
   "metadata": {},
   "outputs": [
    {
     "data": {
      "image/png": "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\n",
      "text/plain": [
       "<Figure size 432x288 with 1 Axes>"
=======
   "execution_count": 6,
   "metadata": {
    "collapsed": false
   },
   "outputs": [
    {
     "data": {
      "image/png": "iVBORw0KGgoAAAANSUhEUgAAAecAAAFCCAYAAADL3BUJAAAABHNCSVQICAgIfAhkiAAAAAlwSFlz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\n",
      "text/plain": [
       "<matplotlib.figure.Figure at 0x91ea3bac88>"
>>>>>>> upstream/master
      ]
     },
     "metadata": {},
     "output_type": "display_data"
    }
   ],
   "source": [
    "\n",
    "GREEN = \"#77DD77\"\n",
    "BLUE = \"#99CCFF\"\n",
    "\n",
    "nx.draw(g, node_color=GREEN, with_labels=True)\n",
    "nx.draw(h, node_color=BLUE, with_labels=True)\n",
    "\n"
   ]
  },
  {
   "cell_type": "markdown",
   "metadata": {},
   "source": [
    "#### How would you create the following graph?\n",
    "\n",
    "<img src=\"img/graph.png\" style=\"float:left\" width=\"200\" />"
   ]
  },
  {
   "cell_type": "code",
<<<<<<< HEAD
   "execution_count": 19,
   "metadata": {},
   "outputs": [
    {
     "data": {
      "image/png": "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\n",
      "text/plain": [
       "<Figure size 432x288 with 1 Axes>"
      ]
     },
     "metadata": {},
     "output_type": "display_data"
    }
   ],
=======
   "execution_count": 7,
   "metadata": {
    "collapsed": true
   },
   "outputs": [],
>>>>>>> upstream/master
   "source": [
    "g = nx.Graph()\n",
    "# specifiy things as a tuple\n",
    "g.add_edges_from([('A','B'),('B','D'),('C','D'),('E','D'),('F','D')])\n",
    "nx.draw(g)"
   ]
  },
  {
   "cell_type": "markdown",
   "metadata": {},
   "source": [
    "# Directed graphs"
   ]
  },
  {
   "cell_type": "code",
<<<<<<< HEAD
   "execution_count": 20,
   "metadata": {},
=======
   "execution_count": 8,
   "metadata": {
    "collapsed": false
   },
>>>>>>> upstream/master
   "outputs": [
    {
     "name": "stdout",
     "output_type": "stream",
     "text": [
      "directed edges: [(1, 2), (2, 3)]\n"
     ]
    },
    {
     "data": {
<<<<<<< HEAD
      "image/png": "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\n",
      "text/plain": [
       "<Figure size 432x288 with 1 Axes>"
=======
      "image/png": "iVBORw0KGgoAAAANSUhEUgAAAegAAAFCCAYAAAA6106EAAAABHNCSVQICAgIfAhkiAAAAAlwSFlz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\ngShoAAAc6P8DgW5/hEOIy6EAAAAASUVORK5CYII=\n",
      "text/plain": [
       "<matplotlib.figure.Figure at 0xb934c8cf98>"
>>>>>>> upstream/master
      ]
     },
     "metadata": {},
     "output_type": "display_data"
    }
   ],
   "source": [
    "'''Lesson: use nx.DiGraph() to create a new directed graph\n",
    "'''\n",
    "\n",
    "dg = nx.DiGraph()\n",
    "\n",
    "\n",
    "dg.add_edges_from([(1,2), (2,3)])\n",
    "\n",
    "print('directed edges:', dg.edges())\n",
    "nx.draw(dg, node_color=GREEN, with_labels=True)\n"
   ]
  },
  {
   "cell_type": "code",
<<<<<<< HEAD
   "execution_count": 21,
   "metadata": {},
   "outputs": [
    {
     "data": {
      "image/png": "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\n",
      "text/plain": [
       "<Figure size 432x288 with 1 Axes>"
=======
   "execution_count": 9,
   "metadata": {
    "collapsed": false
   },
   "outputs": [
    {
     "data": {
      "image/png": "iVBORw0KGgoAAAANSUhEUgAAAecAAAFCCAYAAADL3BUJAAAABHNCSVQICAgIfAhkiAAAAAlwSFlz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\nQmCC\n",
      "text/plain": [
       "<matplotlib.figure.Figure at 0xb934c62320>"
>>>>>>> upstream/master
      ]
     },
     "metadata": {},
     "output_type": "display_data"
    }
   ],
   "source": [
    "'''We can make directed graphs from existing graphs, eg:\n",
    "        nx.DiGraph(g)\n",
    "'''\n",
    "\n",
    "dg = nx.DiGraph(g)\n",
    "\n",
    "\n",
    "nx.draw(dg, node_color=BLUE, with_labels=True)"
   ]
  },
  {
   "cell_type": "code",
<<<<<<< HEAD
   "execution_count": null,
   "metadata": {},
   "outputs": [],
=======
   "execution_count": 10,
   "metadata": {
    "collapsed": false
   },
   "outputs": [
    {
     "data": {
      "text/plain": [
       "OutEdgeView([('B', 'D'), ('B', 'A'), ('F', 'D'), ('C', 'D'), ('E', 'D'), ('A', 'B'), ('D', 'B'), ('D', 'F'), ('D', 'C'), ('D', 'E')])"
      ]
     },
     "execution_count": 10,
     "metadata": {},
     "output_type": "execute_result"
    }
   ],
>>>>>>> upstream/master
   "source": [
    "''' Notice that nodes A and B have TWO directed edges:\n",
    "        A -> B\n",
    "        B -> A\n",
    "'''\n",
    "\n",
    "dg.edges()"
   ]
  },
  {
   "cell_type": "markdown",
   "metadata": {},
   "source": [
    "### Adding attributes to nodes and edges\n",
    "\n",
    "Sometimes you may want to attach attributes to either the nodes or edges:\n",
    "\n",
    "* Perhaps you want to save node properties that will be helpful with future analysis\n",
    "* Perhaps you want to attach visual descriptions, such a node size, edge width or graph color"
   ]
  },
  {
   "cell_type": "code",
<<<<<<< HEAD
   "execution_count": 22,
   "metadata": {},
   "outputs": [
    {
     "data": {
      "image/png": "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\n",
      "text/plain": [
       "<Figure size 432x288 with 1 Axes>"
      ]
     },
     "metadata": {},
     "output_type": "display_data"
=======
   "execution_count": 11,
   "metadata": {
    "collapsed": false
   },
   "outputs": [
    {
     "ename": "TypeError",
     "evalue": "add_edge() takes 3 positional arguments but 4 were given",
     "output_type": "error",
     "traceback": [
      "\u001b[0;31m---------------------------------------------------------------------------\u001b[0m",
      "\u001b[0;31mTypeError\u001b[0m                                 Traceback (most recent call last)",
      "\u001b[0;32m<ipython-input-11-5ff78c8d8d0b>\u001b[0m in \u001b[0;36m<module>\u001b[0;34m()\u001b[0m\n\u001b[1;32m      1\u001b[0m \u001b[0mcities\u001b[0m \u001b[1;33m=\u001b[0m \u001b[0mnx\u001b[0m\u001b[1;33m.\u001b[0m\u001b[0mGraph\u001b[0m\u001b[1;33m(\u001b[0m\u001b[1;33m)\u001b[0m\u001b[1;33m\u001b[0m\u001b[0m\n\u001b[1;32m      2\u001b[0m \u001b[1;33m\u001b[0m\u001b[0m\n\u001b[0;32m----> 3\u001b[0;31m \u001b[0mcities\u001b[0m\u001b[1;33m.\u001b[0m\u001b[0madd_edge\u001b[0m\u001b[1;33m(\u001b[0m\u001b[1;34m'San Diego'\u001b[0m\u001b[1;33m,\u001b[0m \u001b[1;34m'Los Angeles'\u001b[0m\u001b[1;33m,\u001b[0m \u001b[1;33m{\u001b[0m \u001b[1;34m'distance'\u001b[0m\u001b[1;33m:\u001b[0m \u001b[1;36m0.4\u001b[0m\u001b[1;33m}\u001b[0m\u001b[1;33m)\u001b[0m\u001b[1;33m\u001b[0m\u001b[0m\n\u001b[0m\u001b[1;32m      4\u001b[0m \u001b[0mcities\u001b[0m\u001b[1;33m.\u001b[0m\u001b[0madd_edge\u001b[0m\u001b[1;33m(\u001b[0m\u001b[1;34m'New York'\u001b[0m\u001b[1;33m,\u001b[0m \u001b[1;34m'Nashville'\u001b[0m\u001b[1;33m,\u001b[0m \u001b[1;33m{\u001b[0m \u001b[1;34m'distance'\u001b[0m\u001b[1;33m:\u001b[0m \u001b[1;36m5.6\u001b[0m\u001b[1;33m}\u001b[0m\u001b[1;33m)\u001b[0m\u001b[1;33m\u001b[0m\u001b[0m\n\u001b[1;32m      5\u001b[0m \u001b[0mcities\u001b[0m\u001b[1;33m.\u001b[0m\u001b[0madd_edge\u001b[0m\u001b[1;33m(\u001b[0m\u001b[1;34m'Boston'\u001b[0m\u001b[1;33m,\u001b[0m \u001b[1;34m'D.C.'\u001b[0m\u001b[1;33m,\u001b[0m \u001b[1;33m{\u001b[0m \u001b[1;34m'distance'\u001b[0m\u001b[1;33m:\u001b[0m \u001b[1;36m0.8\u001b[0m\u001b[1;33m}\u001b[0m\u001b[1;33m)\u001b[0m\u001b[1;33m\u001b[0m\u001b[0m\n",
      "\u001b[0;31mTypeError\u001b[0m: add_edge() takes 3 positional arguments but 4 were given"
     ]
>>>>>>> upstream/master
    }
   ],
   "source": [
    "cities = nx.Graph()\n",
    "\n",
    "# cities.add_edge('San Diego', 'Los Angeles', { 'distance': 0.4})\n",
    "# cities.add_edge('New York', 'Nashville', { 'distance': 5.6})\n",
    "# cities.add_edge('Boston', 'D.C.', { 'distance': 0.8})\n",
    "\n",
    "cities.add_edge('San Diego', 'Los Angeles', distance= 0.4)\n",
    "cities.add_edge('New York', 'Nashville', distance= 5.6)\n",
    "cities.add_edge('Boston', 'D.C.', distance =0.8)\n",
    "\n",
    "nx.draw(cities)"
   ]
  },
  {
   "cell_type": "markdown",
   "metadata": {},
   "source": [
    "# Describing a network"
   ]
  },
  {
   "cell_type": "markdown",
   "metadata": {},
   "source": [
    "### Degree Distribution:\n",
    "\n",
    "\n",
    "\n",
    "<img src=\"img/graph.png\" style=\"float:left; padding-right:20px;\" width=\"200\" />\n",
    "\n",
    "- 1 node with 4 edges\n",
    "- 1 node with 2 edges\n",
    "- 4 nodes with 1 edge\n",
    "\n",
    "Distribution:\n",
    "\n",
    "    [(1:4), (1:2), (4:1)]\n"
   ]
  },
  {
   "cell_type": "code",
<<<<<<< HEAD
   "execution_count": 23,
   "metadata": {},
=======
   "execution_count": 12,
   "metadata": {
    "collapsed": false
   },
>>>>>>> upstream/master
   "outputs": [
    {
     "name": "stdout",
     "output_type": "stream",
     "text": [
<<<<<<< HEAD
      "Degree Distribution: [('A', 1), ('B', 2), ('D', 4), ('C', 1), ('E', 1), ('F', 1)]\n"
=======
      "Degree Distribution: [('B', 2), ('F', 1), ('D', 4), ('E', 1), ('A', 1), ('C', 1)]\n"
>>>>>>> upstream/master
     ]
    }
   ],
   "source": [
    "# Degree Distribution for all nodes\n",
    "print('Degree Distribution:', g.degree())"
   ]
  },
  {
   "cell_type": "code",
<<<<<<< HEAD
   "execution_count": 29,
   "metadata": {},
=======
   "execution_count": 13,
   "metadata": {
    "collapsed": false
   },
>>>>>>> upstream/master
   "outputs": [
    {
     "name": "stdout",
     "output_type": "stream",
     "text": [
      "Avg shortest path from A to E is 3 hops:\n",
      "['A', 'B', 'D', 'E']\n"
     ]
<<<<<<< HEAD
    },
    {
     "data": {
      "image/png": "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\n",
      "text/plain": [
       "<Figure size 432x288 with 1 Axes>"
      ]
     },
     "metadata": {},
     "output_type": "display_data"
=======
>>>>>>> upstream/master
    }
   ],
   "source": [
    "# Generate the graph above\n",
    "paths = nx.Graph()\n",
    "paths.add_edges_from([\n",
    "    ('A','B'), ('B','D'), ('B','C'), ('D','E'), ('D','C'),\n",
    "    ('C','1'), ('1','2'), ('1','3'), ('2','3'), \n",
    "    ('E','2'), ('E','4')])\n",
    "\n",
    "# Display average shortest path details\n",
    "nx.draw(paths)\n",
    "print('Avg shortest path from A to E is', nx.shortest_path_length(paths, 'A','E'), 'hops:')\n",
    "print(nx.shortest_path(paths, 'A','E'))"
   ]
  },
  {
   "cell_type": "markdown",
   "metadata": {},
   "source": [
    "## Network Centrality (the higher result is better!)\n",
    "\n",
    "* **Degree: number of edges** for node X\n",
    "* **Betweenness: number of shortest paths** that pass through node X\n",
    "* **Closeness: average of the shortest paths** between X and all other nodes\n",
    "\n",
    "<img src=\"img/centrality1.png\" style=\"float:left;\" width=\"400\" />\n",
    "<img src=\"img/centrality2.png\" style=\"float:left;\" width=\"200\" />\n",
    "\n"
   ]
  },
  {
   "cell_type": "code",
<<<<<<< HEAD
   "execution_count": 30,
   "metadata": {},
=======
   "execution_count": 14,
   "metadata": {
    "collapsed": false
   },
>>>>>>> upstream/master
   "outputs": [
    {
     "name": "stdout",
     "output_type": "stream",
     "text": [
      "Degree Centrality:\n",
<<<<<<< HEAD
      "[('A', 1), ('B', 2), ('D', 4), ('C', 1), ('E', 1), ('F', 1)]\n",
      "\n",
      "Degree Centrality, Normalized:\n",
      "{'A': 0.2, 'B': 0.4, 'D': 0.8, 'C': 0.2, 'E': 0.2, 'F': 0.2}\n"
=======
      "[('B', 2), ('F', 1), ('D', 4), ('E', 1), ('A', 1), ('C', 1)]\n",
      "\n",
      "Degree Centrality, Normalized:\n",
      "{'B': 0.4, 'F': 0.2, 'C': 0.2, 'E': 0.2, 'A': 0.2, 'D': 0.8}\n"
>>>>>>> upstream/master
     ]
    }
   ],
   "source": [
    "''' To calculate Degree Distribution for all nodes, use:\n",
    "    g.degree()  for non-normalized values,\n",
    "    nx.degree_centrality(g)   for normalized values\n",
    "'''\n",
    "\n",
    "# degree distrib., non-normalized\n",
    "print('Degree Centrality:')\n",
    "print(g.degree())\n",
    "\n",
    "# TODO degree distrib., normalized\n",
    "print('\\nDegree Centrality, Normalized:')\n",
    "print(nx.degree_centrality(g))\n"
   ]
  },
  {
   "cell_type": "code",
<<<<<<< HEAD
   "execution_count": 31,
   "metadata": {},
=======
   "execution_count": 15,
   "metadata": {
    "collapsed": false
   },
>>>>>>> upstream/master
   "outputs": [
    {
     "name": "stdout",
     "output_type": "stream",
     "text": [
      "Betweenness Centrality:\n",
<<<<<<< HEAD
      "{'A': 0.0, 'B': 4.0, 'D': 9.0, 'C': 0.0, 'E': 0.0, 'F': 0.0}\n",
      "\n",
      "Betweenness Centrality, Normalized:\n",
      "{'A': 0.0, 'B': 0.4, 'D': 0.9, 'C': 0.0, 'E': 0.0, 'F': 0.0}\n"
=======
      "{'B': 4.0, 'F': 0.0, 'C': 0.0, 'E': 0.0, 'A': 0.0, 'D': 9.0}\n",
      "\n",
      "Betweenness Centrality, Normalized:\n",
      "{'B': 0.4, 'F': 0.0, 'C': 0.0, 'E': 0.0, 'A': 0.0, 'D': 0.9}\n"
>>>>>>> upstream/master
     ]
    }
   ],
   "source": [
    "''' To calculate betweenness centrality, use:\n",
    "    nx.betweenness_centrality(g, normalized=True/False)   default is True\n",
    "'''\n",
    "\n",
    "# betweenness centrality, non-normalized\n",
    "print('Betweenness Centrality:')\n",
    "print(nx.betweenness_centrality(g, normalized=False))\n",
    "\n",
    "# betweenness centrality, normalized\n",
    "print('\\nBetweenness Centrality, Normalized:')\n",
    "print(nx.betweenness_centrality(g, normalized=True))\n"
   ]
  },
  {
   "cell_type": "code",
<<<<<<< HEAD
   "execution_count": 32,
   "metadata": {},
=======
   "execution_count": 16,
   "metadata": {
    "collapsed": false
   },
>>>>>>> upstream/master
   "outputs": [
    {
     "name": "stdout",
     "output_type": "stream",
     "text": [
      "Closeness Centrality:\n",
<<<<<<< HEAD
      "{'A': 0.4166666666666667, 'B': 0.625, 'D': 0.8333333333333334, 'C': 0.5, 'E': 0.5, 'F': 0.5}\n"
=======
      "{'B': 0.625, 'F': 0.5, 'C': 0.5, 'E': 0.5, 'A': 0.4166666666666667, 'D': 0.8333333333333334}\n"
>>>>>>> upstream/master
     ]
    }
   ],
   "source": [
    "''' to calculate closeness centrality, use:\n",
    "    nx.closeness_centrality(g)\n",
    "'''\n",
    "\n",
    "# find closeness centrality\n",
    "print('Closeness Centrality:')\n",
    "print(nx.closeness_centrality(g))"
   ]
  },
  {
   "cell_type": "markdown",
   "metadata": {},
   "source": [
    "# Back to Airline Networks\n",
    "\n",
    "Previously we used open flights to examine airline routes around the world.  We found that it was a bit of a pain to store the data in tables, and merge different information.  We can model it as network instead.  I've cleaned the data up a bit, and selected out only the routes operated by Delta, making it a bit more managable.  \n"
   ]
  },
  {
   "cell_type": "code",
<<<<<<< HEAD
   "execution_count": 33,
   "metadata": {},
=======
   "execution_count": 17,
   "metadata": {
    "collapsed": false
   },
>>>>>>> upstream/master
   "outputs": [
    {
     "data": {
      "text/html": [
       "<div>\n",
       "<style scoped>\n",
       "    .dataframe tbody tr th:only-of-type {\n",
       "        vertical-align: middle;\n",
       "    }\n",
       "\n",
       "    .dataframe tbody tr th {\n",
       "        vertical-align: top;\n",
       "    }\n",
       "\n",
       "    .dataframe thead th {\n",
       "        text-align: right;\n",
       "    }\n",
       "</style>\n",
       "<table border=\"1\" class=\"dataframe\">\n",
       "  <thead>\n",
       "    <tr style=\"text-align: right;\">\n",
       "      <th></th>\n",
       "      <th>Unnamed: 0</th>\n",
       "      <th>airline</th>\n",
       "      <th>airline_id</th>\n",
       "      <th>source</th>\n",
       "      <th>source_id</th>\n",
       "      <th>dest</th>\n",
       "      <th>dest_id</th>\n",
       "      <th>codeshare</th>\n",
       "      <th>stops</th>\n",
       "      <th>equipment</th>\n",
       "      <th>latitude_source</th>\n",
       "      <th>longitude_source</th>\n",
       "      <th>latitude_dest</th>\n",
       "      <th>longitude_dest</th>\n",
       "    </tr>\n",
       "  </thead>\n",
       "  <tbody>\n",
       "    <tr>\n",
       "      <th>0</th>\n",
       "      <td>0</td>\n",
       "      <td>DL</td>\n",
       "      <td>2009.0</td>\n",
       "      <td>ABE</td>\n",
       "      <td>4355.0</td>\n",
       "      <td>ATL</td>\n",
       "      <td>3682.0</td>\n",
       "      <td>NaN</td>\n",
       "      <td>0</td>\n",
       "      <td>717</td>\n",
       "      <td>40.652100</td>\n",
       "      <td>-75.440804</td>\n",
       "      <td>33.636700</td>\n",
       "      <td>-84.428101</td>\n",
       "    </tr>\n",
       "    <tr>\n",
       "      <th>1</th>\n",
       "      <td>1</td>\n",
       "      <td>DL</td>\n",
       "      <td>2009.0</td>\n",
       "      <td>ABQ</td>\n",
       "      <td>4019.0</td>\n",
       "      <td>ATL</td>\n",
       "      <td>3682.0</td>\n",
       "      <td>NaN</td>\n",
       "      <td>0</td>\n",
       "      <td>757 320</td>\n",
       "      <td>35.040199</td>\n",
       "      <td>-106.609001</td>\n",
       "      <td>33.636700</td>\n",
       "      <td>-84.428101</td>\n",
       "    </tr>\n",
       "    <tr>\n",
       "      <th>2</th>\n",
       "      <td>2</td>\n",
       "      <td>DL</td>\n",
       "      <td>2009.0</td>\n",
       "      <td>ABQ</td>\n",
       "      <td>4019.0</td>\n",
       "      <td>MSP</td>\n",
       "      <td>3858.0</td>\n",
       "      <td>NaN</td>\n",
       "      <td>0</td>\n",
       "      <td>320</td>\n",
       "      <td>35.040199</td>\n",
       "      <td>-106.609001</td>\n",
       "      <td>44.882000</td>\n",
       "      <td>-93.221802</td>\n",
       "    </tr>\n",
       "    <tr>\n",
       "      <th>3</th>\n",
       "      <td>3</td>\n",
       "      <td>DL</td>\n",
       "      <td>2009.0</td>\n",
       "      <td>ACC</td>\n",
       "      <td>248.0</td>\n",
       "      <td>JFK</td>\n",
       "      <td>3797.0</td>\n",
       "      <td>NaN</td>\n",
       "      <td>0</td>\n",
       "      <td>76W</td>\n",
       "      <td>5.605190</td>\n",
       "      <td>-0.166786</td>\n",
       "      <td>40.639801</td>\n",
       "      <td>-73.778900</td>\n",
       "    </tr>\n",
       "    <tr>\n",
       "      <th>4</th>\n",
       "      <td>4</td>\n",
       "      <td>DL</td>\n",
       "      <td>2009.0</td>\n",
       "      <td>ACC</td>\n",
       "      <td>248.0</td>\n",
       "      <td>ROB</td>\n",
       "      <td>1063.0</td>\n",
       "      <td>NaN</td>\n",
       "      <td>0</td>\n",
       "      <td>76W</td>\n",
       "      <td>5.605190</td>\n",
       "      <td>-0.166786</td>\n",
       "      <td>6.233790</td>\n",
       "      <td>-10.362300</td>\n",
       "    </tr>\n",
       "  </tbody>\n",
       "</table>\n",
       "</div>"
      ],
      "text/plain": [
       "   Unnamed: 0 airline  airline_id source  source_id dest  dest_id  codeshare  \\\n",
       "0           0      DL      2009.0    ABE     4355.0  ATL   3682.0        NaN   \n",
       "1           1      DL      2009.0    ABQ     4019.0  ATL   3682.0        NaN   \n",
       "2           2      DL      2009.0    ABQ     4019.0  MSP   3858.0        NaN   \n",
       "3           3      DL      2009.0    ACC      248.0  JFK   3797.0        NaN   \n",
       "4           4      DL      2009.0    ACC      248.0  ROB   1063.0        NaN   \n",
       "\n",
       "   stops equipment  latitude_source  longitude_source  latitude_dest  \\\n",
       "0      0       717        40.652100        -75.440804      33.636700   \n",
       "1      0   757 320        35.040199       -106.609001      33.636700   \n",
       "2      0       320        35.040199       -106.609001      44.882000   \n",
       "3      0       76W         5.605190         -0.166786      40.639801   \n",
       "4      0       76W         5.605190         -0.166786       6.233790   \n",
       "\n",
       "   longitude_dest  \n",
       "0      -84.428101  \n",
       "1      -84.428101  \n",
       "2      -93.221802  \n",
       "3      -73.778900  \n",
       "4      -10.362300  "
      ]
     },
<<<<<<< HEAD
     "execution_count": 33,
=======
     "execution_count": 17,
>>>>>>> upstream/master
     "metadata": {},
     "output_type": "execute_result"
    }
   ],
   "source": [
    "# read the data\n",
    "routes = pd.read_csv('data/delta_routes.csv')\n",
    "routes.head()"
   ]
  },
  {
   "cell_type": "markdown",
   "metadata": {},
   "source": [
    "### As a review, let's build an interactive map to see what this looks like\n",
    "\n"
   ]
  },
  {
   "cell_type": "code",
<<<<<<< HEAD
   "execution_count": 34,
   "metadata": {},
=======
   "execution_count": 18,
   "metadata": {
    "collapsed": true
   },
>>>>>>> upstream/master
   "outputs": [],
   "source": [
    "import pyproj\n",
    "import folium"
   ]
  },
  {
   "cell_type": "code",
<<<<<<< HEAD
   "execution_count": 35,
   "metadata": {},
=======
   "execution_count": 19,
   "metadata": {
    "collapsed": true
   },
>>>>>>> upstream/master
   "outputs": [],
   "source": [
    "\n",
    "# when creating a function, it is good practice to define the API!\n",
    "def getGreatCirclePoints(startlat, startlon, endlat, endlon): \n",
    "    \"\"\"\n",
    "    startlat - starting latitude \n",
    "    startlon - starting longitude \n",
    "    endlat   - ending latitude \n",
    "    endlon   - ending longitude \n",
    "    \n",
    "    returns - a list of tuples, where each tuple is the lat-long for a point\n",
    "              along the curve.  \n",
    "    \"\"\"\n",
    "    # calculate distance between points\n",
    "    g = pyproj.Geod(ellps='WGS84')\n",
    "    (az12, az21, dist) = g.inv(startlon, startlat, endlon, endlat)\n",
    "\n",
    "    # calculate line string along path with segments <= 20 km\n",
    "    lonlats = g.npts(startlon, startlat, endlon, endlat,\n",
    "                     1 + int(dist / 20000))\n",
    "\n",
    "    # the npts function uses lon-lat, while the folium functions use lat-lon\n",
    "    # This sort of thing is maddening!  What happens is the lines don't show\n",
    "    # up on the map and you don't know why.  Learn from my mistakes\n",
    "    latlons = []\n",
    "    for lon_lat in lonlats: \n",
    "        \n",
    "        # this is how you get values out of a tuple\n",
    "        (lon, lat) = lon_lat\n",
    "        \n",
    "        # add them to our list\n",
    "        latlons.append((lat, lon)) \n",
    "    \n",
    "    # npts doesn't include start/end points, so prepend/append them\n",
    "    latlons.insert(0, (startlat, startlon))\n",
    "    latlons.append((endlat, endlon))\n",
    "    \n",
    "    return latlons\n"
   ]
  },
  {
   "cell_type": "code",
<<<<<<< HEAD
   "execution_count": 37,
   "metadata": {},
=======
   "execution_count": 20,
   "metadata": {
    "collapsed": false
   },
>>>>>>> upstream/master
   "outputs": [],
   "source": [
    "# create a basic map, centered on Lexington\n",
    "m = folium.Map(\n",
    "    location=[38.034,-84.500],\n",
    "    tiles='Stamen Toner',\n",
    "    zoom_start=4\n",
    ")"
   ]
  },
  {
   "cell_type": "code",
<<<<<<< HEAD
   "execution_count": 38,
   "metadata": {},
=======
   "execution_count": 21,
   "metadata": {
    "collapsed": true
   },
>>>>>>> upstream/master
   "outputs": [],
   "source": [
    "# define the map in the same way, but use great circles for the lines\n",
    "\n",
    "# Define some empty sets\n",
    "airport_set = set()\n",
    "route_set = set()\n",
    "\n",
    "# Make sure we don't add duplicates, especially for the origins\n",
    "for name, row in routes.iterrows():\n",
    "    \n",
    "    if row['source'] not in airport_set: \n",
    "        popup_string = row['source']\n",
    "        marker = folium.CircleMarker([row[\"latitude_source\"], row[\"longitude_source\"]], \n",
    "                                     color='DarkCyan',\n",
    "                                     fill_color='DarkCyan', \n",
    "                                     radius=5, popup=popup_string)\n",
    "        marker.add_to(m)\n",
    "        airport_set.add(row['source'])\n",
    "        \n",
    "    if row['dest'] not in airport_set: \n",
    "        popup_string = row['dest']\n",
    "        marker = folium.CircleMarker([row[\"latitude_dest\"], row[\"longitude_dest\"]], \n",
    "                                     color='MidnightBlue',\n",
    "                                     fill_color='MidnightBlue', \n",
    "                                     radius=5, popup=popup_string)\n",
    "        marker.add_to(m)\n",
    "        airport_set.add(row['dest'])\n",
    "    \n",
    "    # PolyLine will accept a whole list of tuples, not just two\n",
    "    if (row['source'],row['dest']) not in route_set:            \n",
    "        popup_string = row['source'] + '-' + row['dest']       \n",
    "        \n",
    "        gc_points = getGreatCirclePoints(row[\"latitude_source\"], \n",
    "                                         row[\"longitude_source\"], \n",
    "                                         row[\"latitude_dest\"], \n",
    "                                         row[\"longitude_dest\"])\n",
    "        \n",
    "        line = folium.PolyLine(gc_points, weight=2, popup=popup_string)\n",
    "        line.add_to(m)\n",
    "        route_set.add((row['source'],row['dest']))\n",
    "        "
   ]
  },
  {
   "cell_type": "code",
<<<<<<< HEAD
   "execution_count": 40,
   "metadata": {},
   "outputs": [],
   "source": [
    "# m"
   ]
  },
  {
   "cell_type": "code",
   "execution_count": null,
=======
   "execution_count": 22,
>>>>>>> upstream/master
   "metadata": {
    "collapsed": true
   },
   "outputs": [],
   "source": [
    "# save it to its own file\n",
    "m.save(\"delta.html\")"
   ]
  },
  {
   "cell_type": "markdown",
   "metadata": {},
   "source": [
    "# Homework\n",
    "\n",
    "1. Represent the Delta flights as a network.  What are the nodes?  What are the links?\n",
    "2. Which is the most important airport in Delta's network?  Support your answer using appropriate network metrics.  \n",
    "3. How many flights are needed to reach Honolulu?  \n",
    "4. What is the maximum number of flights needed to reach any destination in Delta's network?\n",
    "5. Convert the network into a weighted network, using the travel time as the weight.  Assume that planes fly at 500 mph, plus 30 minutes to take off + 30 minutes to land.  \n",
    "6. How long does it take to travel to Honolulu, in flight times.  "
   ]
  },
  {
   "cell_type": "markdown",
   "metadata": {
    "collapsed": true
   },
   "source": [
    "Represent the Delta flights as a network. What are the nodes? What are the links?"
   ]
  },
  {
   "cell_type": "code",
   "execution_count": null,
   "metadata": {},
   "outputs": [],
   "source": [
    "# read the data\n",
    "routes = pd.read_csv('data/delta_routes.csv')\n",
    "routes.head()"
   ]
  }
 ],
 "metadata": {
  "anaconda-cloud": {},
  "kernelspec": {
   "display_name": "Python 3",
   "language": "python",
   "name": "python3"
  },
  "language_info": {
   "codemirror_mode": {
    "name": "ipython",
    "version": 3
   },
   "file_extension": ".py",
   "mimetype": "text/x-python",
   "name": "python",
   "nbconvert_exporter": "python",
   "pygments_lexer": "ipython3",
<<<<<<< HEAD
   "version": "3.7.4"
=======
   "version": "3.5.6"
>>>>>>> upstream/master
  }
 },
 "nbformat": 4,
 "nbformat_minor": 1
}
