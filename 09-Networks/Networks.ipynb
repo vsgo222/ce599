{
 "cells": [
  {
   "cell_type": "markdown",
   "metadata": {},
   "source": [
    "# Networks\n",
    "\n",
    "This lesson introduces the network data structure.  Aspects of this lesson are adapted from Andrew Brooks' tutorial on graph optimization.  \n",
    "\n",
    "https://www.datacamp.com/community/tutorials/networkx-python-graph-tutorial\n",
    "\n",
    "It also draws from theory material presented at PyCon 2015 by Celia La and Sarah Guido.  \n",
    "\n",
    "https://github.com/sarguido/networkx-tutorial\n",
    "\n",
    "You will need to install two packages:\n",
    "\n",
    "pip install networkx\n",
    "pip install imageio\n",
    "\n",
    "The networkx documentation is here: \n",
    "\n",
    "https://networkx.github.io/"
   ]
  },
  {
   "cell_type": "code",
   "execution_count": null,
   "metadata": {
    "collapsed": true
   },
   "outputs": [],
   "source": [
    "# imports\n",
    "import pandas as pd\n",
    "import networkx as nx\n",
    "import matplotlib.pyplot as plt\n",
    "\n",
    "%matplotlib inline"
   ]
  },
  {
   "cell_type": "markdown",
   "metadata": {
    "collapsed": true
   },
   "source": [
    "# Intro to NetworkX\n",
    "\n",
    "### Adding & editing graph nodes\n",
    "\n",
    "We'll first take a look at creating a graph, and adding/editing nodes:"
   ]
  },
  {
   "cell_type": "code",
   "execution_count": null,
   "metadata": {
    "collapsed": false
   },
   "outputs": [],
   "source": [
    "import networkx as nx\n",
    "\n",
    "'''use g = nx.Graph() to create a graph'''\n",
    "\n",
    "g = nx.Graph()\n",
    "\n",
    "'''Lesson: use .add_node(1) to add a single node'''\n",
    "g.add_node(1)\n",
    "\n",
    "'''Lesson: use .add_nodes_from([2, 3, 'four', 5])  to add in bulk'''\n",
    "g.add_nodes_from([2, 3, 'four', 5])\n",
    "\n",
    "g.nodes()  # run g.nodes() to view the graph"
   ]
  },
  {
   "cell_type": "code",
   "execution_count": null,
   "metadata": {
    "collapsed": false
   },
   "outputs": [],
   "source": [
    "'''Note that NetworkX won't complain if we re-add pre-existing nodes'''\n",
    "\n",
    "# TODO: try re-adding nodes to see what happens\n",
    "\n",
    "g.nodes()  # display nodes"
   ]
  },
  {
   "cell_type": "code",
   "execution_count": null,
   "metadata": {
    "collapsed": false
   },
   "outputs": [],
   "source": [
    "'''Lesson: remove syntax is similar to adding, eg:\n",
    "        .remove_node()\n",
    "        .remove_nodes_from()\n",
    "'''\n",
    "\n",
    "# TODO: try removing both 1) single nodes, 2) nodes in bulk\n",
    "\n",
    "\n",
    "\n",
    "g.nodes()  # display nodes"
   ]
  },
  {
   "cell_type": "markdown",
   "metadata": {},
   "source": [
    "### Adding & editing edges"
   ]
  },
  {
   "cell_type": "code",
   "execution_count": null,
   "metadata": {
    "collapsed": false
   },
   "outputs": [],
   "source": [
    "h = nx.Graph()  # let's create a 2nd graph to play with edges\n",
    "\n",
    "'''Lesson: to create an edge, just specify the 2 nodes that define it: \n",
    "        .add_edge('a','b')\n",
    "    Note that those nodes also get added (no need to make them beforehand!)\n",
    "'''\n",
    "\n",
    "h.add_edge('a', 'b')\n",
    "\n",
    "\n",
    "print('edges:', h.edges())  # see your new edge\n",
    "print('nodes:', h.nodes())  # verify that new nodes were also added"
   ]
  },
  {
   "cell_type": "markdown",
   "metadata": {},
   "source": [
    "### Visualizing graphs"
   ]
  },
  {
   "cell_type": "code",
   "execution_count": null,
   "metadata": {
    "collapsed": false
   },
   "outputs": [],
   "source": [
    "\n",
    "GREEN = \"#77DD77\"\n",
    "BLUE = \"#99CCFF\"\n",
    "\n",
    "nx.draw(g, node_color=GREEN, with_labels=True)\n",
    "nx.draw(h, node_color=BLUE, with_labels=True)\n",
    "\n"
   ]
  },
  {
   "cell_type": "markdown",
   "metadata": {},
   "source": [
    "#### How would you create the following graph?\n",
    "\n",
    "<img src=\"img/graph.png\" style=\"float:left\" width=\"200\" />"
   ]
  },
  {
   "cell_type": "code",
   "execution_count": null,
   "metadata": {
    "collapsed": true
   },
   "outputs": [],
   "source": [
    "g = nx.Graph()\n",
    "\n",
    "g.add_edges_from([('A','B'),('B','D'),('C','D'),('E','D'),('F','D')])"
   ]
  },
  {
   "cell_type": "markdown",
   "metadata": {},
   "source": [
    "# Directed graphs"
   ]
  },
  {
   "cell_type": "code",
   "execution_count": null,
   "metadata": {
    "collapsed": false
   },
   "outputs": [],
   "source": [
    "'''Lesson: use nx.DiGraph() to create a new directed graph\n",
    "'''\n",
    "\n",
    "dg = nx.DiGraph()\n",
    "\n",
    "\n",
    "dg.add_edges_from([(1,2), (2,3)])\n",
    "\n",
    "print('directed edges:', dg.edges())\n",
    "nx.draw(dg, node_color=GREEN, with_labels=True)\n"
   ]
  },
  {
   "cell_type": "code",
   "execution_count": null,
   "metadata": {
    "collapsed": false
   },
   "outputs": [],
   "source": [
    "'''We can make directed graphs from existing graphs, eg:\n",
    "        nx.DiGraph(g)\n",
    "'''\n",
    "\n",
    "dg = nx.DiGraph(g)\n",
    "\n",
    "\n",
    "nx.draw(dg, node_color=BLUE, with_labels=True)"
   ]
  },
  {
   "cell_type": "code",
   "execution_count": null,
   "metadata": {
    "collapsed": false
   },
   "outputs": [],
   "source": [
    "''' Notice that nodes A and B have TWO directed edges:\n",
    "        A -> B\n",
    "        B -> A\n",
    "'''\n",
    "\n",
    "dg.edges()"
   ]
  },
  {
   "cell_type": "markdown",
   "metadata": {},
   "source": [
    "### Adding attributes to nodes and edges\n",
    "\n",
    "Sometimes you may want to attach attributes to either the nodes or edges:\n",
    "\n",
    "* Perhaps you want to save node properties that will be helpful with future analysis\n",
    "* Perhaps you want to attach visual descriptions, such a node size, edge width or graph color"
   ]
  },
  {
   "cell_type": "code",
   "execution_count": null,
   "metadata": {
    "collapsed": false
   },
   "outputs": [],
   "source": [
    "cities = nx.Graph()\n",
    "\n",
    "cities.add_edge('San Diego', 'Los Angeles', { 'distance': 0.4})\n",
    "cities.add_edge('New York', 'Nashville', { 'distance': 5.6})\n",
    "cities.add_edge('Boston', 'D.C.', { 'distance': 0.8})\n",
    "\n",
    "nx.draw(cities)"
   ]
  },
  {
   "cell_type": "markdown",
   "metadata": {},
   "source": [
    "# Describing a network"
   ]
  },
  {
   "cell_type": "markdown",
   "metadata": {},
   "source": [
    "### Degree Distribution:\n",
    "\n",
    "\n",
    "\n",
    "<img src=\"img/graph.png\" style=\"float:left; padding-right:20px;\" width=\"200\" />\n",
    "\n",
    "- 1 node with 4 edges\n",
    "- 1 node with 2 edges\n",
    "- 4 nodes with 1 edge\n",
    "\n",
    "Distribution:\n",
    "\n",
    "    [(1:4), (1:2), (4:1)]\n"
   ]
  },
  {
   "cell_type": "code",
   "execution_count": null,
   "metadata": {
    "collapsed": false
   },
   "outputs": [],
   "source": [
    "# Degree Distribution for all nodes\n",
    "print('Degree Distribution:', g.degree())"
   ]
  },
  {
   "cell_type": "code",
   "execution_count": null,
   "metadata": {
    "collapsed": false
   },
   "outputs": [],
   "source": [
    "# Generate the graph above\n",
    "paths = nx.Graph()\n",
    "paths.add_edges_from([\n",
    "    ('A','B'), ('B','D'), ('B','C'), ('D','E'), ('D','C'),\n",
    "    ('C','1'), ('1','2'), ('1','3'), ('2','3'), \n",
    "    ('E','2'), ('E','4')])\n",
    "\n",
    "# Display average shortest path details\n",
    "print('Avg shortest path from A to E is', nx.shortest_path_length(paths, 'A','E'), 'hops:')\n",
    "print(nx.shortest_path(paths, 'A','E'))"
   ]
  },
  {
   "cell_type": "markdown",
   "metadata": {},
   "source": [
    "## Network Centrality (the higher result is better!)\n",
    "\n",
    "* **Degree: number of edges** for node X\n",
    "* **Betweenness: number of shortest paths** that pass through node X\n",
    "* **Closeness: average of the shortest paths** between X and all other nodes\n",
    "\n",
    "<img src=\"img/centrality1.png\" style=\"float:left;\" width=\"400\" />\n",
    "<img src=\"img/centrality2.png\" style=\"float:left;\" width=\"200\" />\n",
    "\n"
   ]
  },
  {
   "cell_type": "code",
   "execution_count": null,
   "metadata": {
    "collapsed": false
   },
   "outputs": [],
   "source": [
    "''' To calculate Degree Distribution for all nodes, use:\n",
    "    g.degree()  for non-normalized values,\n",
    "    nx.degree_centrality(g)   for normalized values\n",
    "'''\n",
    "\n",
    "# degree distrib., non-normalized\n",
    "print('Degree Centrality:')\n",
    "print(g.degree())\n",
    "\n",
    "# TODO degree distrib., normalized\n",
    "print('\\nDegree Centrality, Normalized:')\n",
    "print(nx.degree_centrality(g))\n"
   ]
  },
  {
   "cell_type": "code",
   "execution_count": null,
   "metadata": {
    "collapsed": false
   },
   "outputs": [],
   "source": [
    "''' To calculate betweenness centrality, use:\n",
    "    nx.betweenness_centrality(g, normalized=True/False)   default is True\n",
    "'''\n",
    "\n",
    "# betweenness centrality, non-normalized\n",
    "print('Betweenness Centrality:')\n",
    "print(nx.betweenness_centrality(g, normalized=False))\n",
    "\n",
    "# betweenness centrality, normalized\n",
    "print('\\nBetweenness Centrality, Normalized:')\n",
    "print(nx.betweenness_centrality(g, normalized=True))\n"
   ]
  },
  {
   "cell_type": "code",
   "execution_count": null,
   "metadata": {
    "collapsed": false
   },
   "outputs": [],
   "source": [
    "''' to calculate closeness centrality, use:\n",
    "    nx.closeness_centrality(g)\n",
    "'''\n",
    "\n",
    "# find closeness centrality\n",
    "print('Closeness Centrality:')\n",
    "print(nx.closeness_centrality(g))"
   ]
  },
  {
   "cell_type": "markdown",
   "metadata": {},
   "source": [
    "# Back to Airline Networks\n",
    "\n",
    "Previously we used open flights to examine airline routes around the world.  We found that it was a bit of a pain to store the data in tables, and merge different information.  We can model it as network instead.  I've cleaned the data up a bit, and selected out only the routes operated by Delta, making it a bit more managable.  \n"
   ]
  },
  {
   "cell_type": "code",
   "execution_count": null,
   "metadata": {
    "collapsed": false
   },
   "outputs": [],
   "source": [
    "# read the data\n",
    "routes = pd.read_csv('data/delta_routes.csv')\n",
    "routes.head()"
   ]
  },
  {
   "cell_type": "markdown",
   "metadata": {},
   "source": [
    "### As a review, let's build an interactive map to see what this looks like\n",
    "\n"
   ]
  },
  {
   "cell_type": "code",
   "execution_count": null,
   "metadata": {
    "collapsed": true
   },
   "outputs": [],
   "source": [
    "import pyproj\n",
    "import folium"
   ]
  },
  {
   "cell_type": "code",
   "execution_count": null,
   "metadata": {
    "collapsed": true
   },
   "outputs": [],
   "source": [
    "\n",
    "# when creating a function, it is good practice to define the API!\n",
    "def getGreatCirclePoints(startlat, startlon, endlat, endlon): \n",
    "    \"\"\"\n",
    "    startlat - starting latitude \n",
    "    startlon - starting longitude \n",
    "    endlat   - ending latitude \n",
    "    endlon   - ending longitude \n",
    "    \n",
    "    returns - a list of tuples, where each tuple is the lat-long for a point\n",
    "              along the curve.  \n",
    "    \"\"\"\n",
    "    # calculate distance between points\n",
    "    g = pyproj.Geod(ellps='WGS84')\n",
    "    (az12, az21, dist) = g.inv(startlon, startlat, endlon, endlat)\n",
    "\n",
    "    # calculate line string along path with segments <= 20 km\n",
    "    lonlats = g.npts(startlon, startlat, endlon, endlat,\n",
    "                     1 + int(dist / 20000))\n",
    "\n",
    "    # the npts function uses lon-lat, while the folium functions use lat-lon\n",
    "    # This sort of thing is maddening!  What happens is the lines don't show\n",
    "    # up on the map and you don't know why.  Learn from my mistakes\n",
    "    latlons = []\n",
    "    for lon_lat in lonlats: \n",
    "        \n",
    "        # this is how you get values out of a tuple\n",
    "        (lon, lat) = lon_lat\n",
    "        \n",
    "        # add them to our list\n",
    "        latlons.append((lat, lon)) \n",
    "    \n",
    "    # npts doesn't include start/end points, so prepend/append them\n",
    "    latlons.insert(0, (startlat, startlon))\n",
    "    latlons.append((endlat, endlon))\n",
    "    \n",
    "    return latlons\n"
   ]
  },
  {
   "cell_type": "code",
   "execution_count": null,
   "metadata": {
    "collapsed": false
   },
   "outputs": [],
   "source": [
    "# create a basic map, centered on Lexington\n",
    "m = folium.Map(\n",
    "    location=[38.034,-84.500],\n",
    "    tiles='Stamen Toner',\n",
    "    zoom_start=4\n",
    ")"
   ]
  },
  {
   "cell_type": "code",
   "execution_count": null,
   "metadata": {
    "collapsed": true
   },
   "outputs": [],
   "source": [
    "# define the map in the same way, but use great circles for the lines\n",
    "\n",
    "# Define some empty sets\n",
    "airport_set = set()\n",
    "route_set = set()\n",
    "\n",
    "# Make sure we don't add duplicates, especially for the origins\n",
    "for name, row in routes.iterrows():\n",
    "    \n",
    "    if row['source'] not in airport_set: \n",
    "        popup_string = row['source']\n",
    "        marker = folium.CircleMarker([row[\"latitude_source\"], row[\"longitude_source\"]], \n",
    "                                     color='DarkCyan',\n",
    "                                     fill_color='DarkCyan', \n",
    "                                     radius=5, popup=popup_string)\n",
    "        marker.add_to(m)\n",
    "        airport_set.add(row['source'])\n",
    "        \n",
    "    if row['dest'] not in airport_set: \n",
    "        popup_string = row['dest']\n",
    "        marker = folium.CircleMarker([row[\"latitude_dest\"], row[\"longitude_dest\"]], \n",
    "                                     color='MidnightBlue',\n",
    "                                     fill_color='MidnightBlue', \n",
    "                                     radius=5, popup=popup_string)\n",
    "        marker.add_to(m)\n",
    "        airport_set.add(row['dest'])\n",
    "    \n",
    "    # PolyLine will accept a whole list of tuples, not just two\n",
    "    if (row['source'],row['dest']) not in route_set:            \n",
    "        popup_string = row['source'] + '-' + row['dest']       \n",
    "        \n",
    "        gc_points = getGreatCirclePoints(row[\"latitude_source\"], \n",
    "                                         row[\"longitude_source\"], \n",
    "                                         row[\"latitude_dest\"], \n",
    "                                         row[\"longitude_dest\"])\n",
    "        \n",
    "        line = folium.PolyLine(gc_points, weight=2, popup=popup_string)\n",
    "        line.add_to(m)\n",
    "        route_set.add((row['source'],row['dest']))\n",
    "        "
   ]
  },
  {
   "cell_type": "code",
   "execution_count": null,
   "metadata": {
    "collapsed": true
   },
   "outputs": [],
   "source": [
    "# save it to its own file\n",
    "m.save(\"delta.html\")"
   ]
  },
  {
   "cell_type": "markdown",
   "metadata": {},
   "source": [
    "# Homework\n",
    "\n",
    "1. Represent the Delta flights as a network.  What are the nodes?  What are the links?\n",
    "2. Which is the most important airport in Delta's network?  Support your answer using appropriate network metrics.  \n",
    "3. How many flights are needed to reach Honolulu?  \n",
    "4. What is the maximum number of flights needed to reach any destination in Delta's network?\n",
    "5. Convert the network into a weighted network, using the travel time as the weight.  Assume that planes fly at 500 mph, plus 30 minutes to take off + 30 minutes to land.  \n",
    "6. How long does it take to travel to Honolulu, in flight times.  "
   ]
  },
  {
   "cell_type": "code",
   "execution_count": null,
   "metadata": {
    "collapsed": true
   },
   "outputs": [],
   "source": []
  }
 ],
 "metadata": {
  "anaconda-cloud": {},
  "kernelspec": {
   "display_name": "Python [default]",
   "language": "python",
   "name": "python3"
  },
  "language_info": {
   "codemirror_mode": {
    "name": "ipython",
    "version": 3
   },
   "file_extension": ".py",
   "mimetype": "text/x-python",
   "name": "python",
   "nbconvert_exporter": "python",
   "pygments_lexer": "ipython3",
   "version": "3.5.2"
  }
 },
 "nbformat": 4,
 "nbformat_minor": 1
}
