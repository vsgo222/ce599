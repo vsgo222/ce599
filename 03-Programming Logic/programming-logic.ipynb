{
 "cells": [
  {
   "cell_type": "markdown",
   "metadata": {},
   "source": [
    "# Programming Logic in Python\n"
   ]
  },
  {
   "cell_type": "markdown",
   "metadata": {},
   "source": [
    "So far we have learned about Python data types and some of the methods available to operate on them.  We managed to do a bit of functional programming to reorganize the contents of a string to change it into a different string. But real programming requires more tools.  This session will focus on the following tools:\n",
    "\n",
    "* Booleans\n",
    "* Conditionals\n",
    "* Iteration\n",
    "* Functions\n",
    "* Classes\n",
    "\n",
    "With these tools, we can begin to do some real programming."
   ]
  },
  {
   "cell_type": "markdown",
   "metadata": {},
   "source": [
    "## Booleans"
   ]
  },
  {
   "cell_type": "markdown",
   "metadata": {},
   "source": [
    "A Boolean expression is one that can be evaluated by Python and interpreted as being True or False.  You can think of it as making an assertion, and having Python tell you if you are right or not in making that assertion.  It does not pass moral judgments, but will tell you if your assertion is valid or not.  Programming logic is very literal, and Boolean tests are either True or False.    The == operator is an assertion that what is on the left of it is equivalent to what is on its right.  The >= operator is greater than or equal to, and != asserts that two objects are not the same. Don't be confused by the similarity of '=' and '==': one is an assignment of a value to a variable, and the other is a comparison operator.  \n",
    "\n",
    "Booleans are a pre-requisite for creating code that can branch depending on the outcome of a condition.  That condition is generally based on a Boolean test.  Some examples of boolean expressions:"
   ]
  },
  {
   "cell_type": "code",
   "execution_count": 1,
   "metadata": {},
   "outputs": [
    {
     "data": {
      "text/plain": [
       "True"
      ]
     },
     "execution_count": 1,
     "metadata": {},
     "output_type": "execute_result"
    }
   ],
   "source": [
    "# use == to evaluate if both sides are equivalent\n",
    "2 + 2 == 4"
   ]
  },
  {
   "cell_type": "code",
   "execution_count": 2,
   "metadata": {},
   "outputs": [
    {
     "data": {
      "text/plain": [
       "True"
      ]
     },
     "execution_count": 2,
     "metadata": {},
     "output_type": "execute_result"
    }
   ],
   "source": [
    "# you can also compare variables\n",
    "a = 1\n",
    "b = 1\n",
    "a == b"
   ]
  },
  {
   "cell_type": "code",
   "execution_count": 3,
   "metadata": {},
   "outputs": [
    {
     "data": {
      "text/plain": [
       "False"
      ]
     },
     "execution_count": 3,
     "metadata": {},
     "output_type": "execute_result"
    }
   ],
   "source": [
    "# > and < are greater than and less than\n",
    "a > 10"
   ]
  },
  {
   "cell_type": "code",
   "execution_count": 4,
   "metadata": {},
   "outputs": [
    {
     "data": {
      "text/plain": [
       "True"
      ]
     },
     "execution_count": 4,
     "metadata": {},
     "output_type": "execute_result"
    }
   ],
   "source": [
    "# >= and <= are greater than or equal to, and less than or equal to\n",
    "a >= 1"
   ]
  },
  {
   "cell_type": "code",
   "execution_count": 5,
   "metadata": {},
   "outputs": [
    {
     "data": {
      "text/plain": [
       "False"
      ]
     },
     "execution_count": 5,
     "metadata": {},
     "output_type": "execute_result"
    }
   ],
   "source": [
    "# != means does not equal\n",
    "a != b"
   ]
  },
  {
   "cell_type": "code",
   "execution_count": 6,
   "metadata": {},
   "outputs": [
    {
     "data": {
      "text/plain": [
       "False"
      ]
     },
     "execution_count": 6,
     "metadata": {},
     "output_type": "execute_result"
    }
   ],
   "source": [
    "# use and to return True if multiple conditions are satisfied\n",
    "c = 5\n",
    "c > 2 and c < 5"
   ]
  },
  {
   "cell_type": "code",
   "execution_count": 7,
   "metadata": {},
   "outputs": [
    {
     "data": {
      "text/plain": [
       "True"
      ]
     },
     "execution_count": 7,
     "metadata": {},
     "output_type": "execute_result"
    }
   ],
   "source": [
    "# use or to return True if either condition is satisfied\n",
    "c > 2 or c < 5"
   ]
  },
  {
   "cell_type": "code",
   "execution_count": 8,
   "metadata": {},
   "outputs": [
    {
     "data": {
      "text/plain": [
       "True"
      ]
     },
     "execution_count": 8,
     "metadata": {},
     "output_type": "execute_result"
    }
   ],
   "source": [
    "c == 5"
   ]
  },
  {
   "cell_type": "code",
   "execution_count": 9,
   "metadata": {},
   "outputs": [
    {
     "data": {
      "text/plain": [
       "False"
      ]
     },
     "execution_count": 9,
     "metadata": {},
     "output_type": "execute_result"
    }
   ],
   "source": [
    "# use not to negate some condition\n",
    "not (c == 5)"
   ]
  },
  {
   "cell_type": "code",
   "execution_count": 10,
   "metadata": {},
   "outputs": [
    {
     "data": {
      "text/plain": [
       "False"
      ]
     },
     "execution_count": 10,
     "metadata": {},
     "output_type": "execute_result"
    }
   ],
   "source": [
    "d = True\n",
    "not d"
   ]
  },
  {
   "cell_type": "code",
   "execution_count": 11,
   "metadata": {
    "scrolled": true
   },
   "outputs": [
    {
     "data": {
      "text/plain": [
       "True"
      ]
     },
     "execution_count": 11,
     "metadata": {},
     "output_type": "execute_result"
    }
   ],
   "source": [
    "# test whether something is contained in another object\n",
    "word = 'This'\n",
    "sentence = 'This is CP255'\n",
    "word in sentence"
   ]
  },
  {
   "cell_type": "code",
   "execution_count": 12,
   "metadata": {},
   "outputs": [
    {
     "data": {
      "text/plain": [
       "False"
      ]
     },
     "execution_count": 12,
     "metadata": {},
     "output_type": "execute_result"
    }
   ],
   "source": [
    "# or test whether it is not contained\n",
    "word not in sentence"
   ]
  },
  {
   "cell_type": "markdown",
   "metadata": {},
   "source": [
    "## If, Then, Else: controlling the flow of program execution"
   ]
  },
  {
   "cell_type": "markdown",
   "metadata": {},
   "source": [
    "Now that we know that we can construct Boolean tests for a wide variety of situations, let's explore how they can help us in constructing conditional execution.  We often need to have program code that 'branches', based on specific conditions. If one condition exists, do some specific things.  If a different condition exists, do some other specific things.  Let's look at how this works.\n",
    "\n",
    "Note the colon at the end of each of the if-related statements below, and the indentation of the block of text to be executed if the Boolean in the if statement evaluates as True.  Usually 4 spaces are used to indent code.  It is advisable to be very consistent with this. In an Ipython notebook, when you type an if statement and end it with a colon, the next line is automatically indented properly."
   ]
  },
  {
   "cell_type": "code",
   "execution_count": 13,
   "metadata": {},
   "outputs": [
    {
     "name": "stdout",
     "output_type": "stream",
     "text": [
      "9 is less than 10\n"
     ]
    }
   ],
   "source": [
    "# use an if statement to execute indented code only if some condition is true\n",
    "x = 9\n",
    "if x < 10:\n",
    "    print(str(x) + ' is less than 10')"
   ]
  },
  {
   "cell_type": "markdown",
   "metadata": {},
   "source": [
    "What happens if you put in a value of x = 11 in the code above? Not much.  The code does not have anything to do if the evaluation of the Boolean expression in the If statement returns a value of False.  We need more logic to handle different input values that may meet different conditions."
   ]
  },
  {
   "cell_type": "code",
   "execution_count": 14,
   "metadata": {},
   "outputs": [
    {
     "name": "stdout",
     "output_type": "stream",
     "text": [
      "3.5 is between 3 and 6\n"
     ]
    }
   ],
   "source": [
    "# you can chain conditions together with and/or\n",
    "# It is often helpful for clarity to group conditions with parentheses, especially as statements get more complex\n",
    "x = 3.5\n",
    "if (x >= 3) and (x <= 6):\n",
    "    print(x, 'is between 3 and 6')"
   ]
  },
  {
   "cell_type": "code",
   "execution_count": null,
   "metadata": {},
   "outputs": [],
   "source": [
    "# if the first if statement evaluates to false, you can add other Boolean tests using elif (short for Else If).\n",
    "# elif executes a code block if its condition is true\n",
    "# Else executes a code block if no preceding if or elif evaluated to true, it catches everything else.\n",
    "x = 10\n",
    "if x < 10:\n",
    "    print('x is less than 10')\n",
    "elif x == 10:\n",
    "    print('x equals 10')\n",
    "else:\n",
    "    print('x is greater than 10')"
   ]
  },
  {
   "cell_type": "markdown",
   "metadata": {},
   "source": [
    "Your turn: \n",
    "\n",
    "Write a conditional statement that prints 'yes' if today's day of the month is in the list [1,3,4,28,30] and 'no' otherwise. "
   ]
  },
  {
   "cell_type": "code",
   "execution_count": 19,
   "metadata": {},
   "outputs": [
    {
     "name": "stdout",
     "output_type": "stream",
     "text": [
      "Yes. Date is part of the list\n"
     ]
    }
   ],
   "source": [
    "x=4\n",
    "num_list = [1,3,4,28,30]\n",
    "if x == 1:\n",
    "    print('Yes. Date is part of the list')\n",
    "elif x == 3:\n",
    "    print('Yes. Date is part of the list')\n",
    "elif x == 4:\n",
    "    print('Yes. Date is part of the list')\n",
    "elif x == 28:\n",
    "    print('Yes. Date is part of the list')\n",
    "elif x == 30:\n",
    "    print('Yes. Date is part of the list')\n",
    "else:\n",
    "    print(\"No\")"
   ]
  },
  {
   "cell_type": "markdown",
   "metadata": {},
   "source": [
    "## Iteration\n",
    "\n",
    "One of the most powerful tools in programming is its capacity to automate repetitive tasks.  Much of this comes from functionality to apply operations iteratively.  We review here some of the ways to use this functionality in Python.\n",
    "\n",
    "A very useful thing to know is that many of the data types we have looked at are **iterable**.  That means that Python already knows how to iterate over its elements.  Combined with a **for** statement, this enables iteration of commands."
   ]
  },
  {
   "cell_type": "code",
   "execution_count": 20,
   "metadata": {},
   "outputs": [
    {
     "name": "stdout",
     "output_type": "stream",
     "text": [
      "T h i s   i s   C P 2 5 5 "
     ]
    }
   ],
   "source": [
    "# create a for loop to iterate through each character in the string\n",
    "sentence = 'This is CP255'\n",
    "for character in sentence:\n",
    "    print(character, end=' ')"
   ]
  },
  {
   "cell_type": "markdown",
   "metadata": {},
   "source": [
    "Below we use a while statement to execute a command repeatedly, until a condition is no longer True.  Note that if you use a while loop like this and don't provide clear logic to exit the loop, you will have an infinite loop!  If you do this, interrupt the kernel."
   ]
  },
  {
   "cell_type": "code",
   "execution_count": 21,
   "metadata": {},
   "outputs": [
    {
     "name": "stdout",
     "output_type": "stream",
     "text": [
      "5\n",
      "4\n",
      "3\n",
      "2\n",
      "1\n",
      "blast off!\n"
     ]
    }
   ],
   "source": [
    "# a while loop repeats as long as some condition is True\n",
    "x = 5\n",
    "while x > 0:\n",
    "    print(x)\n",
    "    x = x - 1\n",
    "print('blast off!')"
   ]
  },
  {
   "cell_type": "code",
   "execution_count": 22,
   "metadata": {},
   "outputs": [
    {
     "data": {
      "text/plain": [
       "[0, 1, 2, 3, 4, 5, 6, 7, 8, 9]"
      ]
     },
     "execution_count": 22,
     "metadata": {},
     "output_type": "execute_result"
    }
   ],
   "source": [
    "# add the numbers 0 to 10 to a list\n",
    "my_list = []\n",
    "x = 0\n",
    "while x < 10:\n",
    "    my_list.append(x)\n",
    "    x = x + 1 \n",
    "my_list"
   ]
  },
  {
   "cell_type": "code",
   "execution_count": 23,
   "metadata": {},
   "outputs": [
    {
     "data": {
      "text/plain": [
       "[2, 4, 6, 8, 10, 12]"
      ]
     },
     "execution_count": 23,
     "metadata": {},
     "output_type": "execute_result"
    }
   ],
   "source": [
    "# create a list of even numbers\n",
    "even_numbers = [2, 4, 6, 8, 10, 12]\n",
    "even_numbers"
   ]
  },
  {
   "cell_type": "code",
   "execution_count": 29,
   "metadata": {},
   "outputs": [
    {
     "data": {
      "text/plain": [
       "[4, 8, 12, 16, 20, 24]"
      ]
     },
     "execution_count": 29,
     "metadata": {},
     "output_type": "execute_result"
    }
   ],
   "source": [
    "# iterate through the list, creating a new list with each element multiplied by 2\n",
    "double = []\n",
    "for item in even_numbers:    \n",
    "    double.append(item * 2)\n",
    "double\n"
   ]
  },
  {
   "cell_type": "code",
   "execution_count": 30,
   "metadata": {},
   "outputs": [
    {
     "name": "stdout",
     "output_type": "stream",
     "text": [
      "6 8 "
     ]
    }
   ],
   "source": [
    "# print out only the ints in a list of mixed int and floats\n",
    "my_list = [3.3, 19.75, 6, 3.3, 8]\n",
    "for element in my_list:\n",
    "    if isinstance(element, int):\n",
    "        print(element, end=' ')"
   ]
  },
  {
   "cell_type": "code",
   "execution_count": 31,
   "metadata": {},
   "outputs": [
    {
     "data": {
      "text/plain": [
       "2"
      ]
     },
     "execution_count": 31,
     "metadata": {},
     "output_type": "execute_result"
    }
   ],
   "source": [
    "# how many times does the value 3.3 appear in my_list?\n",
    "def count_occurrences(my_list):\n",
    "    #initialize a counter to keep track\n",
    "    count = 0 \n",
    "    for element in my_list:\n",
    "        if element == 3.3:\n",
    "            #add one to the counter each time we find the value\n",
    "            count = count + 1 \n",
    "    return count\n",
    "\n",
    "count_occurrences(my_list)"
   ]
  },
  {
   "cell_type": "markdown",
   "metadata": {},
   "source": [
    "Your turn:\n",
    "\n",
    "Loop through the months of the year, printing the number of days in each month. "
   ]
  },
  {
   "cell_type": "code",
   "execution_count": 37,
   "metadata": {},
   "outputs": [
    {
     "name": "stdout",
     "output_type": "stream",
     "text": [
      "Number of days in January == 31\n",
      "Number of days in February == 28\n",
      "Number of days in March == 31\n",
      "Number of days in April == 30\n",
      "Number of days in May == 31\n",
      "Number of days in June == 30\n",
      "Number of days in July == 31\n",
      "Number of days in August == 31\n",
      "Number of days in September == 30\n",
      "Number of days in October == 31\n",
      "Number of days in November == 30\n",
      "Number of days in December == 31\n"
     ]
    }
   ],
   "source": [
    "months = [\"January\",\"February\",\"March\", \"April\",\"May\",\"June\",\"July\",\"August\",\"September\", \"October\",\"November\",\"December\"]\n",
    "for month in months:\n",
    "    if month == \"January\" or month == \"March\" or month == \"May\" or month == \"July\" or month == \"August\" or month == \"October\" or month == \"December\":\n",
    "        print(\"Number of days in \" + month +\" == 31\")\n",
    "    elif month == \"February\":\n",
    "        print(\"Number of days in \" + month +\" == 28\")\n",
    "    else:\n",
    "        print(\"Number of days in \" + month +\" == 30\")\n"
   ]
  },
  {
   "cell_type": "markdown",
   "metadata": {},
   "source": [
    "### Range Function\n",
    "\n",
    "The Python range function in Python 3 creates a new object that is of type range, which is iterable.  In Python 2, range created a list."
   ]
  },
  {
   "cell_type": "code",
   "execution_count": 38,
   "metadata": {},
   "outputs": [
    {
     "name": "stdout",
     "output_type": "stream",
     "text": [
      "range(0, 10)\n",
      "[0, 1, 2, 3, 4, 5, 6, 7, 8, 9]\n"
     ]
    }
   ],
   "source": [
    "# the range function returns a list of numbers from 0 up to (but not including) the value in the argument\n",
    "a = range(10)\n",
    "print(a)\n",
    "print(list(a))"
   ]
  },
  {
   "cell_type": "code",
   "execution_count": 39,
   "metadata": {},
   "outputs": [
    {
     "data": {
      "text/plain": [
       "[0, 1, 2, 3, 4, 5, 6, 7, 8, 9, 10]"
      ]
     },
     "execution_count": 39,
     "metadata": {},
     "output_type": "execute_result"
    }
   ],
   "source": [
    "# because range goes up to but does not include the ending number, you can add 1 to capture it\n",
    "n = 10\n",
    "list(range(n + 1))"
   ]
  },
  {
   "cell_type": "code",
   "execution_count": 40,
   "metadata": {},
   "outputs": [
    {
     "name": "stdout",
     "output_type": "stream",
     "text": [
      "range(2, 12, 2)\n"
     ]
    },
    {
     "data": {
      "text/plain": [
       "[2, 4, 6, 8, 10]"
      ]
     },
     "execution_count": 40,
     "metadata": {},
     "output_type": "execute_result"
    }
   ],
   "source": [
    "# range optionally lets you specify a starting number, an ending number, and a step as arguments\n",
    "numbers = range(2, 12, 2)\n",
    "print(numbers)\n",
    "list(numbers)"
   ]
  },
  {
   "cell_type": "code",
   "execution_count": 41,
   "metadata": {},
   "outputs": [
    {
     "data": {
      "text/plain": [
       "[2, 4, 6, 8, 10]"
      ]
     },
     "execution_count": 41,
     "metadata": {},
     "output_type": "execute_result"
    }
   ],
   "source": [
    "# you can do the same thing with variables\n",
    "start = 2\n",
    "end = 12\n",
    "step = 2\n",
    "list(range(start, end, step))"
   ]
  },
  {
   "cell_type": "code",
   "execution_count": 42,
   "metadata": {},
   "outputs": [
    {
     "name": "stdout",
     "output_type": "stream",
     "text": [
      "4\n",
      "8\n",
      "12\n",
      "16\n",
      "20\n"
     ]
    }
   ],
   "source": [
    "# iterate through the list, printing each element multiplied by 2\n",
    "for number in numbers:\n",
    "    print(number * 2)"
   ]
  },
  {
   "cell_type": "markdown",
   "metadata": {},
   "source": [
    "Your turn: \n",
    "\n",
    "Use a range to loop through and print the numbers 1 through 10. "
   ]
  },
  {
   "cell_type": "code",
   "execution_count": 50,
   "metadata": {},
   "outputs": [
    {
     "data": {
      "text/plain": [
       "[1, 2, 3, 4, 5, 6, 7, 8, 9, 10]"
      ]
     },
     "execution_count": 50,
     "metadata": {},
     "output_type": "execute_result"
    }
   ],
   "source": [
    "list(range(1,11,1))"
   ]
  },
  {
   "cell_type": "code",
   "execution_count": 49,
   "metadata": {},
   "outputs": [
    {
     "name": "stdout",
     "output_type": "stream",
     "text": [
      "1\n",
      "2\n",
      "3\n",
      "4\n",
      "5\n",
      "6\n",
      "7\n",
      "8\n",
      "9\n",
      "10\n"
     ]
    }
   ],
   "source": [
    "for number in range(1,11,1):\n",
    "    print (number)"
   ]
  },
  {
   "cell_type": "markdown",
   "metadata": {},
   "source": [
    "### List Comprehension"
   ]
  },
  {
   "cell_type": "code",
   "execution_count": 51,
   "metadata": {},
   "outputs": [
    {
     "data": {
      "text/plain": [
       "[0, 1, 2, 3, 4]"
      ]
     },
     "execution_count": 51,
     "metadata": {},
     "output_type": "execute_result"
    }
   ],
   "source": [
    "# list comprehension lets you create a list based on some expression\n",
    "new_list = [x for x in range(5)]\n",
    "new_list"
   ]
  },
  {
   "cell_type": "code",
   "execution_count": 52,
   "metadata": {},
   "outputs": [
    {
     "data": {
      "text/plain": [
       "[1, 2, 3, 4, 5]"
      ]
     },
     "execution_count": 52,
     "metadata": {},
     "output_type": "execute_result"
    }
   ],
   "source": [
    "# you can perform operations within a list comprehension\n",
    "[ x + 1 for x in range(5) ]"
   ]
  },
  {
   "cell_type": "code",
   "execution_count": 53,
   "metadata": {},
   "outputs": [
    {
     "data": {
      "text/plain": [
       "['4', '8', '12', '16', '20']"
      ]
     },
     "execution_count": 53,
     "metadata": {},
     "output_type": "execute_result"
    }
   ],
   "source": [
    "# you can use list comprehension to convert a list of ints to a new list of strings\n",
    "string_list = [str(x * 2) for x in range(2, 12, 2)]\n",
    "string_list"
   ]
  },
  {
   "cell_type": "markdown",
   "metadata": {},
   "source": [
    "Your turn:\n",
    "\n",
    "Write the cell above using an 'expanded' for loop similar to those shown in the Iteration section above. "
   ]
  },
  {
   "cell_type": "code",
   "execution_count": 54,
   "metadata": {},
   "outputs": [
    {
     "data": {
      "text/plain": [
       "['4', '8', '12', '16', '20']"
      ]
     },
     "execution_count": 54,
     "metadata": {},
     "output_type": "execute_result"
    }
   ],
   "source": [
    "nlist = []\n",
    "for number in range(2,12,2):\n",
    "    nlist.append(str(number*2))\n",
    "\n",
    "nlist"
   ]
  },
  {
   "cell_type": "markdown",
   "metadata": {
    "collapsed": true
   },
   "source": [
    "### More Ways to Use Loops"
   ]
  },
  {
   "cell_type": "code",
   "execution_count": 55,
   "metadata": {},
   "outputs": [
    {
     "name": "stdout",
     "output_type": "stream",
     "text": [
      "gallahad the pure\n",
      "robin the brave\n"
     ]
    }
   ],
   "source": [
    "# Using items to retrieve corresponding key, value pairs from a dictionary\n",
    "knights = {'gallahad': 'the pure', 'robin': 'the brave'}\n",
    "for k, v in knights.items():\n",
    "    print(k, v)"
   ]
  },
  {
   "cell_type": "code",
   "execution_count": 56,
   "metadata": {},
   "outputs": [
    {
     "name": "stdout",
     "output_type": "stream",
     "text": [
      "0 tic\n",
      "1 tac\n",
      "2 toe\n"
     ]
    }
   ],
   "source": [
    "# Using the enumerate() function to retrieve the position index and value from a sequence\n",
    "for i, v in enumerate(['tic', 'tac', 'toe']):\n",
    "    print(i, v)"
   ]
  },
  {
   "cell_type": "code",
   "execution_count": 57,
   "metadata": {},
   "outputs": [
    {
     "name": "stdout",
     "output_type": "stream",
     "text": [
      "What is your name?  It is lancelot.\n",
      "What is your quest?  It is the holy grail.\n",
      "What is your favorite color?  It is blue.\n"
     ]
    }
   ],
   "source": [
    "# Looping over two lists together, paired using zip, which creates a iterable sequence of tuples\n",
    "questions = ['name', 'quest', 'favorite color']\n",
    "answers = ['lancelot', 'the holy grail', 'blue']\n",
    "for q, a in zip(questions, answers):\n",
    "    print('What is your {0}?  It is {1}.'.format(q, a))\n"
   ]
  },
  {
   "cell_type": "code",
   "execution_count": 59,
   "metadata": {},
   "outputs": [
    {
     "name": "stdout",
     "output_type": "stream",
     "text": [
      "9\n",
      "7\n",
      "5\n",
      "3\n",
      "1\n",
      "2\n",
      "4\n",
      "6\n",
      "8\n",
      "10\n"
     ]
    }
   ],
   "source": [
    "# Looping over a sequence in reverse order, by constructing the sequence and then calling a reversed() function\n",
    "for i in reversed(range(1, 10, 2)):\n",
    "    print(i)\n",
    "    \n",
    "for i in reversed(range(10,1, -2)):\n",
    "    print(i)"
   ]
  },
  {
   "cell_type": "code",
   "execution_count": null,
   "metadata": {},
   "outputs": [],
   "source": [
    "# Loop over a sorted sequence, leaving the original sequence unaltered\n",
    "basket = ['apple', 'orange', 'apple', 'pear', 'orange', 'banana']\n",
    "for f in sorted(set(basket)):\n",
    "    print(f)\n",
    "    \n",
    "print(basket)"
   ]
  },
  {
   "cell_type": "markdown",
   "metadata": {},
   "source": [
    "Your turn:\n",
    "\n",
    "Create a dictionary where the key is the name of a country, and the value is the most popular sport in that country.  (Use the countries represented in the class.)  Loop through the dictionary, and for each, print: \"The most popular sport in X is Y\", where X and Y are the country and the sport"
   ]
  },
  {
   "cell_type": "code",
   "execution_count": 3,
   "metadata": {},
   "outputs": [
    {
     "name": "stdout",
     "output_type": "stream",
     "text": [
      "The most popular sport in India is Cricket\n",
      "The most popular sport in Lebanon is Football\n",
      "The most popular sport in Ghana is Football\n"
     ]
    }
   ],
   "source": [
    "d = {\"India\":\"Cricket\",\"Lebanon\":\"Football\",\"Ghana\":\"Football\"}\n",
    "\n",
    "for key, value in d.items():\n",
    "    print(\"The most popular sport in {0} is {1}\".format(key,value))\n",
    "    "
   ]
  },
  {
   "cell_type": "markdown",
   "metadata": {},
   "source": [
    "# Functions and Classes\n",
    "\n",
    "## Functions\n",
    "\n",
    "You can group programming steps into functions to be able to reuse them easily and flexibly, on different inputs.\n",
    "\n",
    "Note the syntax.  A function definition begins with the word def.  It then has a name for the function, which you choose (just avoid reserved words). A convention in Python is to use lower case words, separated by undescrores, for function names. It then has parentheses containing one or more elements, which are known as arguments to a function. These are the names of the values that you intend to pass to the function to evaluate.  Notice also the indentation of the block of code defining the function, which itself may contain indentation for embedded if statements or other program logic.\n",
    "\n",
    "Below we nest the series of if/elif/else statements into a function we call "
   ]
  },
  {
   "cell_type": "code",
   "execution_count": null,
   "metadata": {},
   "outputs": [],
   "source": [
    "# encapsulation turns a handful of statements into a reusable function\n",
    "def compare_to_10(value):\n",
    "    if value < 10:\n",
    "        print(value, 'is less than 10')\n",
    "    elif value == 10:\n",
    "        print(value, 'equals 10')\n",
    "    else:\n",
    "        print(value, 'is greater than 10')\n",
    "        \n",
    "# now call the function\n",
    "compare_to_10(7)"
   ]
  },
  {
   "cell_type": "code",
   "execution_count": null,
   "metadata": {},
   "outputs": [],
   "source": [
    "# Try passing an argument with a calculation in it.  It works also, because Python \n",
    "# evaluates the argument and passes the resulting object into the function:\n",
    "compare_to_10((2*2)**2)"
   ]
  },
  {
   "cell_type": "markdown",
   "metadata": {},
   "source": [
    "Your function can return results that you can use elsewhere in your code. Here is an example function with two arguments that it compares.  Note that executing this code block does not produce any output. It only defines the function.\n",
    "\n",
    "Note the new syntax in this example.  We use **return** to send back to whatever called the function, a specific result, rather than just printing a value to the output.  This is what makes it possible to call the function in your code, and get the results back, potentially to operate on, as in this case with simple print statements.\n"
   ]
  },
  {
   "cell_type": "code",
   "execution_count": null,
   "metadata": {
    "collapsed": true
   },
   "outputs": [],
   "source": [
    "def greater_than(x, y):\n",
    "    if x > y:\n",
    "        return True\n",
    "    else:\n",
    "        return False"
   ]
  },
  {
   "cell_type": "code",
   "execution_count": null,
   "metadata": {},
   "outputs": [],
   "source": [
    "print(greater_than(3, 5))\n",
    "print(greater_than(5, 3))"
   ]
  },
  {
   "cell_type": "markdown",
   "metadata": {},
   "source": [
    "Here is a more complex function that calculates a Fibonacci series up to n.  Fibonacci series have the property that the sum of two adjacent numbers in the list equals the next value in the list.  Notice the statement in triple quotation marks following the def statement -- it is a 'docstring', which Python can use to generate documentation for a function."
   ]
  },
  {
   "cell_type": "code",
   "execution_count": null,
   "metadata": {},
   "outputs": [],
   "source": [
    "def fib_func(n):    # write Fibonacci series up to n\n",
    "    \"\"\"Print a Fibonacci series up to n.\n",
    "    \"\"\"\n",
    "    a, b = 0, 1\n",
    "    while a < n:\n",
    "        print(a, end=' ')\n",
    "        a, b = b, a+b\n",
    "    print()\n",
    "    \n",
    "fib_func(1000)"
   ]
  },
  {
   "cell_type": "code",
   "execution_count": null,
   "metadata": {},
   "outputs": [],
   "source": [
    "# print the doctring for a function\n",
    "print(fib_func.__doc__)"
   ]
  },
  {
   "cell_type": "code",
   "execution_count": null,
   "metadata": {
    "collapsed": true
   },
   "outputs": [],
   "source": [
    "# what happens when we ask for help?\n",
    "fib_func?"
   ]
  },
  {
   "cell_type": "markdown",
   "metadata": {},
   "source": [
    "Your turn: \n",
    "\n",
    "Add a logical docstring to the compare_to_10 function.  Test that it works properly. "
   ]
  },
  {
   "cell_type": "code",
   "execution_count": 8,
   "metadata": {},
   "outputs": [
    {
     "name": "stdout",
     "output_type": "stream",
     "text": [
      "The 9.98 is less than 10\n"
     ]
    }
   ],
   "source": [
    "def compare_to_10(value): # intake a user defined number\n",
    "    \"\"\"\n",
    "        Passed number compared to 10. Returns conclusion of comparision.        \n",
    "    \"\"\"\n",
    "    if 10>value:\n",
    "        print(\"The {0} is less than 10\".format(value))\n",
    "    elif 10 ==value:\n",
    "        print(\"The {0} is equal to 10\".format(value))\n",
    "    else:\n",
    "        print(\"The {0} is greater than 10\".format(value))\n",
    "        \n",
    "compare_to_10(9.98)"
   ]
  },
  {
   "cell_type": "code",
   "execution_count": 10,
   "metadata": {},
   "outputs": [],
   "source": [
    "compare_to_10?"
   ]
  },
  {
   "cell_type": "markdown",
   "metadata": {},
   "source": [
    "## Classes\n",
    "\n",
    "Classes create objects that can bundle attributes and functions together.  Functions within classes are referred to as methods of that class.  Let's look at a simple example of a class, one that defines points in a Cartesian coordinate system.  The class definition begins like a function definition, using 'def' and then the name of the class -- using a norm that class names are capitalized -- followed by a colon, and an indented block of code containing the logic defining the class attributes and methods.\n",
    "\n",
    "The first two methods use reserved names in Python. The __init__ method is executed whenever an instance of class Point is created -- whenever the class is called and passed two arguments specifying an x coordinate and a y coordinate. Notice that the method has three arguments. __self__ refers to the instance of an object of type point being created.  The other two are the x and y coordinates passes to the constructor of the point object when a point is created, and will be the attributes of the point. The __str__ method will be executed whenever a Point needs to be printed. The other methods are user defined methods specific to points."
   ]
  },
  {
   "cell_type": "code",
   "execution_count": 14,
   "metadata": {},
   "outputs": [],
   "source": [
    "# Import the math library to use methods like sqrt\n",
    "import math\n",
    "\n",
    "class Point:\n",
    "\n",
    "    def __init__(self, x, y):\n",
    "        self.x = x\n",
    "        self.y = y\n",
    "\n",
    "    def __str__(self):\n",
    "        return \"Point(%d, %d)\" % (self.x, self.y)\n",
    "\n",
    "    def distance_from_origin(self):\n",
    "        return math.sqrt(self.x**2 + self.y**2)\n",
    "\n",
    "    def distance(self, p2):\n",
    "        return math.sqrt((p2.x - self.x)**2 + (p2.y - self.y)**2)\n",
    "    \n",
    "    def move(self, _x,_y):        \n",
    "        self.x = self.x + _x\n",
    "        self.y = self.y + _y\n",
    "        return \"The point has moved to a new coordinates (%d, %d)\" % (self.x, self.y)"
   ]
  },
  {
   "cell_type": "markdown",
   "metadata": {},
   "source": [
    "Classes are useful for defining general functionality that is bundled to handle repeated use.  It enables creating instances of objects of the type defined in the class, which inherit its attributes and methods."
   ]
  },
  {
   "cell_type": "code",
   "execution_count": null,
   "metadata": {
    "collapsed": true
   },
   "outputs": [],
   "source": [
    "# Here we just create two new objects, p1 and p2, that are specific instances of class Point, and inherit its\n",
    "# attributes and methods\n",
    "p1 = Point(3,4)\n",
    "p2 = Point(1,1)"
   ]
  },
  {
   "cell_type": "code",
   "execution_count": null,
   "metadata": {},
   "outputs": [],
   "source": [
    "# If we just type p1, Python will tell us that it exists, and is an object of type Point\n",
    "p1"
   ]
  },
  {
   "cell_type": "code",
   "execution_count": null,
   "metadata": {},
   "outputs": [],
   "source": [
    "# Using method __str__ we can print the attributes of each instance of point\n",
    "print(p1)\n",
    "print(p2)"
   ]
  },
  {
   "cell_type": "code",
   "execution_count": null,
   "metadata": {},
   "outputs": [],
   "source": [
    "# Or print specified attributes\n",
    "print(p1.x)\n",
    "print(p2.x)"
   ]
  },
  {
   "cell_type": "code",
   "execution_count": null,
   "metadata": {},
   "outputs": [],
   "source": [
    "# And we can call the other methods of class point to return calculations on these specific instances\n",
    "print('p1 distance from origin: ', p1.distance_from_origin())\n",
    "print('p2 distance from origin:', p2.distance_from_origin())\n",
    "print('distance between p1 and p2: ', p1.distance(p2))"
   ]
  },
  {
   "cell_type": "markdown",
   "metadata": {},
   "source": [
    "Your turn:\n",
    "\n",
    "Add a method to the class Point called move().  Move should accept two arguments (in addition to self): x and y, where the point is moved by that many units in the x and y directions.  "
   ]
  },
  {
   "cell_type": "code",
   "execution_count": 15,
   "metadata": {},
   "outputs": [
    {
     "name": "stdout",
     "output_type": "stream",
     "text": [
      "The point has moved to a new coordinates (6, 8)\n"
     ]
    }
   ],
   "source": [
    "# Initialize the point variables\n",
    "p1 = Point(3,4)\n",
    "print(p1.move(3,4))"
   ]
  },
  {
   "cell_type": "markdown",
   "metadata": {},
   "source": [
    "### Exercise\n",
    "\n",
    "Time to do a bit of exercising...\n",
    "\n",
    "Write a function that accepts 2 arguments and uses modulus to return True if the first is evenly divisible by the second, and False if not.  \n",
    "\n",
    "Then, call the function 10 times to see if it is working as expected. When doing this, pass the first argument as 50, and iterate over the values 1 to 10 for the second argument. \n",
    "\n",
    "Let's call the function test_evenly_divisible.  You will use this logic in your assignment."
   ]
  },
  {
   "cell_type": "code",
   "execution_count": 30,
   "metadata": {},
   "outputs": [],
   "source": [
    "import random\n",
    "def test_evenly_divisible(num,denom):\n",
    "    if (num%denom!=0):\n",
    "        return True\n",
    "    else:\n",
    "        return False"
   ]
  },
  {
   "cell_type": "code",
   "execution_count": 31,
   "metadata": {},
   "outputs": [
    {
     "name": "stdout",
     "output_type": "stream",
     "text": [
      "False\n",
      "True\n",
      "False\n",
      "True\n",
      "True\n",
      "True\n",
      "True\n",
      "False\n",
      "False\n",
      "True\n"
     ]
    }
   ],
   "source": [
    "for sample in range(1,11,1):\n",
    "    print(test_evenly_divisible(50, random.randrange(1, 10, 1)))"
   ]
  }
 ],
 "metadata": {
  "anaconda-cloud": {},
  "kernelspec": {
   "display_name": "Python 3",
   "language": "python",
   "name": "python3"
  },
  "language_info": {
   "codemirror_mode": {
    "name": "ipython",
    "version": 3
   },
   "file_extension": ".py",
   "mimetype": "text/x-python",
   "name": "python",
   "nbconvert_exporter": "python",
   "pygments_lexer": "ipython3",
   "version": "3.7.3"
  }
 },
 "nbformat": 4,
 "nbformat_minor": 1
}
