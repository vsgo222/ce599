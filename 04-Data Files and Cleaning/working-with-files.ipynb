{
 "cells": [
  {
   "cell_type": "markdown",
   "metadata": {},
   "source": [
    "# Working With Files and Doing Data Cleaning"
   ]
  },
  {
   "cell_type": "markdown",
   "metadata": {},
   "source": [
    "## First, a Review on Planning Your Programs\n",
    "\n",
    "One of the most difficult things about learning to program is to learn how to start.  What to do before you write the code, and how to work your way through the coding process.\n",
    "\n",
    "A good general idea is to think through the problem you want to solve first -- just conceptually.  How will you know you have solved it?  Are there tests that you can use to be sure?  Can you break the problem down into smaller components, and solve those sequentially?  This is a step that is conceptualizing your algorithm, or your plan for the code.\n",
    "\n",
    "What approach would you use to solve each of those components? Can you describe those steps in English? We call this step writing 'pseudo-code'\n",
    "\n",
    "Finally, there is the coding step. And the inevitable debugging step.  You really can't do one without the other.\n",
    "\n",
    "Generally, it is good practice to work your way through problems in this way, and write the code for each building block, testing it to be sure it works for all the kinds of cases you can imagine, then test them together.  You'll end up being more productive, and far less frustrated, using a systematic, problem-solving approach.  \n",
    "\n",
    "And by all means, don't try to tackle it all at once.  Below is an example of how to work through this process."
   ]
  },
  {
   "cell_type": "markdown",
   "metadata": {},
   "source": [
    "### Phase 1: Conceptual Plan\n",
    "\n",
    "What do we need to do to determine whether each number between 1 and 100 is a prime number?\n",
    "\n",
    "1. We need to see if any given number can be divided evenly by any other number besides 1 and itself. \n",
    "2. We need to test this for every number between 1 and 100\n",
    "\n",
    "### Phase 2: Pseudo-Code\n",
    "\n",
    "1. Write a function (isprime) to test whether a number passed to it as an argument (x) is a prime number.\n",
    "Iterate over all values from x to 1.\n",
    "At each iteration, test whether the original x is evenly divisible by this iteration value.\n",
    "Keep track of how many times you get an evenly divisible result.\n",
    "If the result is more than 2, call x a prime number.\n",
    "\n",
    "2. Write a loop from 1 to 100, call this value (z)\n",
    "Within the loop, call function isprime, and pass it the value of z.\n",
    "Print the list of prime numbers.\n",
    "\n",
    "### Phase 3: Code Incrementally, Test, and Document\n",
    "\n",
    "Generally, build the code one step at a time, and test that step.  Add comments to explain your logic.  Make sure you include narrative in your assignments explaining your reasoning, and adding explanatory comments in the code every few lines to explain what you are doing in each part."
   ]
  },
  {
   "cell_type": "markdown",
   "metadata": {},
   "source": [
    "## Working With Files\n",
    "\n",
    "Most data you might want to work with is likely to be in some kind of file.  You often will want to work with data in comma separated text files, or in spreadsheet tables, or in tables stored in a database.  And you will increasingly find data online, not only as text or spreadsheets to download, but as Open Data APIs, returned from a web service as a JSON object.  This session covers how to work with a variety of file formats in Python, and how to begin processing data in files to clean data."
   ]
  },
  {
   "cell_type": "markdown",
   "metadata": {},
   "source": [
    "### Basics of Reading and Writing Files in Python\n",
    "\n",
    "Let's start by creating a simple file, and then reading it back.  We will use 'open' to open a file we will call 'tempfile' in 'write' (w) mode.  We will assign the file object, which is **iterable**, to an object we will arbitrarily call 'f'."
   ]
  },
  {
   "cell_type": "code",
   "execution_count": null,
   "metadata": {
    "collapsed": false
   },
   "outputs": [],
   "source": [
    "f = open('tempfile.txt', 'w')\n",
    "for i in range(10):\n",
    "    f.write('this is line ' + str(i) + '\\n')\n",
    "f.close()"
   ]
  },
  {
   "cell_type": "markdown",
   "metadata": {},
   "source": [
    "You can open the text file in an editor to verify that this code wrote the file as expected.  Now open the file we just created in Python, in read mode (r)"
   ]
  },
  {
   "cell_type": "code",
   "execution_count": null,
   "metadata": {
    "collapsed": false
   },
   "outputs": [],
   "source": [
    "f = open('tempfile.txt', 'r')"
   ]
  },
  {
   "cell_type": "markdown",
   "metadata": {},
   "source": [
    "The first method to read a file is to read it in all at once, with a read() method. Here we load the whole file in memory and assign it to a. Note that we will re-open the file here to start from the beginning. Otherwise it will be positioned at the end of the file and give us back an empty string. "
   ]
  },
  {
   "cell_type": "code",
   "execution_count": null,
   "metadata": {
    "collapsed": false
   },
   "outputs": [],
   "source": [
    "f = open('tempfile.txt', 'r')\n",
    "a = f.read()\n",
    "a"
   ]
  },
  {
   "cell_type": "raw",
   "metadata": {},
   "source": [
    "Note that when we use read() it creates a string object.  The whole file is loaded into one big string.  Sometimes this may be useful, but often it is not the best way to load a file."
   ]
  },
  {
   "cell_type": "code",
   "execution_count": null,
   "metadata": {
    "collapsed": false
   },
   "outputs": [],
   "source": [
    "type(a)"
   ]
  },
  {
   "cell_type": "markdown",
   "metadata": {},
   "source": [
    "An alternative approach is to step through reading each line of the file with the readline() method.  Notice that each time you execute this it advances to the next line.  Each line is read into a string object.  In this case we are not doing anything with that object except printing it."
   ]
  },
  {
   "cell_type": "code",
   "execution_count": null,
   "metadata": {
    "collapsed": false
   },
   "outputs": [],
   "source": [
    "f = open('tempfile.txt', 'r')\n",
    "print(f.readline())\n",
    "print(f.readline())"
   ]
  },
  {
   "cell_type": "markdown",
   "metadata": {},
   "source": [
    "Here is another way to loop through the lines of the file and print them all out. Notice that printing the lines suppresses the quotes and the newline string."
   ]
  },
  {
   "cell_type": "code",
   "execution_count": null,
   "metadata": {
    "collapsed": false
   },
   "outputs": [],
   "source": [
    "f = open('tempfile.txt', 'r')\n",
    "for line in f:\n",
    "    print(line, end='')"
   ]
  },
  {
   "cell_type": "markdown",
   "metadata": {},
   "source": [
    "The plural version of the readline() method generates a list of the lines in a file, with a string containing each line of the file.  Notice that this list contains the raw text contents, including the newline string '\\n'."
   ]
  },
  {
   "cell_type": "code",
   "execution_count": null,
   "metadata": {
    "collapsed": false
   },
   "outputs": [],
   "source": [
    "f = open('tempfile.txt', 'r')\n",
    "a = f.readlines()\n",
    "a"
   ]
  },
  {
   "cell_type": "markdown",
   "metadata": {},
   "source": [
    "Using **with** is a handy way to open a file, load its data, and automatically close the file."
   ]
  },
  {
   "cell_type": "code",
   "execution_count": null,
   "metadata": {
    "collapsed": false
   },
   "outputs": [],
   "source": [
    "with open('tempfile.txt', 'r') as f:\n",
    "    read_data = f.read()\n",
    "print(read_data)\n",
    "f.closed\n"
   ]
  },
  {
   "cell_type": "markdown",
   "metadata": {},
   "source": [
    "### Working with JSON\n",
    "\n",
    "JSON (JavaScript Object Notation) is a common format for data accessed from a web browser, which is generally running JavaScript.\n",
    "\n",
    "The json dumps() method converts Python objects to JSON format, using the counterpart format for each data type, as in the table below."
   ]
  },
  {
   "cell_type": "raw",
   "metadata": {},
   "source": [
    "\n",
    "Python\t       JSON\n",
    "dict\t       object\n",
    "list, tuple\t   array\n",
    "str\t           string\n",
    "int, float     number\n",
    "True\t       true\n",
    "False\t       false\n",
    "None\t       null"
   ]
  },
  {
   "cell_type": "code",
   "execution_count": null,
   "metadata": {
    "collapsed": false
   },
   "outputs": [],
   "source": [
    "import json\n",
    "\n",
    "json.dumps([1,2,3])"
   ]
  },
  {
   "cell_type": "markdown",
   "metadata": {},
   "source": [
    "Notice that objects can be complex, containing multiple types of data, and still be easily translated between Python objects and JSON format.  The following example converts a Python list, containing one element that is a dictionary, to JSON."
   ]
  },
  {
   "cell_type": "code",
   "execution_count": null,
   "metadata": {
    "collapsed": false
   },
   "outputs": [],
   "source": [
    "json.dumps([1,2,3,{'foo': 'bar'}])"
   ]
  },
  {
   "cell_type": "markdown",
   "metadata": {},
   "source": [
    "Below we convert the contents of tempfile to a json object."
   ]
  },
  {
   "cell_type": "code",
   "execution_count": null,
   "metadata": {
    "collapsed": false
   },
   "outputs": [],
   "source": [
    "f = open('tempfile.txt', 'r')\n",
    "\n",
    "x = json.dumps(f.readlines())\n",
    "x"
   ]
  },
  {
   "cell_type": "markdown",
   "metadata": {},
   "source": [
    "With the dump() method, we can write JSON data to a file.  Here we read tempfile, and create a new JSON formatted file into which we write the contents of tempfile."
   ]
  },
  {
   "cell_type": "code",
   "execution_count": null,
   "metadata": {
    "collapsed": false
   },
   "outputs": [],
   "source": [
    "f = open('tempfile.txt', 'r')\n",
    "j = open('temp.json', 'w')\n",
    "json.dump(f.readlines(), j)"
   ]
  },
  {
   "cell_type": "markdown",
   "metadata": {},
   "source": [
    "Using the load() method, we can read JSON formatted data and load it into a Python object."
   ]
  },
  {
   "cell_type": "code",
   "execution_count": null,
   "metadata": {
    "collapsed": false
   },
   "outputs": [],
   "source": [
    "j = open('temp.json', 'r')\n",
    "x = json.load(j)\n",
    "x"
   ]
  },
  {
   "cell_type": "markdown",
   "metadata": {},
   "source": [
    "### Working with CSV Files\n",
    "\n",
    "CSV (Comma Separated Values) is probably the most common format of data you will encounter.  Files in this format are often exported in this format from a database table or from Excel, or just used as a simple, standard text (ASCII) file format for ease of use.\n",
    "\n",
    "Let's begin by writing a CSV file like the JSON example above, by importing the csv module, and writing a file with several columns, separated by commas."
   ]
  },
  {
   "cell_type": "code",
   "execution_count": null,
   "metadata": {
    "collapsed": false
   },
   "outputs": [],
   "source": [
    "my_data = []\n",
    "for i in range(10):\n",
    "    my_data.append([i, i*2, i+2])\n",
    "my_data"
   ]
  },
  {
   "cell_type": "markdown",
   "metadata": {},
   "source": [
    "Now we will write the CSV file using my_data, and adding a header row first with column names.  Note that we open the file as before, in write mode, but now use the writerow() method to write one row with the header, and writerows() to iterate over the rows and write them to the file."
   ]
  },
  {
   "cell_type": "code",
   "execution_count": null,
   "metadata": {
    "collapsed": false
   },
   "outputs": [],
   "source": [
    "import csv\n",
    "with open('my_data.csv', 'w', newline='') as f:\n",
    "    writer = csv.writer(f)\n",
    "    writer.writerow([\"x\", \"y\", \"z\"])\n",
    "    writer.writerows(my_data)"
   ]
  },
  {
   "cell_type": "markdown",
   "metadata": {},
   "source": [
    "Reading a CSV file is very similar to writing one, but simpler.  We create a reader object that is iterable, and then we can iterate over the rows and do things, like print each row."
   ]
  },
  {
   "cell_type": "code",
   "execution_count": null,
   "metadata": {
    "collapsed": false
   },
   "outputs": [],
   "source": [
    "with open('my_data.csv', newline='') as f:\n",
    "    reader = csv.reader(f)\n",
    "    for row in reader:\n",
    "        print(row)"
   ]
  },
  {
   "cell_type": "markdown",
   "metadata": {},
   "source": [
    "If we want to actually work with the data, then we need to assign it to an object rather than just printing it.  Here we can use the list method to convert the iterable reader object to a list, one per row."
   ]
  },
  {
   "cell_type": "code",
   "execution_count": null,
   "metadata": {
    "collapsed": false
   },
   "outputs": [],
   "source": [
    "with open('my_data.csv', newline='') as f:\n",
    "    reader = csv.reader(f)\n",
    "    my_data = list(reader)\n",
    "my_data"
   ]
  },
  {
   "cell_type": "markdown",
   "metadata": {},
   "source": [
    "If you want to skip the header row in order to have the data without the header, you can use **next** after instantiating the reader object, to advance one row in the CVS file."
   ]
  },
  {
   "cell_type": "code",
   "execution_count": null,
   "metadata": {
    "collapsed": false
   },
   "outputs": [],
   "source": [
    "with open('my_data.csv', newline='') as f:\n",
    "    reader = csv.reader(f)\n",
    "    next(reader)\n",
    "    my_data = list(reader)\n",
    "my_data"
   ]
  },
  {
   "cell_type": "markdown",
   "metadata": {},
   "source": [
    "Since the data is now available as an object, you can do normal Python processing on it, like selecting the first entry of each row and printing it."
   ]
  },
  {
   "cell_type": "code",
   "execution_count": null,
   "metadata": {
    "collapsed": false
   },
   "outputs": [],
   "source": [
    "for row in my_data:\n",
    "    print(row[0])"
   ]
  },
  {
   "cell_type": "markdown",
   "metadata": {},
   "source": [
    "### Reading a CSV File and Computing Statistics With it\n",
    "\n",
    "Use rain.csv to calculate mean and maximum values in a column"
   ]
  },
  {
   "cell_type": "code",
   "execution_count": null,
   "metadata": {
    "collapsed": false
   },
   "outputs": [],
   "source": [
    "with open('rain.csv', 'r') as csvfile:\n",
    "    \n",
    "    # initialize a counter and variables to contain our descriptive stats\n",
    "    count = 0 #at the end, divide cumulative_sum by this to get the mean\n",
    "    cumulative_sum = 0 #our rolling sum\n",
    "    max_value = -1 #pick a really small number that's guaranteed to be less than the max\n",
    "    \n",
    "    # open the file and skip the header row\n",
    "    my_csv = csv.reader(csvfile)\n",
    "    next(my_csv)\n",
    "    \n",
    "    # loop through each data row\n",
    "    for row in my_csv:\n",
    "        \n",
    "        # rainfall amount is in column 1, only process this row's value if not an empty string\n",
    "        if not row[1] == '':\n",
    "            \n",
    "            # increment the counter and extract this row's rainfall as a float\n",
    "            count = count + 1\n",
    "            rainfall = float(row[1])\n",
    "            \n",
    "            # add this row's rainfall to the cumulative sum\n",
    "            cumulative_sum = cumulative_sum + rainfall\n",
    "            \n",
    "            # if this row's rainfall is greater than the current max value, update with the new max\n",
    "            if rainfall > max_value:\n",
    "                max_value = rainfall\n",
    "\n",
    "    # after looping through all the rows, divide the cumulative sum by the count and round to get the mean\n",
    "    mean_value = round(cumulative_sum / count, 1)\n",
    "    \n",
    "    # print out the mean and max values\n",
    "    print('mean:', mean_value, 'inches')\n",
    "    print('max:', max_value, 'inches')"
   ]
  },
  {
   "cell_type": "markdown",
   "metadata": {},
   "source": [
    "How would you find the minimum rainfall amount?"
   ]
  },
  {
   "cell_type": "markdown",
   "metadata": {},
   "source": [
    "### Cleaning up Messy Data"
   ]
  },
  {
   "cell_type": "markdown",
   "metadata": {},
   "source": [
    "Let's look at another data file - one that contains a few Craigslist rental listings, that we have already done some cleanup on."
   ]
  },
  {
   "cell_type": "code",
   "execution_count": null,
   "metadata": {
    "collapsed": false
   },
   "outputs": [],
   "source": [
    "with open('rents_raw.csv', 'r') as csvfile:\n",
    "    my_csv = csv.reader(csvfile)\n",
    "    for row in my_csv:\n",
    "        print(row)"
   ]
  },
  {
   "cell_type": "code",
   "execution_count": null,
   "metadata": {
    "collapsed": false
   },
   "outputs": [],
   "source": [
    "# the column headers are the first row in the data file\n",
    "# use next to iterate our csv reader to the first row to grab the headers\n",
    "with open('rents_raw.csv', 'r') as csvfile:\n",
    "    my_csv = csv.reader(csvfile)\n",
    "    headers = next(my_csv)\n",
    "    print(headers)"
   ]
  },
  {
   "cell_type": "code",
   "execution_count": null,
   "metadata": {
    "collapsed": false
   },
   "outputs": [],
   "source": [
    "# what is the 1st column (zero-indexed) in our data set?\n",
    "headers[1]"
   ]
  },
  {
   "cell_type": "code",
   "execution_count": null,
   "metadata": {
    "collapsed": false
   },
   "outputs": [],
   "source": [
    "# for each row in the data set, print the price column's value\n",
    "with open('rents_raw.csv', 'r') as csvfile:\n",
    "    my_csv = csv.reader(csvfile)\n",
    "    for row in my_csv:\n",
    "        print(row[1])"
   ]
  },
  {
   "cell_type": "code",
   "execution_count": null,
   "metadata": {
    "collapsed": false
   },
   "outputs": [],
   "source": [
    "# create a new list to contain the column of prices in the data set\n",
    "prices = []\n",
    "with open('rents_raw.csv', 'r') as csvfile:\n",
    "    my_csv = csv.reader(csvfile)\n",
    "    for row in my_csv:\n",
    "        prices.append(row[1])  \n",
    "prices"
   ]
  },
  {
   "cell_type": "markdown",
   "metadata": {},
   "source": [
    "This list has a couple of problems. First, it includes the header. Second, it's all strings even though prices are numeric data. Third, it contains some empty strings. We'll have to clean it up."
   ]
  },
  {
   "cell_type": "code",
   "execution_count": null,
   "metadata": {
    "collapsed": false
   },
   "outputs": [],
   "source": [
    "# to remove the first element of the list, we can just capture position 1 through the end of the list\n",
    "prices_noheader = prices[1:]\n",
    "prices_noheader"
   ]
  },
  {
   "cell_type": "code",
   "execution_count": null,
   "metadata": {
    "collapsed": false
   },
   "outputs": [],
   "source": [
    "# now let's convert the price strings to integers\n",
    "for price in prices_noheader:\n",
    "    print(int(float(price)), ' ')"
   ]
  },
  {
   "cell_type": "code",
   "execution_count": null,
   "metadata": {
    "collapsed": false
   },
   "outputs": [],
   "source": [
    "# you can't convert an empty string to a numeric type\n",
    "for price in prices_noheader:\n",
    "    if not price == '':\n",
    "        print(int(float(price)))\n",
    "    else:\n",
    "        print('None')"
   ]
  },
  {
   "cell_type": "code",
   "execution_count": null,
   "metadata": {
    "collapsed": true
   },
   "outputs": [],
   "source": [
    "# encapsulate this functionality inside a new function\n",
    "def extract_int_price(price):\n",
    "    if not price == '':\n",
    "        return int(float(price))\n",
    "    else:\n",
    "        return None"
   ]
  },
  {
   "cell_type": "code",
   "execution_count": null,
   "metadata": {
    "collapsed": false
   },
   "outputs": [],
   "source": [
    "# use our function to convert each element in the list of prices to an integer\n",
    "for price in prices_noheader:\n",
    "    print(extract_int_price(price))"
   ]
  },
  {
   "cell_type": "code",
   "execution_count": null,
   "metadata": {
    "collapsed": false
   },
   "outputs": [],
   "source": [
    "# rather than just printing each converted value, turn it into a new list called int_prices\n",
    "int_prices = []\n",
    "for price in prices_noheader:\n",
    "    int_prices.append(extract_int_price(price))\n",
    "print(int_prices)"
   ]
  },
  {
   "cell_type": "markdown",
   "metadata": {},
   "source": [
    "### Now let's clean up our neighborhood names\n"
   ]
  },
  {
   "cell_type": "code",
   "execution_count": null,
   "metadata": {
    "collapsed": false
   },
   "outputs": [],
   "source": [
    "# replace any forward slashes in neighborhood name with a hyphen\n",
    "with open('rents_raw.csv', 'r') as csvfile:\n",
    "    my_csv = csv.reader(csvfile)\n",
    "    next(my_csv) #skip the header row\n",
    "    for row in my_csv:\n",
    "        print(row[0].replace('/', '-')) #use string.replace() method"
   ]
  },
  {
   "cell_type": "markdown",
   "metadata": {},
   "source": [
    "### Create a new data set with cleaned up variables"
   ]
  },
  {
   "cell_type": "code",
   "execution_count": null,
   "metadata": {
    "collapsed": true
   },
   "outputs": [],
   "source": [
    "# create a new function to convert bedrooms from a string to an int\n",
    "def extract_int_bedrooms(bedrooms):\n",
    "    if not bedrooms == '':\n",
    "        return int(float(bedrooms))\n",
    "    else:\n",
    "        return None"
   ]
  },
  {
   "cell_type": "code",
   "execution_count": null,
   "metadata": {
    "collapsed": true
   },
   "outputs": [],
   "source": [
    "# create a new function to replace forward slashes and commas with hyphens\n",
    "def clean_neighborhood(neighborhood_name):\n",
    "    # you can daisy chain multiple string.replace() methods\n",
    "    return neighborhood_name.replace('/', '-').replace(',', '')"
   ]
  },
  {
   "cell_type": "code",
   "execution_count": null,
   "metadata": {
    "collapsed": false
   },
   "outputs": [],
   "source": [
    "# clean the data set by calling the cleaning functions and save the results to variables\n",
    "rentals_cleaned = []\n",
    "with open('rents_raw.csv', 'r') as csvfile:\n",
    "    my_csv = csv.reader(csvfile)\n",
    "    next(my_csv)\n",
    "    for row in my_csv:\n",
    "        neighborhood_cleaned = clean_neighborhood(row[0])\n",
    "        price_cleaned = extract_int_price(row[1])\n",
    "        bedrooms_cleaned = extract_int_bedrooms(row[2])\n",
    "        rentals_cleaned.append([neighborhood_cleaned, price_cleaned, bedrooms_cleaned])      \n",
    "\n",
    "# display our nested lists of data        \n",
    "rentals_cleaned"
   ]
  },
  {
   "cell_type": "markdown",
   "metadata": {},
   "source": [
    "# Exercise: \n",
    "\n",
    "1. Calculate the price per square foot, and write the result to a new file.  \n",
    "2. Calculate the average price per square foot. \n",
    "3. Explain how you have dealt with missing data in 1 and 2, and how that might affect your result. "
   ]
  },
  {
   "cell_type": "code",
   "execution_count": null,
   "metadata": {
    "collapsed": true
   },
   "outputs": [],
   "source": []
  }
 ],
 "metadata": {
  "anaconda-cloud": {},
  "kernelspec": {
   "display_name": "Python [default]",
   "language": "python",
   "name": "python3"
  },
  "language_info": {
   "codemirror_mode": {
    "name": "ipython",
    "version": 3
   },
   "file_extension": ".py",
   "mimetype": "text/x-python",
   "name": "python",
   "nbconvert_exporter": "python",
   "pygments_lexer": "ipython3",
   "version": "3.5.2"
  }
 },
 "nbformat": 4,
 "nbformat_minor": 0
}
