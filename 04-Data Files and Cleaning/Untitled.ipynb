{
 "cells": [
  {
   "cell_type": "code",
   "execution_count": 1,
   "metadata": {},
   "outputs": [
    {
     "name": "stdout",
     "output_type": "stream",
     "text": [
      "['neighborhood', 'price', 'bedrooms', 'date', 'sqft', 'longitude', 'latitude']\n",
      "['foster city', '2495', '1', '11/14/2014 12:26', '755', '-122.27', '37.5538']\n",
      "['palo alto', '2695', '0', '11/14/2014 12:25', '443', '-122.161524', '37.450289']\n",
      "['brisbane', '3150', '2', '11/14/2014 12:24', '1242', '-122.417912', '37.692415']\n",
      "['palo alto', '2800', '2', '11/14/2014 12:24', '0', '', '']\n",
      "['san mateo', '2196', '1', '11/14/2014 12:24', '676', '-122.2998', '37.5395']\n",
      "['santa clara', '3264', '3', '11/14/2014 12:28', '1138', '', '']\n",
      "['san jose south', '2000', '2', '11/14/2014 12:28', '822', '-121.902268', '37.253503']\n",
      "['sunnyvale', '4740', '3', '11/14/2014 12:28', '1406', '-122.034683', '37.368445']\n",
      "['inner sunset / UCSF', '3395', '2', '11/14/2014 12:32', '0', '-122.479345', '37.764582']\n",
      "['richmond / seacliff', '2699', '1', '11/14/2014 12:32', '0', '-122.503781', '37.7718']\n",
      "['SOMA / south beach', '3620', '1', '11/14/2014 12:30', '860', '-122.395195', '37.775133']\n",
      "['dublin / pleasanton / livermore', '2025', '1', '11/14/2014 12:18', '636', '-121.787665', '37.67963']\n",
      "['concord / pleasant hill / martinez', '0', '2', '11/14/2014 12:18', '1019', '-122.035275', '37.975259']\n",
      "['hercules, pinole, san pablo, el sob', '1795', '1', '11/14/2014 12:17', '715', '-122.321672', '37.978086']\n",
      "['corte madera', '4299', '3', '11/14/2014 12:33', '1533', '-122.488541', '37.919834']\n"
     ]
    }
   ],
   "source": [
    "import csv\n",
    "with open('Data/rents_raw.csv', 'r') as csvfile:\n",
    "    my_csv = csv.reader(csvfile)\n",
    "    for row in my_csv:\n",
    "        print(row)"
   ]
  },
  {
   "cell_type": "code",
   "execution_count": 16,
   "metadata": {},
   "outputs": [
    {
     "name": "stdout",
     "output_type": "stream",
     "text": [
      "['neighborhood', 'price', 'bedrooms', 'date', 'sqft', 'longitude', 'latitude', 'persqft']\n"
     ]
    }
   ],
   "source": [
    "# the column headers are the first row in the data file\n",
    "# use next to iterate our csv reader to the first row to grab the headers\n",
    "with open('Data/rents_raw.csv', 'r') as csvfile:\n",
    "    my_csv = csv.reader(csvfile)\n",
    "    headers = next(my_csv)\n",
    "    headers.append('persqft')\n",
    "    print(headers)"
   ]
  },
  {
   "cell_type": "code",
   "execution_count": 1,
   "metadata": {},
   "outputs": [],
   "source": [
    "# encapsulate this functionality inside a new function\n",
    "def extract_int(item):\n",
    "    if not item == '':\n",
    "        return int(float(item))\n",
    "    else:\n",
    "        return 0\n",
    "\n",
    "def extract_float(item):\n",
    "    if not item == '':\n",
    "        return float(item)\n",
    "    else:\n",
    "        return 0\n",
    "    \n",
    "# create a new function to replace forward slashes and commas with hyphens\n",
    "def clean_neighborhood(neighborhood_name):\n",
    "    # you can daisy chain multiple string.replace() methods\n",
    "    return neighborhood_name.replace('/', '-').replace(',', '')"
   ]
  },
  {
   "cell_type": "code",
   "execution_count": 33,
   "metadata": {},
   "outputs": [
    {
     "ename": "NameError",
     "evalue": "name 'writer' is not defined",
     "output_type": "error",
     "traceback": [
      "\u001b[1;31m---------------------------------------------------------------------------\u001b[0m",
      "\u001b[1;31mNameError\u001b[0m                                 Traceback (most recent call last)",
      "\u001b[1;32m<ipython-input-33-85f9443326cc>\u001b[0m in \u001b[0;36m<module>\u001b[1;34m\u001b[0m\n\u001b[0;32m      4\u001b[0m     \u001b[0mcsv_reader\u001b[0m \u001b[1;33m=\u001b[0m \u001b[0mcsv\u001b[0m\u001b[1;33m.\u001b[0m\u001b[0mreader\u001b[0m\u001b[1;33m(\u001b[0m\u001b[0mcsvfile\u001b[0m\u001b[1;33m)\u001b[0m\u001b[1;33m\u001b[0m\u001b[1;33m\u001b[0m\u001b[0m\n\u001b[0;32m      5\u001b[0m     \u001b[1;31m# Create a csv.writer object so as to write the new list into a output file\u001b[0m\u001b[1;33m\u001b[0m\u001b[1;33m\u001b[0m\u001b[1;33m\u001b[0m\u001b[0m\n\u001b[1;32m----> 6\u001b[1;33m     \u001b[0mcsv_writer\u001b[0m \u001b[1;33m=\u001b[0m \u001b[0mwriter\u001b[0m\u001b[1;33m(\u001b[0m\u001b[0mwrite_obj\u001b[0m\u001b[1;33m)\u001b[0m\u001b[1;33m\u001b[0m\u001b[1;33m\u001b[0m\u001b[0m\n\u001b[0m\u001b[0;32m      7\u001b[0m     \u001b[1;31m# extract headers as a seperate list\u001b[0m\u001b[1;33m\u001b[0m\u001b[1;33m\u001b[0m\u001b[1;33m\u001b[0m\u001b[0m\n\u001b[0;32m      8\u001b[0m     \u001b[0mheaders\u001b[0m \u001b[1;33m=\u001b[0m \u001b[0mnext\u001b[0m\u001b[1;33m(\u001b[0m\u001b[0mmy_csv\u001b[0m\u001b[1;33m)\u001b[0m\u001b[1;33m\u001b[0m\u001b[1;33m\u001b[0m\u001b[0m\n",
      "\u001b[1;31mNameError\u001b[0m: name 'writer' is not defined"
     ]
    }
   ],
   "source": [
    "with_persqft_field = []\n",
    "with open('Data/rents_raw.csv', 'r') as csvfile, open('Data/new_rents_raw.csv', 'w', newline='') as write_obj:\n",
    "    # Creating a csv.reader object to read from the CSV file\n",
    "    csv_reader = csv.reader(csvfile)\n",
    "    # Create a csv.writer object so as to write the new list into a output file\n",
    "    csv_writer = writer(write_obj)\n",
    "    # extract headers as a seperate list\n",
    "    headers = next(my_csv)    \n",
    "    headers.append('persqft')    \n",
    "    csv_writer.writerow(headers)\n",
    "    for row in csv_reader:\n",
    "        neighborhood_cleaned = clean_neighborhood(row[0])\n",
    "        price_cleaned = extract_int(row[1])\n",
    "        bedrooms_cleaned = extract_int(row[4])\n",
    "        sqft_cleaned = extract_int(row[4])\n",
    "        lat_cleaned = extract_float(row[5])\n",
    "        long_cleaned = extract_float(row[6])\n",
    "        if price_cleaned == 0 or bedrooms_cleaned==0:\n",
    "            persqft=0\n",
    "        else:\n",
    "            persqft = price_cleaned/bedrooms_cleaned      \n",
    "        with_persqft_field.append([neighborhood_cleaned,price_cleaned,sqft_cleaned,'{:0.2f}'.format(persqft),'{:0.2f}'.format(lat_cleaned),'{:0.2f}'.format(long_cleaned)])\n",
    "        csv_writer.writerow(with_persqft_field)        "
   ]
  },
  {
   "cell_type": "code",
   "execution_count": 7,
   "metadata": {},
   "outputs": [],
   "source": [
    "from csv import writer\n",
    "from csv import reader\n",
    "\n",
    "add_column_in_csv(input_file,output_file,col_name)\n",
    "i=0\n",
    "with open('Data/rents_raw.csv', 'r') as read_obj, open('Data/new_rents_raw.csv', 'w', newline='') as write_obj:\n",
    "    # Create a csv.reader object from the input file object\n",
    "    csv_reader = reader(read_obj)\n",
    "    # Create a csv.writer object from the output file object\n",
    "    csv_writer = writer(write_obj)\n",
    "    for row in csv_reader:\n",
    "        if i==0:\n",
    "            row.append(\"ratepersqft\")\n",
    "        else:\n",
    "            neighborhood_cleaned = clean_neighborhood(row[0])\n",
    "            price_cleaned = extract_int(row[1])\n",
    "            bedrooms_cleaned = extract_int(row[4])\n",
    "            sqft_cleaned = extract_int(row[4])\n",
    "            lat_cleaned = extract_float(row[5])\n",
    "            long_cleaned = extract_float(row[6])\n",
    "            if price_cleaned == 0 or bedrooms_cleaned==0:\n",
    "                persqft=0\n",
    "            else:\n",
    "                persqft = price_cleaned/bedrooms_cleaned\n",
    "            row.append('{:0.2f}'.format(persqft))        \n",
    "        csv_writer.writerow(row)\n",
    "        i+=1\n",
    "\n"
   ]
  },
  {
   "cell_type": "code",
   "execution_count": 17,
   "metadata": {},
   "outputs": [],
   "source": [
    "# encapsulate the functionality inside a new function\n",
    "def extract_int(item):\n",
    "    if not item == '':\n",
    "        return int(float(item))\n",
    "    else:\n",
    "        return 0\n",
    "\n",
    "def extract_float(item):\n",
    "    if not item == '':\n",
    "        return float(item)\n",
    "    else:\n",
    "        return 0\n",
    "    \n",
    "# create a new function to replace forward slashes and commas with hyphens\n",
    "def clean_neighborhood(neighborhood_name):\n",
    "    # you can daisy chain multiple string.replace() methods\n",
    "    return neighborhood_name.replace('/', '-').replace(',', '')\n",
    "\n",
    "from csv import writer\n",
    "from csv import reader\n",
    "def add_column_in_csv(input_file,output_file,col_name):\n",
    "    i=0\n",
    "    with open('Data/'+input_file, 'r') as read_obj, open('Data/'+output_file, 'w', newline='') as write_obj:\n",
    "        # Create a csv.reader object from the input file object\n",
    "        csv_reader = reader(read_obj)\n",
    "        # Create a csv.writer object from the output file object\n",
    "        csv_writer = writer(write_obj)\n",
    "        for row in csv_reader:\n",
    "            if i==0:\n",
    "                row.append(col_name)\n",
    "            else:\n",
    "                price_cleaned = extract_int(row[1])\n",
    "                bedrooms_cleaned = extract_int(row[4])\n",
    "                if price_cleaned == 0 or bedrooms_cleaned==0:\n",
    "                    persqft=0\n",
    "                else:\n",
    "                    persqft = price_cleaned/bedrooms_cleaned\n",
    "                row.append('{:0.2f}'.format(persqft))        \n",
    "            csv_writer.writerow(row)\n",
    "            i+=1\n",
    "    print(\"Process completed. File created ..\"'Data/'+output_file)"
   ]
  },
  {
   "cell_type": "code",
   "execution_count": 18,
   "metadata": {},
   "outputs": [
    {
     "name": "stdout",
     "output_type": "stream",
     "text": [
      "Process completed. File created ..Data/mod_rent_data.csv\n"
     ]
    }
   ],
   "source": [
    "add_column_in_csv('rents_raw.csv','mod_rent_data.csv','persqft')"
   ]
  },
  {
   "cell_type": "code",
   "execution_count": null,
   "metadata": {},
   "outputs": [],
   "source": []
  }
 ],
 "metadata": {
  "kernelspec": {
   "display_name": "Python 3",
   "language": "python",
   "name": "python3"
  },
  "language_info": {
   "codemirror_mode": {
    "name": "ipython",
    "version": 3
   },
   "file_extension": ".py",
   "mimetype": "text/x-python",
   "name": "python",
   "nbconvert_exporter": "python",
   "pygments_lexer": "ipython3",
   "version": "3.7.3"
  }
 },
 "nbformat": 4,
 "nbformat_minor": 2
}
