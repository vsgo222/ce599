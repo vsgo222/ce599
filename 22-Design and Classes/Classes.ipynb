{
 "cells": [
  {
   "cell_type": "markdown",
   "metadata": {},
   "source": [
    "# Design and classes\n",
    "\n",
    "Adapted from Chapters 15, 16 and 17 of Think Python\n",
    "\n",
    "http://greenteapress.com/thinkpython/thinkpython.pdf"
   ]
  },
  {
   "cell_type": "markdown",
   "metadata": {},
   "source": [
    "### User Defined Types (Classes)\n",
    "\n",
    "We have used many types of objects.  We can also define our own.  Consider the need to store points in a two-dimensional grid.  "
   ]
  },
  {
   "cell_type": "code",
   "execution_count": 1,
   "metadata": {},
   "outputs": [],
   "source": [
    "# we can define a type of object called a point\n",
    "class Point(object):\n",
    "    \"\"\"Represents a point in 2-D space.\"\"\""
   ]
  },
  {
   "cell_type": "code",
   "execution_count": 2,
   "metadata": {},
   "outputs": [
    {
     "data": {
      "text/plain": [
       "<__main__.Point at 0x1aa5b09d508>"
      ]
     },
     "execution_count": 2,
     "metadata": {},
     "output_type": "execute_result"
    }
   ],
   "source": [
    "# then we can create a new instance of that object\n",
    "p = Point()\n",
    "p"
   ]
  },
  {
   "cell_type": "code",
   "execution_count": 3,
   "metadata": {},
   "outputs": [],
   "source": [
    "# we can give it attributes using dot notation\n",
    "p.x = 3.0\n",
    "p.y = 4.0"
   ]
  },
  {
   "cell_type": "code",
   "execution_count": 4,
   "metadata": {},
   "outputs": [
    {
     "data": {
      "text/plain": [
       "3.0"
      ]
     },
     "execution_count": 4,
     "metadata": {},
     "output_type": "execute_result"
    }
   ],
   "source": [
    "# and access those attributes also using dot notation\n",
    "p.x"
   ]
  },
  {
   "cell_type": "code",
   "execution_count": 5,
   "metadata": {},
   "outputs": [
    {
     "data": {
      "text/plain": [
       "4.0"
      ]
     },
     "execution_count": 5,
     "metadata": {},
     "output_type": "execute_result"
    }
   ],
   "source": [
    "p.y"
   ]
  },
  {
   "cell_type": "code",
   "execution_count": 6,
   "metadata": {},
   "outputs": [],
   "source": [
    "# we can define methods that accept an instance as an argument\n",
    "def print_point(p):\n",
    "    print('(', p.x, ',', p.y, ')')"
   ]
  },
  {
   "cell_type": "code",
   "execution_count": 7,
   "metadata": {},
   "outputs": [
    {
     "name": "stdout",
     "output_type": "stream",
     "text": [
      "( 3.0 , 4.0 )\n"
     ]
    }
   ],
   "source": [
    "print_point(p)"
   ]
  },
  {
   "cell_type": "code",
   "execution_count": 8,
   "metadata": {},
   "outputs": [],
   "source": [
    "# classes can include instances of other classes as attributes\n",
    "class Line(object): \n",
    "    \"\"\"Defines a line between two points \"\"\""
   ]
  },
  {
   "cell_type": "code",
   "execution_count": 9,
   "metadata": {},
   "outputs": [],
   "source": [
    "l = Line()\n",
    "\n",
    "l.point1 = Point()\n",
    "l.point1.x = 1\n",
    "l.point1.y = 1\n",
    "\n",
    "l.point2 = Point()\n",
    "l.point2.x = 4\n",
    "l.point2.y = 5"
   ]
  },
  {
   "cell_type": "code",
   "execution_count": 10,
   "metadata": {},
   "outputs": [],
   "source": [
    "# instances can be return values\n",
    "def find_midpoint(line): \n",
    "    p = Point()\n",
    "    p.x = (line.point1.x + line.point2.x) / 2.0\n",
    "    p.y = (line.point1.y + line.point2.y) / 2.0\n",
    "    return p"
   ]
  },
  {
   "cell_type": "code",
   "execution_count": 11,
   "metadata": {},
   "outputs": [
    {
     "name": "stdout",
     "output_type": "stream",
     "text": [
      "( 2.5 , 3.0 )\n"
     ]
    }
   ],
   "source": [
    "midpoint = find_midpoint(l)\n",
    "print_point(midpoint)"
   ]
  },
  {
   "cell_type": "code",
   "execution_count": 15,
   "metadata": {},
   "outputs": [
    {
     "name": "stdout",
     "output_type": "stream",
     "text": [
      "Midpoint: 5 , 3.0\n"
     ]
    }
   ],
   "source": [
    "# By default, assignment creates an alias!\n",
    "mp2 = midpoint\n",
    "mp2.x = 5\n",
    "\n",
    "# What is the value of midpoint?  \n",
    "print(\"Midpoint:\", midpoint.x,\",\", midpoint.y)"
   ]
  },
  {
   "cell_type": "code",
   "execution_count": 17,
   "metadata": {},
   "outputs": [
    {
     "name": "stdout",
     "output_type": "stream",
     "text": [
      "Midpoint: 100 , 3.0\n"
     ]
    }
   ],
   "source": [
    "# If you need to get around this, use copy:\n",
    "import copy\n",
    "mp3 = copy.copy(midpoint)\n",
    "mp3.x = 100\n",
    "\n",
    "# What is the value of midpoint?\n",
    "# What is the value of midpoint?  \n",
    "print(\"Midpoint:\", mp3.x,\",\", mp3.y)"
   ]
  },
  {
   "cell_type": "markdown",
   "metadata": {},
   "source": [
    "### Classes and Functions\n",
    "\n",
    "Pure Functions - A pure function because it does not modify any of the objects passed to it as arguments and it has no effect, like displaying a value or getting user input, other than returning a value.\n",
    "\n",
    "Modifiers - Sometimes it is useful for a function to modify the objects it gets as parameters. In that case, the changes are visible to the caller. Functions that work this way are called modifiers."
   ]
  },
  {
   "cell_type": "code",
   "execution_count": 18,
   "metadata": {},
   "outputs": [],
   "source": [
    "# define a class\n",
    "class Time(object):\n",
    "    \"\"\"Represents the time of day.\n",
    "    attributes: hour, minute, second\n",
    "    \"\"\"\n"
   ]
  },
  {
   "cell_type": "code",
   "execution_count": 19,
   "metadata": {},
   "outputs": [],
   "source": [
    "def print_time(t):\n",
    "    print(str(t.hour) + ':' + str(t.minute) + ':' + str(t.second))"
   ]
  },
  {
   "cell_type": "code",
   "execution_count": 40,
   "metadata": {},
   "outputs": [],
   "source": [
    "# define a function\n",
    "def add_time(t1, t2):\n",
    "    sum = Time()\n",
    "    sum.hour = t1.hour + t2.hour\n",
    "    sum.minute = t1.minute + t2.minute\n",
    "    if sum.minute>=60:\n",
    "        sum.hour +=1\n",
    "        sum.minute -=60 \n",
    "    sum.second = t1.second + t2.second\n",
    "    if sum.second>=60:\n",
    "        sum.minute +=1\n",
    "        sum.second -=60\n",
    "    return sum"
   ]
  },
  {
   "cell_type": "code",
   "execution_count": 69,
   "metadata": {},
   "outputs": [
    {
     "name": "stdout",
     "output_type": "stream",
     "text": [
      "9:45:0\n"
     ]
    }
   ],
   "source": [
    "start = Time()\n",
    "start.hour = 9\n",
    "start.minute = 45\n",
    "start.second = 0\n",
    "\n",
    "print_time(start)"
   ]
  },
  {
   "cell_type": "code",
   "execution_count": 57,
   "metadata": {},
   "outputs": [
    {
     "name": "stdout",
     "output_type": "stream",
     "text": [
      "6:65:0\n"
     ]
    }
   ],
   "source": [
    "duration = Time()\n",
    "duration.hour = +6\n",
    "duration.minute = 65\n",
    "duration.second = 0\n",
    "\n",
    "print_time(duration)"
   ]
  },
  {
   "cell_type": "code",
   "execution_count": 58,
   "metadata": {},
   "outputs": [
    {
     "name": "stdout",
     "output_type": "stream",
     "text": [
      "16:50:0\n"
     ]
    }
   ],
   "source": [
    "done = add_time(start, duration)\n",
    "print_time(done)"
   ]
  },
  {
   "cell_type": "markdown",
   "metadata": {},
   "source": [
    "#### Quiz\n",
    "\n",
    "What is wrong with this function?  Fix it."
   ]
  },
  {
   "cell_type": "code",
   "execution_count": null,
   "metadata": {},
   "outputs": [],
   "source": [
    "# Doesnt handle the +60 minutes or +60seconds conversion"
   ]
  },
  {
   "cell_type": "code",
   "execution_count": 91,
   "metadata": {},
   "outputs": [
    {
     "name": "stdout",
     "output_type": "stream",
     "text": [
      "9:45:0\n"
     ]
    }
   ],
   "source": [
    "start = Time()\n",
    "start.hour = 9\n",
    "start.minute = 45\n",
    "start.second = 0\n",
    "\n",
    "print_time(start)"
   ]
  },
  {
   "cell_type": "code",
   "execution_count": 82,
   "metadata": {},
   "outputs": [],
   "source": [
    "# modifier\n",
    "def increment(time, seconds):\n",
    "    time\n",
    "    time.second += seconds\n",
    "    if time.second >= 60:\n",
    "        time.second -= 60\n",
    "        time.minute += 1\n",
    "    if time.minute >= 60:\n",
    "        time.minute -= 60\n",
    "        time.hour += 1"
   ]
  },
  {
   "cell_type": "code",
   "execution_count": 88,
   "metadata": {},
   "outputs": [
    {
     "name": "stdout",
     "output_type": "stream",
     "text": [
      "9:50:75\n",
      "9:51:90\n"
     ]
    }
   ],
   "source": [
    "print_time(start)\n",
    "increment(start, 75)\n",
    "print_time(start)"
   ]
  },
  {
   "cell_type": "markdown",
   "metadata": {},
   "source": [
    "#### Quiz\n",
    "\n",
    "What is wrong with this modifier?  How would you fix it?"
   ]
  },
  {
   "cell_type": "code",
   "execution_count": 120,
   "metadata": {},
   "outputs": [],
   "source": [
    "# modifier\n",
    "def increment_mod(time, seconds):\n",
    "    sec = time.hour*60*60 + time.minute*60 + time.second\n",
    "    sec += seconds\n",
    "    minutes, time.second = divmod(sec,60)\n",
    "    hour, time.minute = divmod(minutes,60)\n",
    "    time.hour = hour"
   ]
  },
  {
   "cell_type": "code",
   "execution_count": 121,
   "metadata": {},
   "outputs": [],
   "source": [
    "start = Time()\n",
    "start.hour = 9\n",
    "start.minute = 45\n",
    "start.second = 0"
   ]
  },
  {
   "cell_type": "code",
   "execution_count": 132,
   "metadata": {},
   "outputs": [
    {
     "name": "stdout",
     "output_type": "stream",
     "text": [
      "10:0:0\n",
      "10:1:30\n"
     ]
    }
   ],
   "source": [
    "print_time(start)\n",
    "increment_mod(start, 90)\n",
    "print_time(start)"
   ]
  },
  {
   "cell_type": "markdown",
   "metadata": {},
   "source": [
    "#### Recommendation from Downey:\n",
    "\n",
    "Anything that can be done with modifiers can also be done with pure functions. In fact,\n",
    "some programming languages only allow pure functions. There is some evidence that\n",
    "programs that use pure functions are faster to develop and less error-prone than programs\n",
    "that use modifiers. But modifiers are convenient at times, and functional programs tend to\n",
    "be less efficient.\n",
    "\n",
    "In general, I recommend that you write pure functions whenever it is reasonable and resort\n",
    "to modifiers only if there is a compelling advantage. This approach might be called a\n",
    "functional programming style."
   ]
  },
  {
   "cell_type": "markdown",
   "metadata": {},
   "source": [
    "### Classes and Methods\n",
    "(from Downey)\n",
    "\n",
    "Python is an object-oriented programming language.  Some characteristics of object-oriented programming include:\n",
    "\n",
    "• Programs are made up of object definitions and function definitions, and most of the\n",
    "computation is expressed in terms of operations on objects.\n",
    "\n",
    "• Each object definition corresponds to some object or concept in the real world, and\n",
    "the functions that operate on that object correspond to the ways real-world objects\n",
    "interact.\n",
    "\n",
    "An important feature of OO programming is methods.  A method is a function that is associated with a particular class. Methods are semantically the same as functions, but there are two syntactic differences: \n",
    "\n",
    "• Methods are defined inside a class definition in order to make the relationship between\n",
    "the class and the method explicit.\n",
    "\n",
    "• The syntax for invoking a method is different from the syntax for calling a function."
   ]
  },
  {
   "cell_type": "code",
   "execution_count": 56,
   "metadata": {},
   "outputs": [],
   "source": [
    "# previously we had a print_time() method.  \n",
    "# since that method always works on a Time object, it would be logical to \n",
    "# associated with the Time class.  \n",
    "\n",
    "class Time(object):\n",
    "    \"\"\"Represents the time of day.\n",
    "    attributes: hour, minute, second\n",
    "    \"\"\"\n",
    "    \n",
    "    def print_time(t):\n",
    "        print(str(t.hour) + ':' + str(t.minute) + ':' + str(t.second))"
   ]
  },
  {
   "cell_type": "code",
   "execution_count": 57,
   "metadata": {},
   "outputs": [],
   "source": [
    "start = Time()\n",
    "start.hour = 9\n",
    "start.minute = 45\n",
    "start.second = 0"
   ]
  },
  {
   "cell_type": "code",
   "execution_count": 60,
   "metadata": {},
   "outputs": [
    {
     "name": "stdout",
     "output_type": "stream",
     "text": [
      "9:45:0\n",
      "9:45:0\n"
     ]
    }
   ],
   "source": [
    "# there are two ways to call this.\n",
    "Time.print_time(start)\n",
    "start.print_time()"
   ]
  },
  {
   "cell_type": "code",
   "execution_count": 62,
   "metadata": {},
   "outputs": [],
   "source": [
    "# Note that in the latter, the object is automatically passed as the first argument\n",
    "# to make this obvious, the convention is to name the first argument self\n",
    "\n",
    "class Time(object):\n",
    "    \"\"\"Represents the time of day.\n",
    "    attributes: hour, minute, second\n",
    "    \"\"\"\n",
    "    \n",
    "    def print_time(self):\n",
    "        print(str(self.hour) + ':' + str(self.minute) + ':' + str(self.second))"
   ]
  },
  {
   "cell_type": "code",
   "execution_count": 63,
   "metadata": {},
   "outputs": [
    {
     "name": "stdout",
     "output_type": "stream",
     "text": [
      "9:45:0\n"
     ]
    }
   ],
   "source": [
    "start.print_time()"
   ]
  },
  {
   "cell_type": "code",
   "execution_count": 65,
   "metadata": {},
   "outputs": [],
   "source": [
    "# you can add methods that do more complicated stuff, including modify the object itself\n",
    "\n",
    "class Time(object):\n",
    "    \"\"\"Represents the time of day.\n",
    "    attributes: hour, minute, second\n",
    "    \"\"\"\n",
    "    \n",
    "    def print_time(self):\n",
    "        print(str(self.hour) + ':' + str(self.minute) + ':' + str(self.second))\n",
    "        \n",
    "    def increment(self, seconds):\n",
    "        self.second += seconds\n",
    "        if self.second >= 60:\n",
    "            self.second -= 60\n",
    "            self.minute += 1\n",
    "        if self.minute >= 60:\n",
    "            self.minute -= 60\n",
    "            self.hour += 1"
   ]
  },
  {
   "cell_type": "code",
   "execution_count": 68,
   "metadata": {},
   "outputs": [],
   "source": [
    "start = Time()\n",
    "start.hour = 9\n",
    "start.minute = 45\n",
    "start.second = 0"
   ]
  },
  {
   "cell_type": "code",
   "execution_count": 70,
   "metadata": {},
   "outputs": [
    {
     "name": "stdout",
     "output_type": "stream",
     "text": [
      "9:45:0\n",
      "9:46:0\n"
     ]
    }
   ],
   "source": [
    "start.print_time()\n",
    "start.increment(60)\n",
    "start.print_time()"
   ]
  },
  {
   "cell_type": "markdown",
   "metadata": {},
   "source": [
    "#### The init method\n",
    "\n",
    "The init method (short for “initialization”) is a special method that gets invoked when an\n",
    "object is instantiated."
   ]
  },
  {
   "cell_type": "code",
   "execution_count": 133,
   "metadata": {},
   "outputs": [],
   "source": [
    "\n",
    "class Time(object):\n",
    "    \"\"\"Represents the time of day.\n",
    "    attributes: hour, minute, second\n",
    "    \"\"\"\n",
    "    def __init__(self, hour=0, minute=0, second=0):\n",
    "        self.hour = hour\n",
    "        self.minute = minute\n",
    "        self.second = second\n",
    "    \n",
    "    def print_time(self):\n",
    "        print(str(self.hour) + ':' + str(self.minute) + ':' + str(self.second))\n",
    "        \n",
    "    def increment(self, seconds):\n",
    "        self.second += seconds\n",
    "        if self.second >= 60:\n",
    "            self.second -= 60\n",
    "            self.minute += 1\n",
    "        if self.minute >= 60:\n",
    "            self.minute -= 60\n",
    "            self.hour += 1\n",
    "    \n",
    "    def increment(self, seconds):\n",
    "        self.second += seconds\n",
    "        if self.second >= 60:\n",
    "            self.second -= 60\n",
    "            self.minute += 1\n",
    "        if self.minute >= 60:\n",
    "            self.minute -= 60\n",
    "            self.hour += 1\n",
    "            \n",
    "    def increment(self, seconds):\n",
    "        sec = int(seconds)\n",
    "        self.second += sec\n",
    "        if self.second >= 60:\n",
    "            self.second -= 60\n",
    "            self.minute += 1\n",
    "        if self.minute >= 60:\n",
    "            self.minute -= 60\n",
    "            self.hour += 1"
   ]
  },
  {
   "cell_type": "code",
   "execution_count": 134,
   "metadata": {},
   "outputs": [
    {
     "name": "stdout",
     "output_type": "stream",
     "text": [
      "0:0:0\n"
     ]
    }
   ],
   "source": [
    "t1 = Time()\n",
    "t1.print_time()"
   ]
  },
  {
   "cell_type": "code",
   "execution_count": 135,
   "metadata": {},
   "outputs": [
    {
     "name": "stdout",
     "output_type": "stream",
     "text": [
      "9:45:13\n"
     ]
    }
   ],
   "source": [
    "t2 = Time(9, 45, 13)\n",
    "t2.print_time()"
   ]
  },
  {
   "cell_type": "markdown",
   "metadata": {},
   "source": [
    "#### A few questions\n",
    "\n",
    "1. What's with the assignment in the arguments list?\n",
    "2. What's the difference between hour and self.hour?\n",
    "3. Why is it good practice to define all class attributes inside __init__?"
   ]
  },
  {
   "cell_type": "markdown",
   "metadata": {},
   "source": [
    "#### Polymorphism\n",
    "\n",
    "Functions that can work with several types of arguments called polymorphic. Polymorphism can\n",
    "facilitate code reuse. For example, the built-in function sum, which adds the elements of a\n",
    "sequence, works as long as the elements of the sequence support addition."
   ]
  },
  {
   "cell_type": "code",
   "execution_count": 136,
   "metadata": {},
   "outputs": [
    {
     "name": "stdout",
     "output_type": "stream",
     "text": [
      "9:45:43\n"
     ]
    }
   ],
   "source": [
    "# for example, increments works when given an integer\n",
    "t2 = Time(9, 45, 13)\n",
    "t2.increment(30)\n",
    "t2.print_time()"
   ]
  },
  {
   "cell_type": "code",
   "execution_count": 137,
   "metadata": {},
   "outputs": [
    {
     "name": "stdout",
     "output_type": "stream",
     "text": [
      "9:46:13\n"
     ]
    }
   ],
   "source": [
    "# and a float\n",
    "t2.increment(30.0)\n",
    "t2.print_time()"
   ]
  },
  {
   "cell_type": "code",
   "execution_count": 138,
   "metadata": {},
   "outputs": [
    {
     "name": "stdout",
     "output_type": "stream",
     "text": [
      "9:46:43\n"
     ]
    }
   ],
   "source": [
    "# what about a string\n",
    "t2.increment('30')\n",
    "t2.print_time()"
   ]
  },
  {
   "cell_type": "markdown",
   "metadata": {},
   "source": [
    "#### Quiz\n",
    "\n",
    "How can we re-write it to work with strings too?"
   ]
  },
  {
   "cell_type": "code",
   "execution_count": 139,
   "metadata": {},
   "outputs": [
    {
     "ename": "SyntaxError",
     "evalue": "invalid syntax (<ipython-input-139-3afdeda67627>, line 9)",
     "output_type": "error",
     "traceback": [
      "\u001b[1;36m  File \u001b[1;32m\"<ipython-input-139-3afdeda67627>\"\u001b[1;36m, line \u001b[1;32m9\u001b[0m\n\u001b[1;33m    self.hour +=\u001b[0m\n\u001b[1;37m                 ^\u001b[0m\n\u001b[1;31mSyntaxError\u001b[0m\u001b[1;31m:\u001b[0m invalid syntax\n"
     ]
    }
   ],
   "source": [
    "        \n",
    "    def increment(self, seconds):\n",
    "        sec = int(seconds)\n",
    "        self.second += sec\n",
    "        if self.second >= 60:\n",
    "            self.second -= 60\n",
    "            self.minute += 1\n",
    "        if self.minute >= 60:\n",
    "            self.minute -= 60\n",
    "            self.hour += "
   ]
  }
 ],
 "metadata": {
  "anaconda-cloud": {},
  "kernelspec": {
   "display_name": "Python 3",
   "language": "python",
   "name": "python3"
  },
  "language_info": {
   "codemirror_mode": {
    "name": "ipython",
    "version": 3
   },
   "file_extension": ".py",
   "mimetype": "text/x-python",
   "name": "python",
   "nbconvert_exporter": "python",
   "pygments_lexer": "ipython3",
   "version": "3.7.4"
  }
 },
 "nbformat": 4,
 "nbformat_minor": 1
}
