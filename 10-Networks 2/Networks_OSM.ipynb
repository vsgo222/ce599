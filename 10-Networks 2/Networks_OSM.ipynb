{
 "cells": [
  {
   "cell_type": "markdown",
   "metadata": {},
   "source": [
    "# Networks\n",
    "\n",
    "Networks are another important data structure in transportaiton.  Think roadway networks in particular, but many things can be represented as a network.  We'll go over a few basics in class. \n",
    "\n",
    "MPOs or DOTs with a travel model will maintain a network representation of the street network for use in the model.  This will have the attributes the model needs: free flow speed, capacity, length, directionality, turn restrictions, facility type, etc.  Usually, the best way to get a copy is to call up your friendly local transportation modeler and ask.  Even in this tech-crazy world, it is amazing how far asking politely will get you...\n",
    "\n",
    "...however, that's not what we're going to do here.  Instead, we are going to work with network data from OpenStreetMap: \n",
    "\n",
    "http://www.openstreetmap.org/\n",
    "\n",
    "To make it easier, we will work with a package called OSMnx, by Geoff Boeing. You can read a paper on the toolkit here: \n",
    "\n",
    "https://www.researchgate.net/publication/309738462_OSMNX_New_Methods_for_Acquiring_Constructing_Analyzing_and_Visualizing_Complex_Street_Networks\n",
    "\n",
    "And a blog post here: \n",
    "\n",
    "http://geoffboeing.com/2016/11/osmnx-python-street-networks/\n"
   ]
  },
  {
   "cell_type": "markdown",
   "metadata": {},
   "source": [
    "### Homework\n",
    "\n",
    "Your homework is to: \n",
    "\n",
    "1. Read the network paper linked above. \n",
    "\n",
    "2. Use the blog post to figure out how to install and use the package. \n",
    "\n",
    "3. Get the street network for Lexington.  \n",
    "\n",
    "4. Print the basic_stats for the network. \n",
    "\n",
    "5. Calculate and show the shortest path from your home (or another point of interest) to UK campus.  Is this the route you would take?  What is the same or different?\n",
    "\n",
    "6. Repeat step 5 for three other trips that you make regularly.  \n",
    "\n",
    " "
   ]
  },
  {
   "cell_type": "code",
   "execution_count": null,
   "metadata": {
    "collapsed": true
   },
   "outputs": [],
   "source": []
  }
 ],
 "metadata": {
  "anaconda-cloud": {},
  "kernelspec": {
   "display_name": "Python [conda root]",
   "language": "python",
   "name": "conda-root-py"
  },
  "language_info": {
   "codemirror_mode": {
    "name": "ipython",
    "version": 3
   },
   "file_extension": ".py",
   "mimetype": "text/x-python",
   "name": "python",
   "nbconvert_exporter": "python",
   "pygments_lexer": "ipython3",
   "version": "3.5.6"
  }
 },
 "nbformat": 4,
 "nbformat_minor": 1
}
