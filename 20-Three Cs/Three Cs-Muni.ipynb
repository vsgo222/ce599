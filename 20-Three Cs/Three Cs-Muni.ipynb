{
 "cells": [
  {
   "cell_type": "markdown",
   "metadata": {},
   "source": [
    "# Correlation, Causality and multiCollinearity\n",
    "\n",
    "For a good explanation, see: \n",
    "\n",
    "https://www.otexts.org/fpp/5/7\n",
    "\n",
    "Let's stop and check that out."
   ]
  },
  {
   "cell_type": "markdown",
   "metadata": {
    "collapsed": true
   },
   "source": [
    "### Some bus ridership data"
   ]
  },
  {
   "cell_type": "code",
   "execution_count": 1,
   "metadata": {},
   "outputs": [],
   "source": [
    "%matplotlib inline\n",
    "\n",
    "import pandas as pd\n",
    "import seaborn as sns\n",
    "import numpy as np\n",
    "import statsmodels.api as sm\n",
    "import statsmodels.formula.api as smf\n"
   ]
  },
  {
   "cell_type": "code",
   "execution_count": 2,
   "metadata": {
    "scrolled": true
   },
   "outputs": [
    {
     "name": "stdout",
     "output_type": "stream",
     "text": [
      "<class 'pandas.core.frame.DataFrame'>\n",
      "RangeIndex: 3679 entries, 0 to 3678\n",
      "Data columns (total 35 columns):\n",
      "Unnamed: 0                  3679 non-null int64\n",
      "ID                          3679 non-null object\n",
      "SFTAZ                       3679 non-null int64\n",
      "MODE                        3679 non-null object\n",
      "TOD2                        3679 non-null object\n",
      "YEAR                        3679 non-null int64\n",
      "DIST                        3679 non-null int64\n",
      "DISTNAME                    3679 non-null object\n",
      "AVG_RIDE                    3679 non-null float64\n",
      "ROUTES                      3679 non-null int64\n",
      "STOPS                       3679 non-null int64\n",
      "TRIP_STOPS                  3679 non-null int64\n",
      "TRIP_STOPS_DELIVERED        3679 non-null float64\n",
      "RAPID_SHARE                 3679 non-null float64\n",
      "SERVMILES_S_DELIVERED       3679 non-null float64\n",
      "RUNSPEED                    3679 non-null float64\n",
      "ONTIME5                     3679 non-null float64\n",
      "BUS_TRIP_STOPS_COMPETING    3679 non-null float64\n",
      "HHLDS                       3679 non-null int64\n",
      "POP                         3679 non-null int64\n",
      "TOTALEMP                    3679 non-null int64\n",
      "EMPRES                      3679 non-null int64\n",
      "ACCESS_30                   3679 non-null int64\n",
      "HHLDS_0_VEH_SHARE           3679 non-null float64\n",
      "BART_AVG_RIDE               3679 non-null float64\n",
      "CALTRAIN_AVG_RIDE           3679 non-null int64\n",
      "AVG_TNC                     3679 non-null float64\n",
      "HHLDS_SMOOTH                3679 non-null float64\n",
      "POP_SMOOTH                  3679 non-null float64\n",
      "TOTALEMP_SMOOTH             3679 non-null float64\n",
      "EMPRES_SMOOTH               3679 non-null float64\n",
      "HHLDS_0_VEH_SHARE_SMOOTH    3679 non-null float64\n",
      "BART_AVG_RIDE_SMOOTH        3679 non-null float64\n",
      "CALTRAIN_AVG_RIDE_SMOOTH    3679 non-null float64\n",
      "AVG_TNC_SMOOTH              3679 non-null float64\n",
      "dtypes: float64(18), int64(13), object(4)\n",
      "memory usage: 1006.1+ KB\n"
     ]
    }
   ],
   "source": [
    "# This data has\n",
    "data = pd.read_csv('data/MuniEstFile2015.csv')\n",
    "\n",
    "data.info()"
   ]
  },
  {
   "cell_type": "code",
   "execution_count": 3,
   "metadata": {},
   "outputs": [
    {
     "name": "stdout",
     "output_type": "stream",
     "text": [
      "                            OLS Regression Results                            \n",
      "==============================================================================\n",
      "Dep. Variable:               AVG_RIDE   R-squared:                       0.347\n",
      "Model:                            OLS   Adj. R-squared:                  0.347\n",
      "Method:                 Least Squares   F-statistic:                     489.0\n",
      "Date:                Thu, 09 Apr 2020   Prob (F-statistic):               0.00\n",
      "Time:                        11:58:17   Log-Likelihood:                -25926.\n",
      "No. Observations:                3679   AIC:                         5.186e+04\n",
      "Df Residuals:                    3674   BIC:                         5.189e+04\n",
      "Df Model:                           4                                         \n",
      "Covariance Type:            nonrobust                                         \n",
      "==============================================================================\n",
      "                 coef    std err          t      P>|t|      [0.025      0.975]\n",
      "------------------------------------------------------------------------------\n",
      "Intercept    -72.1207     10.346     -6.971      0.000     -92.406     -51.836\n",
      "POP           -0.0015      0.007     -0.211      0.833      -0.016       0.013\n",
      "TOTALEMP       0.0210      0.003      8.020      0.000       0.016       0.026\n",
      "ROUTES        36.6195      2.935     12.478      0.000      30.865      42.373\n",
      "TRIP_STOPS     1.2505      0.053     23.458      0.000       1.146       1.355\n",
      "==============================================================================\n",
      "Omnibus:                     4521.302   Durbin-Watson:                   0.883\n",
      "Prob(Omnibus):                  0.000   Jarque-Bera (JB):           897513.702\n",
      "Skew:                           6.445   Prob(JB):                         0.00\n",
      "Kurtosis:                      78.424   Cond. No.                     4.68e+03\n",
      "==============================================================================\n",
      "\n",
      "Warnings:\n",
      "[1] Standard Errors assume that the covariance matrix of the errors is correctly specified.\n",
      "[2] The condition number is large, 4.68e+03. This might indicate that there are\n",
      "strong multicollinearity or other numerical problems.\n"
     ]
    }
   ],
   "source": [
    "# start from a basic model\n",
    "\n",
    "mod = smf.ols(formula='AVG_RIDE \\\n",
    "              ~ POP \\\n",
    "              + TOTALEMP \\\n",
    "              + ROUTES \\\n",
    "              + TRIP_STOPS ', \n",
    "              data=data)\n",
    "res = mod.fit()\n",
    "print(res.summary())"
   ]
  },
  {
   "cell_type": "code",
   "execution_count": 4,
   "metadata": {},
   "outputs": [
    {
     "name": "stdout",
     "output_type": "stream",
     "text": [
      "                            OLS Regression Results                            \n",
      "==============================================================================\n",
      "Dep. Variable:               AVG_RIDE   R-squared:                       0.353\n",
      "Model:                            OLS   Adj. R-squared:                  0.353\n",
      "Method:                 Least Squares   F-statistic:                     501.9\n",
      "Date:                Thu, 09 Apr 2020   Prob (F-statistic):               0.00\n",
      "Time:                        11:58:24   Log-Likelihood:                -25909.\n",
      "No. Observations:                3679   AIC:                         5.183e+04\n",
      "Df Residuals:                    3674   BIC:                         5.186e+04\n",
      "Df Model:                           4                                         \n",
      "Covariance Type:            nonrobust                                         \n",
      "===================================================================================\n",
      "                      coef    std err          t      P>|t|      [0.025      0.975]\n",
      "-----------------------------------------------------------------------------------\n",
      "Intercept         -89.1884      8.546    -10.436      0.000    -105.944     -72.432\n",
      "POP_SMOOTH          0.0351      0.007      4.736      0.000       0.021       0.050\n",
      "TOTALEMP_SMOOTH     0.0147      0.002      8.771      0.000       0.011       0.018\n",
      "ROUTES             32.0862      3.038     10.560      0.000      26.129      38.043\n",
      "TRIP_STOPS          1.2923      0.052     24.655      0.000       1.190       1.395\n",
      "==============================================================================\n",
      "Omnibus:                     4393.374   Durbin-Watson:                   0.872\n",
      "Prob(Omnibus):                  0.000   Jarque-Bera (JB):           756891.900\n",
      "Skew:                           6.163   Prob(JB):                         0.00\n",
      "Kurtosis:                      72.178   Cond. No.                     6.15e+03\n",
      "==============================================================================\n",
      "\n",
      "Warnings:\n",
      "[1] Standard Errors assume that the covariance matrix of the errors is correctly specified.\n",
      "[2] The condition number is large, 6.15e+03. This might indicate that there are\n",
      "strong multicollinearity or other numerical problems.\n"
     ]
    }
   ],
   "source": [
    "# start from a basic model\n",
    "\n",
    "mod = smf.ols(formula='AVG_RIDE \\\n",
    "              ~ POP_SMOOTH \\\n",
    "              + TOTALEMP_SMOOTH \\\n",
    "              + ROUTES \\\n",
    "              + TRIP_STOPS ', \n",
    "              data=data)\n",
    "res = mod.fit()\n",
    "print(res.summary())"
   ]
  },
  {
   "cell_type": "code",
   "execution_count": 5,
   "metadata": {},
   "outputs": [
    {
     "name": "stdout",
     "output_type": "stream",
     "text": [
      "                            OLS Regression Results                            \n",
      "==============================================================================\n",
      "Dep. Variable:               AVG_RIDE   R-squared:                       0.411\n",
      "Model:                            OLS   Adj. R-squared:                  0.410\n",
      "Method:                 Least Squares   F-statistic:                     512.6\n",
      "Date:                Thu, 09 Apr 2020   Prob (F-statistic):               0.00\n",
      "Time:                        11:58:30   Log-Likelihood:                -25737.\n",
      "No. Observations:                3679   AIC:                         5.149e+04\n",
      "Df Residuals:                    3673   BIC:                         5.152e+04\n",
      "Df Model:                           5                                         \n",
      "Covariance Type:            nonrobust                                         \n",
      "===================================================================================\n",
      "                      coef    std err          t      P>|t|      [0.025      0.975]\n",
      "-----------------------------------------------------------------------------------\n",
      "Intercept          -7.5224      9.225     -0.815      0.415     -25.608      10.564\n",
      "POP_SMOOTH          0.0243      0.007      3.433      0.001       0.010       0.038\n",
      "TOTALEMP_SMOOTH     0.0072      0.002      4.401      0.000       0.004       0.010\n",
      "ROUTES             30.4422      2.902     10.492      0.000      24.753      36.131\n",
      "STOPS             -39.1011      2.062    -18.961      0.000     -43.144     -35.058\n",
      "TRIP_STOPS          1.9849      0.062     32.042      0.000       1.863       2.106\n",
      "==============================================================================\n",
      "Omnibus:                     4433.313   Durbin-Watson:                   0.902\n",
      "Prob(Omnibus):                  0.000   Jarque-Bera (JB):           864909.117\n",
      "Skew:                           6.214   Prob(JB):                         0.00\n",
      "Kurtosis:                      77.080   Cond. No.                     6.96e+03\n",
      "==============================================================================\n",
      "\n",
      "Warnings:\n",
      "[1] Standard Errors assume that the covariance matrix of the errors is correctly specified.\n",
      "[2] The condition number is large, 6.96e+03. This might indicate that there are\n",
      "strong multicollinearity or other numerical problems.\n"
     ]
    }
   ],
   "source": [
    "# what happens if I add the number of stops? \n",
    "# notice what happens to the TRIP_STOPS variable? \n",
    "\n",
    "mod = smf.ols(formula='AVG_RIDE \\\n",
    "              ~ POP_SMOOTH \\\n",
    "              + TOTALEMP_SMOOTH \\\n",
    "              + ROUTES \\\n",
    "              + STOPS \\\n",
    "              + TRIP_STOPS ', \n",
    "              data=data)\n",
    "res = mod.fit()\n",
    "print(res.summary())"
   ]
  },
  {
   "cell_type": "code",
   "execution_count": 6,
   "metadata": {},
   "outputs": [
    {
     "name": "stdout",
     "output_type": "stream",
     "text": [
      "                            OLS Regression Results                            \n",
      "==============================================================================\n",
      "Dep. Variable:               AVG_RIDE   R-squared:                       0.450\n",
      "Model:                            OLS   Adj. R-squared:                  0.449\n",
      "Method:                 Least Squares   F-statistic:                     601.3\n",
      "Date:                Thu, 09 Apr 2020   Prob (F-statistic):               0.00\n",
      "Time:                        11:58:39   Log-Likelihood:                -25611.\n",
      "No. Observations:                3679   AIC:                         5.123e+04\n",
      "Df Residuals:                    3673   BIC:                         5.127e+04\n",
      "Df Model:                           5                                         \n",
      "Covariance Type:            nonrobust                                         \n",
      "===================================================================================\n",
      "                      coef    std err          t      P>|t|      [0.025      0.975]\n",
      "-----------------------------------------------------------------------------------\n",
      "Intercept        -231.9468     10.066    -23.043      0.000    -251.682    -212.211\n",
      "POP_SMOOTH          0.0388      0.007      5.675      0.000       0.025       0.052\n",
      "TOTALEMP_SMOOTH    -0.0037      0.002     -2.303      0.021      -0.007      -0.001\n",
      "ROUTES             32.1690      2.716     11.845      0.000      26.844      37.494\n",
      "STOPS              16.4411      1.671      9.840      0.000      13.165      19.717\n",
      "TRIPS_PER_STOP      7.1828      0.195     36.891      0.000       6.801       7.565\n",
      "==============================================================================\n",
      "Omnibus:                     3965.181   Durbin-Watson:                   0.947\n",
      "Prob(Omnibus):                  0.000   Jarque-Bera (JB):           597756.858\n",
      "Skew:                           5.138   Prob(JB):                         0.00\n",
      "Kurtosis:                      64.595   Cond. No.                     7.80e+03\n",
      "==============================================================================\n",
      "\n",
      "Warnings:\n",
      "[1] Standard Errors assume that the covariance matrix of the errors is correctly specified.\n",
      "[2] The condition number is large, 7.8e+03. This might indicate that there are\n",
      "strong multicollinearity or other numerical problems.\n"
     ]
    }
   ],
   "source": [
    "# how can I get around this problem? \n",
    "# that's better, but what's going on with employment?\n",
    "\n",
    "data['TRIPS_PER_STOP'] = data['TRIP_STOPS'] / data['STOPS']\n",
    "\n",
    "mod = smf.ols(formula='AVG_RIDE \\\n",
    "              ~ POP_SMOOTH \\\n",
    "              + TOTALEMP_SMOOTH \\\n",
    "              + ROUTES \\\n",
    "              + STOPS \\\n",
    "              + TRIPS_PER_STOP ', \n",
    "              data=data)\n",
    "res = mod.fit()\n",
    "print(res.summary())"
   ]
  },
  {
   "cell_type": "code",
   "execution_count": 7,
   "metadata": {},
   "outputs": [
    {
     "name": "stdout",
     "output_type": "stream",
     "text": [
      "                            OLS Regression Results                            \n",
      "==============================================================================\n",
      "Dep. Variable:               AVG_RIDE   R-squared:                       0.451\n",
      "Model:                            OLS   Adj. R-squared:                  0.450\n",
      "Method:                 Least Squares   F-statistic:                     604.0\n",
      "Date:                Thu, 09 Apr 2020   Prob (F-statistic):               0.00\n",
      "Time:                        11:58:53   Log-Likelihood:                -25607.\n",
      "No. Observations:                3679   AIC:                         5.123e+04\n",
      "Df Residuals:                    3673   BIC:                         5.126e+04\n",
      "Df Model:                           5                                         \n",
      "Covariance Type:            nonrobust                                         \n",
      "==================================================================================\n",
      "                     coef    std err          t      P>|t|      [0.025      0.975]\n",
      "----------------------------------------------------------------------------------\n",
      "Intercept       -230.1599     10.054    -22.893      0.000    -249.871    -210.449\n",
      "POP_SMOOTH         0.0380      0.007      5.563      0.000       0.025       0.051\n",
      "EMP_PER_STOP      -0.0068      0.002     -3.567      0.000      -0.011      -0.003\n",
      "ROUTES            31.0932      2.572     12.091      0.000      26.051      36.135\n",
      "STOPS             16.2308      1.653      9.821      0.000      12.991      19.471\n",
      "TRIPS_PER_STOP     7.2635      0.197     36.945      0.000       6.878       7.649\n",
      "==============================================================================\n",
      "Omnibus:                     3967.356   Durbin-Watson:                   0.951\n",
      "Prob(Omnibus):                  0.000   Jarque-Bera (JB):           597176.248\n",
      "Skew:                           5.143   Prob(JB):                         0.00\n",
      "Kurtosis:                      64.562   Cond. No.                     5.98e+03\n",
      "==============================================================================\n",
      "\n",
      "Warnings:\n",
      "[1] Standard Errors assume that the covariance matrix of the errors is correctly specified.\n",
      "[2] The condition number is large, 5.98e+03. This might indicate that there are\n",
      "strong multicollinearity or other numerical problems.\n"
     ]
    }
   ],
   "source": [
    "# employees per stop\n",
    "data['EMP_PER_STOP'] = data['TOTALEMP_SMOOTH'] / data['STOPS']\n",
    "\n",
    "mod = smf.ols(formula='AVG_RIDE \\\n",
    "              ~ POP_SMOOTH \\\n",
    "              + EMP_PER_STOP \\\n",
    "              + ROUTES \\\n",
    "              + STOPS \\\n",
    "              + TRIPS_PER_STOP ', \n",
    "              data=data)\n",
    "res = mod.fit()\n",
    "print(res.summary())"
   ]
  },
  {
   "cell_type": "code",
   "execution_count": 8,
   "metadata": {},
   "outputs": [
    {
     "name": "stdout",
     "output_type": "stream",
     "text": [
      "                            OLS Regression Results                            \n",
      "==============================================================================\n",
      "Dep. Variable:      AVG_RIDE_PER_STOP   R-squared:                       0.383\n",
      "Model:                            OLS   Adj. R-squared:                  0.382\n",
      "Method:                 Least Squares   F-statistic:                     569.9\n",
      "Date:                Thu, 09 Apr 2020   Prob (F-statistic):               0.00\n",
      "Time:                        11:58:58   Log-Likelihood:                -23942.\n",
      "No. Observations:                3679   AIC:                         4.789e+04\n",
      "Df Residuals:                    3674   BIC:                         4.793e+04\n",
      "Df Model:                           4                                         \n",
      "Covariance Type:            nonrobust                                         \n",
      "===================================================================================\n",
      "                      coef    std err          t      P>|t|      [0.025      0.975]\n",
      "-----------------------------------------------------------------------------------\n",
      "Intercept         -87.9138      5.428    -16.197      0.000     -98.556     -77.272\n",
      "POP_SMOOTH          0.0059      0.004      1.359      0.174      -0.003       0.014\n",
      "TOTALEMP_SMOOTH     0.0031      0.001      3.124      0.002       0.001       0.005\n",
      "ROUTES             -6.0866      1.548     -3.931      0.000      -9.122      -3.051\n",
      "TRIPS_PER_STOP      4.8678      0.119     40.861      0.000       4.634       5.101\n",
      "==============================================================================\n",
      "Omnibus:                     5412.953   Durbin-Watson:                   0.866\n",
      "Prob(Omnibus):                  0.000   Jarque-Bera (JB):          2772951.406\n",
      "Skew:                           8.720   Prob(JB):                         0.00\n",
      "Kurtosis:                     136.361   Cond. No.                     6.63e+03\n",
      "==============================================================================\n",
      "\n",
      "Warnings:\n",
      "[1] Standard Errors assume that the covariance matrix of the errors is correctly specified.\n",
      "[2] The condition number is large, 6.63e+03. This might indicate that there are\n",
      "strong multicollinearity or other numerical problems.\n"
     ]
    }
   ],
   "source": [
    "# maybe I can model riders per stop instead\n",
    "\n",
    "data['AVG_RIDE_PER_STOP'] = data['AVG_RIDE'] / data['STOPS']\n",
    "\n",
    "mod = smf.ols(formula='AVG_RIDE_PER_STOP \\\n",
    "              ~ POP_SMOOTH \\\n",
    "              + TOTALEMP_SMOOTH \\\n",
    "              + ROUTES \\\n",
    "              + TRIPS_PER_STOP ', \n",
    "              data=data)\n",
    "res = mod.fit()\n",
    "print(res.summary())"
   ]
  },
  {
   "cell_type": "code",
   "execution_count": 9,
   "metadata": {},
   "outputs": [
    {
     "name": "stdout",
     "output_type": "stream",
     "text": [
      "                            OLS Regression Results                            \n",
      "==============================================================================\n",
      "Dep. Variable:      AVG_RIDE_PER_STOP   R-squared:                       0.380\n",
      "Model:                            OLS   Adj. R-squared:                  0.380\n",
      "Method:                 Least Squares   F-statistic:                     751.8\n",
      "Date:                Thu, 09 Apr 2020   Prob (F-statistic):               0.00\n",
      "Time:                        11:59:07   Log-Likelihood:                -23950.\n",
      "No. Observations:                3679   AIC:                         4.791e+04\n",
      "Df Residuals:                    3675   BIC:                         4.793e+04\n",
      "Df Model:                           3                                         \n",
      "Covariance Type:            nonrobust                                         \n",
      "===================================================================================\n",
      "                      coef    std err          t      P>|t|      [0.025      0.975]\n",
      "-----------------------------------------------------------------------------------\n",
      "Intercept         -95.6421      5.069    -18.867      0.000    -105.581     -85.703\n",
      "POP_SMOOTH          0.0045      0.004      1.039      0.299      -0.004       0.013\n",
      "TOTALEMP_SMOOTH     0.0021      0.001      2.147      0.032       0.000       0.004\n",
      "TRIPS_PER_STOP      4.6927      0.111     42.390      0.000       4.476       4.910\n",
      "==============================================================================\n",
      "Omnibus:                     5443.821   Durbin-Watson:                   0.865\n",
      "Prob(Omnibus):                  0.000   Jarque-Bera (JB):          2822252.362\n",
      "Skew:                           8.819   Prob(JB):                         0.00\n",
      "Kurtosis:                     137.536   Cond. No.                     6.15e+03\n",
      "==============================================================================\n",
      "\n",
      "Warnings:\n",
      "[1] Standard Errors assume that the covariance matrix of the errors is correctly specified.\n",
      "[2] The condition number is large, 6.15e+03. This might indicate that there are\n",
      "strong multicollinearity or other numerical problems.\n"
     ]
    }
   ],
   "source": [
    "# routes doesn't make sense, so drop it. \n",
    "\n",
    "data['AVG_RIDE_PER_STOP'] = data['AVG_RIDE'] / data['STOPS']\n",
    "\n",
    "mod = smf.ols(formula='AVG_RIDE_PER_STOP \\\n",
    "              ~ POP_SMOOTH \\\n",
    "              + TOTALEMP_SMOOTH \\\n",
    "              + TRIPS_PER_STOP ', \n",
    "              data=data)\n",
    "res = mod.fit()\n",
    "print(res.summary())"
   ]
  },
  {
   "cell_type": "code",
   "execution_count": 10,
   "metadata": {},
   "outputs": [
    {
     "name": "stdout",
     "output_type": "stream",
     "text": [
      "                            OLS Regression Results                            \n",
      "==============================================================================\n",
      "Dep. Variable:      AVG_RIDE_PER_STOP   R-squared:                       0.431\n",
      "Model:                            OLS   Adj. R-squared:                  0.431\n",
      "Method:                 Least Squares   F-statistic:                     696.5\n",
      "Date:                Thu, 09 Apr 2020   Prob (F-statistic):               0.00\n",
      "Time:                        11:59:15   Log-Likelihood:                -23792.\n",
      "No. Observations:                3679   AIC:                         4.759e+04\n",
      "Df Residuals:                    3674   BIC:                         4.762e+04\n",
      "Df Model:                           4                                         \n",
      "Covariance Type:            nonrobust                                         \n",
      "===================================================================================\n",
      "                      coef    std err          t      P>|t|      [0.025      0.975]\n",
      "-----------------------------------------------------------------------------------\n",
      "Intercept           1.9539      7.247      0.270      0.787     -12.254      16.162\n",
      "POP_SMOOTH          0.0132      0.004      3.166      0.002       0.005       0.021\n",
      "TOTALEMP_SMOOTH     0.0030      0.001      3.236      0.001       0.001       0.005\n",
      "TRIPS_PER_STOP      4.5742      0.106     43.043      0.000       4.366       4.783\n",
      "ONTIME5          -190.4894     10.498    -18.146      0.000    -211.071    -169.908\n",
      "==============================================================================\n",
      "Omnibus:                     5423.210   Durbin-Watson:                   0.929\n",
      "Prob(Omnibus):                  0.000   Jarque-Bera (JB):          2925264.564\n",
      "Skew:                           8.730   Prob(JB):                         0.00\n",
      "Kurtosis:                     140.033   Cond. No.                     1.52e+04\n",
      "==============================================================================\n",
      "\n",
      "Warnings:\n",
      "[1] Standard Errors assume that the covariance matrix of the errors is correctly specified.\n",
      "[2] The condition number is large, 1.52e+04. This might indicate that there are\n",
      "strong multicollinearity or other numerical problems.\n"
     ]
    }
   ],
   "source": [
    "# test the effect of ontime performance\n",
    "# what happens here? \n",
    "\n",
    "mod = smf.ols(formula='AVG_RIDE_PER_STOP \\\n",
    "              ~ POP_SMOOTH \\\n",
    "              + TOTALEMP_SMOOTH \\\n",
    "              + TRIPS_PER_STOP \\\n",
    "              + ONTIME5 ', \n",
    "              data=data)\n",
    "res = mod.fit()\n",
    "print(res.summary())"
   ]
  },
  {
   "cell_type": "code",
   "execution_count": 11,
   "metadata": {},
   "outputs": [
    {
     "name": "stdout",
     "output_type": "stream",
     "text": [
      "                            OLS Regression Results                            \n",
      "==============================================================================\n",
      "Dep. Variable:      AVG_RIDE_PER_STOP   R-squared:                       0.382\n",
      "Model:                            OLS   Adj. R-squared:                  0.381\n",
      "Method:                 Least Squares   F-statistic:                     567.8\n",
      "Date:                Thu, 09 Apr 2020   Prob (F-statistic):               0.00\n",
      "Time:                        11:59:23   Log-Likelihood:                -23945.\n",
      "No. Observations:                3679   AIC:                         4.790e+04\n",
      "Df Residuals:                    3674   BIC:                         4.793e+04\n",
      "Df Model:                           4                                         \n",
      "Covariance Type:            nonrobust                                         \n",
      "===================================================================================\n",
      "                      coef    std err          t      P>|t|      [0.025      0.975]\n",
      "-----------------------------------------------------------------------------------\n",
      "Intercept         -97.6600      5.102    -19.140      0.000    -107.664     -87.656\n",
      "POP_SMOOTH      -8.069e-05      0.005     -0.018      0.986      -0.009       0.009\n",
      "TOTALEMP_SMOOTH     0.0017      0.001      1.718      0.086      -0.000       0.004\n",
      "TRIPS_PER_STOP      4.6209      0.113     40.954      0.000       4.400       4.842\n",
      "AVG_TNC             0.1741      0.055      3.189      0.001       0.067       0.281\n",
      "==============================================================================\n",
      "Omnibus:                     5426.830   Durbin-Watson:                   0.882\n",
      "Prob(Omnibus):                  0.000   Jarque-Bera (JB):          2764181.895\n",
      "Skew:                           8.770   Prob(JB):                         0.00\n",
      "Kurtosis:                     136.133   Cond. No.                     6.20e+03\n",
      "==============================================================================\n",
      "\n",
      "Warnings:\n",
      "[1] Standard Errors assume that the covariance matrix of the errors is correctly specified.\n",
      "[2] The condition number is large, 6.2e+03. This might indicate that there are\n",
      "strong multicollinearity or other numerical problems.\n"
     ]
    }
   ],
   "source": [
    "# test the effect of ride-hailing\n",
    "\n",
    "mod = smf.ols(formula='AVG_RIDE_PER_STOP \\\n",
    "              ~ POP_SMOOTH \\\n",
    "              + TOTALEMP_SMOOTH \\\n",
    "              + TRIPS_PER_STOP \\\n",
    "              + AVG_TNC', \n",
    "              data=data)\n",
    "res = mod.fit()\n",
    "print(res.summary())"
   ]
  },
  {
   "cell_type": "markdown",
   "metadata": {},
   "source": [
    "For this model, how many trips will be in a zone with:\n",
    "1 stop, 20 population, 20 employment, 2 trips per stop, and 0 TNCs?\n",
    "\n"
   ]
  },
  {
   "cell_type": "markdown",
   "metadata": {},
   "source": [
    "### Transformations\n",
    "\n",
    "We didn't actually look at the data.  Let's plot the dependent variable"
   ]
  },
  {
   "cell_type": "code",
   "execution_count": 12,
   "metadata": {},
   "outputs": [
    {
     "name": "stderr",
     "output_type": "stream",
     "text": [
      "C:\\ProgramData\\Anaconda3\\lib\\site-packages\\scipy\\stats\\stats.py:1713: FutureWarning: Using a non-tuple sequence for multidimensional indexing is deprecated; use `arr[tuple(seq)]` instead of `arr[seq]`. In the future this will be interpreted as an array index, `arr[np.array(seq)]`, which will result either in an error or a different result.\n",
      "  return np.add.reduce(sorted[indexer] * weights, axis=axis) / sumval\n"
     ]
    },
    {
     "data": {
      "text/plain": [
       "<matplotlib.axes._subplots.AxesSubplot at 0x2714d1e2668>"
      ]
     },
     "execution_count": 12,
     "metadata": {},
     "output_type": "execute_result"
    },
    {
     "data": {
      "image/png": "[encoded data removed]",
      "text/plain": [
       "<Figure size 432x288 with 1 Axes>"
      ]
     },
     "metadata": {
      "needs_background": "light"
     },
     "output_type": "display_data"
    }
   ],
   "source": [
    "sns.distplot(data['AVG_RIDE'])"
   ]
  },
  {
   "cell_type": "code",
   "execution_count": 13,
   "metadata": {},
   "outputs": [
    {
     "data": {
      "text/plain": [
       "<matplotlib.axes._subplots.AxesSubplot at 0x2714e5a8240>"
      ]
     },
     "execution_count": 13,
     "metadata": {},
     "output_type": "execute_result"
    },
    {
     "data": {
      "image/png": "[encoded data removed]",
      "text/plain": [
       "<Figure size 432x288 with 1 Axes>"
      ]
     },
     "metadata": {
      "needs_background": "light"
     },
     "output_type": "display_data"
    }
   ],
   "source": [
    "sns.distplot(np.log(1+data['AVG_RIDE']))"
   ]
  },
  {
   "cell_type": "code",
   "execution_count": 14,
   "metadata": {},
   "outputs": [],
   "source": [
    "# create log transformations for all variables\n",
    "from pandas.api.types import is_numeric_dtype\n",
    "\n",
    "for col in data.columns:\n",
    "    if (is_numeric_dtype(data[col])):\n",
    "        data[col+'_log'] = np.log(1+data[col])"
   ]
  },
  {
   "cell_type": "code",
   "execution_count": 15,
   "metadata": {},
   "outputs": [
    {
     "name": "stdout",
     "output_type": "stream",
     "text": [
      "                            OLS Regression Results                            \n",
      "==============================================================================\n",
      "Dep. Variable:               AVG_RIDE   R-squared:                       0.353\n",
      "Model:                            OLS   Adj. R-squared:                  0.353\n",
      "Method:                 Least Squares   F-statistic:                     501.9\n",
      "Date:                Thu, 09 Apr 2020   Prob (F-statistic):               0.00\n",
      "Time:                        11:59:45   Log-Likelihood:                -25909.\n",
      "No. Observations:                3679   AIC:                         5.183e+04\n",
      "Df Residuals:                    3674   BIC:                         5.186e+04\n",
      "Df Model:                           4                                         \n",
      "Covariance Type:            nonrobust                                         \n",
      "===================================================================================\n",
      "                      coef    std err          t      P>|t|      [0.025      0.975]\n",
      "-----------------------------------------------------------------------------------\n",
      "Intercept         -89.1884      8.546    -10.436      0.000    -105.944     -72.432\n",
      "POP_SMOOTH          0.0351      0.007      4.736      0.000       0.021       0.050\n",
      "TOTALEMP_SMOOTH     0.0147      0.002      8.771      0.000       0.011       0.018\n",
      "ROUTES             32.0862      3.038     10.560      0.000      26.129      38.043\n",
      "TRIP_STOPS          1.2923      0.052     24.655      0.000       1.190       1.395\n",
      "==============================================================================\n",
      "Omnibus:                     4393.374   Durbin-Watson:                   0.872\n",
      "Prob(Omnibus):                  0.000   Jarque-Bera (JB):           756891.900\n",
      "Skew:                           6.163   Prob(JB):                         0.00\n",
      "Kurtosis:                      72.178   Cond. No.                     6.15e+03\n",
      "==============================================================================\n",
      "\n",
      "Warnings:\n",
      "[1] Standard Errors assume that the covariance matrix of the errors is correctly specified.\n",
      "[2] The condition number is large, 6.15e+03. This might indicate that there are\n",
      "strong multicollinearity or other numerical problems.\n"
     ]
    }
   ],
   "source": [
    "# original linear model\n",
    "\n",
    "mod = smf.ols(formula='AVG_RIDE \\\n",
    "              ~ POP_SMOOTH \\\n",
    "              + TOTALEMP_SMOOTH \\\n",
    "              + ROUTES \\\n",
    "              + TRIP_STOPS ', \n",
    "              data=data)\n",
    "res = mod.fit()\n",
    "print(res.summary())"
   ]
  },
  {
   "cell_type": "code",
   "execution_count": 16,
   "metadata": {},
   "outputs": [
    {
     "name": "stdout",
     "output_type": "stream",
     "text": [
      "                            OLS Regression Results                            \n",
      "==============================================================================\n",
      "Dep. Variable:           AVG_RIDE_log   R-squared:                       0.441\n",
      "Model:                            OLS   Adj. R-squared:                  0.440\n",
      "Method:                 Least Squares   F-statistic:                     724.3\n",
      "Date:                Thu, 09 Apr 2020   Prob (F-statistic):               0.00\n",
      "Time:                        11:59:49   Log-Likelihood:                -5604.0\n",
      "No. Observations:                3679   AIC:                         1.122e+04\n",
      "Df Residuals:                    3674   BIC:                         1.125e+04\n",
      "Df Model:                           4                                         \n",
      "Covariance Type:            nonrobust                                         \n",
      "===================================================================================\n",
      "                      coef    std err          t      P>|t|      [0.025      0.975]\n",
      "-----------------------------------------------------------------------------------\n",
      "Intercept           2.8337      0.034     82.696      0.000       2.767       2.901\n",
      "POP_SMOOTH          0.0003   2.97e-05     10.085      0.000       0.000       0.000\n",
      "TOTALEMP_SMOOTH  2.961e-05    6.7e-06      4.418      0.000    1.65e-05    4.28e-05\n",
      "ROUTES              0.1627      0.012     13.354      0.000       0.139       0.187\n",
      "TRIP_STOPS          0.0064      0.000     30.235      0.000       0.006       0.007\n",
      "==============================================================================\n",
      "Omnibus:                       35.954   Durbin-Watson:                   0.931\n",
      "Prob(Omnibus):                  0.000   Jarque-Bera (JB):               38.260\n",
      "Skew:                          -0.213   Prob(JB):                     4.92e-09\n",
      "Kurtosis:                       3.260   Cond. No.                     6.15e+03\n",
      "==============================================================================\n",
      "\n",
      "Warnings:\n",
      "[1] Standard Errors assume that the covariance matrix of the errors is correctly specified.\n",
      "[2] The condition number is large, 6.15e+03. This might indicate that there are\n",
      "strong multicollinearity or other numerical problems.\n"
     ]
    }
   ],
   "source": [
    "# Use the transformed variable on the left-hand side\n",
    "\n",
    "mod = smf.ols(formula='AVG_RIDE_log \\\n",
    "              ~ POP_SMOOTH \\\n",
    "              + TOTALEMP_SMOOTH \\\n",
    "              + ROUTES \\\n",
    "              + TRIP_STOPS ', \n",
    "              data=data)\n",
    "res = mod.fit()\n",
    "print(res.summary())"
   ]
  },
  {
   "cell_type": "code",
   "execution_count": 18,
   "metadata": {},
   "outputs": [
    {
     "name": "stdout",
     "output_type": "stream",
     "text": [
      "                            OLS Regression Results                            \n",
      "==============================================================================\n",
      "Dep. Variable:           AVG_RIDE_log   R-squared:                       0.588\n",
      "Model:                            OLS   Adj. R-squared:                  0.588\n",
      "Method:                 Least Squares   F-statistic:                     1312.\n",
      "Date:                Thu, 09 Apr 2020   Prob (F-statistic):               0.00\n",
      "Time:                        12:00:11   Log-Likelihood:                -5041.6\n",
      "No. Observations:                3679   AIC:                         1.009e+04\n",
      "Df Residuals:                    3674   BIC:                         1.012e+04\n",
      "Df Model:                           4                                         \n",
      "Covariance Type:            nonrobust                                         \n",
      "=======================================================================================\n",
      "                          coef    std err          t      P>|t|      [0.025      0.975]\n",
      "---------------------------------------------------------------------------------------\n",
      "Intercept              -1.9959      0.111    -18.048      0.000      -2.213      -1.779\n",
      "POP_SMOOTH_log          0.0374      0.015      2.475      0.013       0.008       0.067\n",
      "TOTALEMP_SMOOTH_log     0.1742      0.010     16.692      0.000       0.154       0.195\n",
      "ROUTES_log              0.1005      0.051      1.973      0.049       0.001       0.200\n",
      "TRIP_STOPS_log          1.1369      0.025     45.816      0.000       1.088       1.186\n",
      "==============================================================================\n",
      "Omnibus:                       19.946   Durbin-Watson:                   0.980\n",
      "Prob(Omnibus):                  0.000   Jarque-Bera (JB):               20.160\n",
      "Skew:                           0.172   Prob(JB):                     4.19e-05\n",
      "Kurtosis:                       3.112   Cond. No.                         66.8\n",
      "==============================================================================\n",
      "\n",
      "Warnings:\n",
      "[1] Standard Errors assume that the covariance matrix of the errors is correctly specified.\n"
     ]
    }
   ],
   "source": [
    "# Use transformed variables on both sides\n",
    "\n",
    "mod = smf.ols(formula='AVG_RIDE_log \\\n",
    "              ~ POP_SMOOTH_log \\\n",
    "              + TOTALEMP_SMOOTH_log \\\n",
    "              + ROUTES_log \\\n",
    "              + TRIP_STOPS_log ', \n",
    "              data=data)\n",
    "res = mod.fit()\n",
    "print(res.summary())"
   ]
  },
  {
   "cell_type": "code",
   "execution_count": 19,
   "metadata": {},
   "outputs": [
    {
     "name": "stdout",
     "output_type": "stream",
     "text": [
      "                            OLS Regression Results                            \n",
      "==============================================================================\n",
      "Dep. Variable:           AVG_RIDE_log   R-squared:                       0.589\n",
      "Model:                            OLS   Adj. R-squared:                  0.589\n",
      "Method:                 Least Squares   F-statistic:                     1055.\n",
      "Date:                Thu, 09 Apr 2020   Prob (F-statistic):               0.00\n",
      "Time:                        12:00:48   Log-Likelihood:                -5036.0\n",
      "No. Observations:                3679   AIC:                         1.008e+04\n",
      "Df Residuals:                    3673   BIC:                         1.012e+04\n",
      "Df Model:                           5                                         \n",
      "Covariance Type:            nonrobust                                         \n",
      "=======================================================================================\n",
      "                          coef    std err          t      P>|t|      [0.025      0.975]\n",
      "---------------------------------------------------------------------------------------\n",
      "Intercept              -1.9601      0.111    -17.668      0.000      -2.178      -1.743\n",
      "POP_SMOOTH_log          0.0375      0.015      2.487      0.013       0.008       0.067\n",
      "TOTALEMP_SMOOTH_log     0.1956      0.012     16.027      0.000       0.172       0.220\n",
      "ROUTES_log              0.1031      0.051      2.027      0.043       0.003       0.203\n",
      "TRIP_STOPS_log          1.1512      0.025     45.788      0.000       1.102       1.201\n",
      "AVG_TNC_log            -0.0647      0.019     -3.371      0.001      -0.102      -0.027\n",
      "==============================================================================\n",
      "Omnibus:                       24.659   Durbin-Watson:                   0.944\n",
      "Prob(Omnibus):                  0.000   Jarque-Bera (JB):               25.139\n",
      "Skew:                           0.189   Prob(JB):                     3.48e-06\n",
      "Kurtosis:                       3.144   Cond. No.                         71.2\n",
      "==============================================================================\n",
      "\n",
      "Warnings:\n",
      "[1] Standard Errors assume that the covariance matrix of the errors is correctly specified.\n"
     ]
    }
   ],
   "source": [
    "# Go back and test TNCs\n",
    "\n",
    "mod = smf.ols(formula='AVG_RIDE_log \\\n",
    "              ~ POP_SMOOTH_log \\\n",
    "              + TOTALEMP_SMOOTH_log \\\n",
    "              + ROUTES_log \\\n",
    "              + TRIP_STOPS_log \\\n",
    "              + AVG_TNC_log', \n",
    "              data=data)\n",
    "res = mod.fit()\n",
    "print(res.summary())"
   ]
  },
  {
   "cell_type": "markdown",
   "metadata": {},
   "source": [
    "### Recommendations\n",
    "\n",
    "Our friends at Northwestern (my alma mater!) have some good recommendations for how to \n",
    "proceed with these issues. \n",
    "\n",
    "Model Specification: Choosing the Right Variables for the Right Hand Side\n",
    "\n",
    "https://www.kellogg.northwestern.edu/faculty/dranove/htm/dranove/coursepages/Mgmt%20469/choosing%20variables.pdf\n",
    "\n",
    "They suggest: \n",
    "\n",
    "1) Always begin with a “core” set of predictors that have theoretical relevance, as well as any predictors whose effects you are specifically interested in. You may estimate a “quick and dirty” OLS model at this time. \n",
    "\n",
    "2) Finalize model specification issues (e.g., log vs. linear)  For a good description of log vs linear models, see: \n",
    "\n",
    "https://www.google.com/url?sa=t&rct=j&q=&esrc=s&source=web&cd=15&cad=rja&uact=8&ved=2ahUKEwjI0fu82NvoAhXRWM0KHUuVDCkQFjAOegQICBAB&url=https%3A%2F%2Fcanvas.northwestern.edu%2Ffiles%2F1812457%2Fdownload%3Fdownload_frd%3D1%26verifier%3DQBFTMd2yRHbWR6yC6mp2s0in7G9N3rRZiRFStMrA&usg=AOvVaw1JP3fLhZJA3IEhBHVFbuRq\n",
    "\n",
    "3) Add additional predictors that you think might be relevant. You can add them one at a time or one “category” at a time (see next section). Check for the robustness of your initial findings. \n",
    "\n",
    "4) When adding predictors, you should keep all the original predictors in the model, even if they were not significant. Remember, omitted variable bias can cause significant predictors to appear to be insignificant. By adding more variables, your key predictors may become significant. \n",
    "\n",
    "5) At this point, you should know your robust findings. That is the main goal of your research. \n",
    "\n",
    "6) If you insist on producing a “final model”, then you should remove those additional predictors that were not remotely significant.\n",
    "\n",
    "\n",
    "7) You can also remove core predictors if they remain insignificant and you need degrees of freedom. If you are not taxed for degrees of freedom, you may want to keep your core variables, if only to paint the entire picture for your audience."
   ]
  },
  {
   "cell_type": "markdown",
   "metadata": {},
   "source": [
    "### Homework\n",
    "\n",
    "Write one page describing the data set you are working with for your project, and explaining: \n",
    "1. Possible relationships in the data set that may be problematic\n",
    "2. How you could determine if they actually are a problem\n",
    "3. How you might mitigate the issue if you determine them to be a problem\n"
   ]
  },
  {
   "cell_type": "code",
   "execution_count": null,
   "metadata": {},
   "outputs": [],
   "source": []
  }
 ],
 "metadata": {
  "anaconda-cloud": {},
  "kernelspec": {
   "display_name": "Python 3",
   "language": "python",
   "name": "python3"
  },
  "language_info": {
   "codemirror_mode": {
    "name": "ipython",
    "version": 3
   },
   "file_extension": ".py",
   "mimetype": "text/x-python",
   "name": "python",
   "nbconvert_exporter": "python",
   "pygments_lexer": "ipython3",
   "version": "3.7.1"
  }
 },
 "nbformat": 4,
 "nbformat_minor": 1
}
