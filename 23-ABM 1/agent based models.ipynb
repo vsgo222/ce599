{
 "cells": [
  {
   "cell_type": "markdown",
   "metadata": {},
   "source": [
    "# Schelling Segregation Model\n",
    "\n",
    "\n",
    "### Background (from Mesa example)\n",
    "\n",
    "\"The Schelling (1971) segregation model is a classic of agent-based modeling, demonstrating how agents following simple rules lead to the emergence of qualitatively different macro-level outcomes. Agents are randomly placed on a grid. There are two types of agents, one constituting the majority and the other the minority. All agents want a certain number (generally, 3) of their 8 surrounding neighbors to be of the same type in order for them to be happy. Unhappy agents will move to a random available grid space. While individual agents do not have a preference for a segregated outcome (e.g. they would be happy with 3 similar neighbors and 5 different ones), the aggregate outcome is nevertheless heavily segregated.\"\n",
    "\n",
    "\n",
    "### Credits\n",
    "\n",
    "This lesson was adapted from several sources, including:\n",
    "\n",
    "Project Mesa, by Jackie Kazil: \n",
    "\n",
    "https://github.com/projectmesa/mesa-schelling-example/blob/master/analysis.ipynb\n",
    "\n",
    "An introduction to agent-based models: simulating segregation with Python by Adil Moujahid \n",
    "\n",
    "https://www.binpress.com/tutorial/introduction-to-agentbased-models-an-implementation-of-schelling-model-in-python/144\n",
    "\n",
    "Schelling, Thomas C. Dynamic Models of Segregation. Journal of Mathematical Sociology. 1971, Vol. 1, pp 143-186.\n",
    "\n",
    "https://www.stat.berkeley.edu/%7Ealdous/157/Papers/Schelling_Seg_Models.pdf "
   ]
  },
  {
   "cell_type": "markdown",
   "metadata": {},
   "source": [
    "### The Parable of the Polygons\n",
    "\n",
    "This is a very simple model, but it turns out that you can gain some very useful insights from even a simple model.  Schelling won a Nobel Prize in 2005 for \"having enhanced our understanding of conflict and cooperation through game-theory analysis\".  His work was applied to strategies of conflict and arms control during the Cold War, and to understanding residential housing segregation, as noted here.  \n",
    "\n",
    "The Parable of the Polygons offers a nice demonstration of the type of emergent behavior that comes out at a system level, from the behavior of individual agents.  Spend the time to work through it.  \n",
    "\n",
    "http://ncase.me/polygons/\n",
    "\n",
    "Add a note below with your observations and reactions.  "
   ]
  },
  {
   "cell_type": "code",
   "execution_count": null,
   "metadata": {},
   "outputs": [],
   "source": []
  },
  {
   "cell_type": "markdown",
   "metadata": {},
   "source": [
    "### The Racial Dot Map\n",
    "\n",
    "It is easy to dismiss this as purely hypothetical, and it is.  What happens when we look at real data?  The Census collects information on race, and reports it at the Census Block level.  The demographers at UVA put together some nice interactive maps showing these data.  \n",
    "\n",
    "https://demographics.virginia.edu/DotMap/index.html\n",
    "\n",
    "https://demographics.coopercenter.org/racial-dot-map\n",
    "\n",
    "Add a note below with observations of a city you are familiar with.  \n"
   ]
  },
  {
   "cell_type": "code",
   "execution_count": null,
   "metadata": {},
   "outputs": [],
   "source": []
  },
  {
   "cell_type": "markdown",
   "metadata": {},
   "source": [
    "### Agents as Objects\n",
    "\n",
    "Schelling used pennies and nickels to test his model.  We are going to implement this in python.  As discussed last time, agents can be naturally represented as objects.  I've started a class for you called SchellingAgent.  Take a look.  \n",
    "\n",
    "A few things to notice are:\n",
    "\n",
    "1. Agents usually have a state.  What is represents the state of a SchellingAgent?  \n",
    "2. Agents usually know something about their environment.  What represents the environment in this case?  \n",
    "3. Agents usually have some autonomous behavior.  What behavior do they have?  \n"
   ]
  },
  {
   "cell_type": "code",
   "execution_count": 1,
   "metadata": {},
   "outputs": [],
   "source": [
    "# when we're importing modules, they are normally only reloaded when we import.\n",
    "# here we're going to be making changes to the modules.  \n",
    "# this code tells python to reload them each time I execute a new line of code\n",
    "%load_ext autoreload\n",
    "%autoreload 2"
   ]
  },
  {
   "cell_type": "code",
   "execution_count": 2,
   "metadata": {},
   "outputs": [],
   "source": [
    "# let's try creating a SchellingAgent\n",
    "from SchellingAgent import SchellingAgent\n",
    "\n",
    "grid = [[0,0,0],\n",
    "        [0,0,0],\n",
    "        [0,0,0]]\n",
    "\n",
    "agent = SchellingAgent((1,2), grid, 1)"
   ]
  },
  {
   "cell_type": "code",
   "execution_count": 3,
   "metadata": {},
   "outputs": [
    {
     "data": {
      "text/plain": [
       "<SchellingAgent.SchellingAgent at 0x1f47fcaad68>"
      ]
     },
     "execution_count": 3,
     "metadata": {},
     "output_type": "execute_result"
    }
   ],
   "source": [
    "# we can print the object\n",
    "agent"
   ]
  },
  {
   "cell_type": "code",
   "execution_count": 4,
   "metadata": {},
   "outputs": [
    {
     "data": {
      "text/plain": [
       "(1, 2)"
      ]
     },
     "execution_count": 4,
     "metadata": {},
     "output_type": "execute_result"
    }
   ],
   "source": [
    "# and access the attributes using dot notation\n",
    "agent.pos"
   ]
  },
  {
   "cell_type": "code",
   "execution_count": 5,
   "metadata": {},
   "outputs": [
    {
     "data": {
      "text/plain": [
       "1"
      ]
     },
     "execution_count": 5,
     "metadata": {},
     "output_type": "execute_result"
    }
   ],
   "source": [
    "agent.type"
   ]
  },
  {
   "cell_type": "code",
   "execution_count": 6,
   "metadata": {},
   "outputs": [
    {
     "data": {
      "text/plain": [
       "[[0, 0, 0], [0, 0, 1], [0, 0, 0]]"
      ]
     },
     "execution_count": 6,
     "metadata": {},
     "output_type": "execute_result"
    }
   ],
   "source": [
    "agent.grid"
   ]
  },
  {
   "cell_type": "code",
   "execution_count": 7,
   "metadata": {},
   "outputs": [
    {
     "name": "stdout",
     "output_type": "stream",
     "text": [
      "Implement is_happy()\n"
     ]
    }
   ],
   "source": [
    "# we can also call the methods for the agent\n",
    "agent.is_happy()"
   ]
  },
  {
   "cell_type": "markdown",
   "metadata": {},
   "source": [
    "### Top-down design\n",
    "\n",
    "In this case, I haven't actually implemented the method yet.  I just put in a placeholder saying that I need to implement it.  This is a useful design strategy, known as \"top-down\" design.  First you understand big-picture what your code needs to do, and outline the methods.  Only after you get the signatures and basics set up, do you dive into the details of how to make them do those things.  This is a way to avoid getting lost in the weeds too soon.  I recommend you use it when practical."
   ]
  },
  {
   "cell_type": "markdown",
   "metadata": {},
   "source": [
    "### Quiz\n",
    "\n",
    "Take some time to implement the methods outlined.  Then test them here using a simple example, like above.  \n"
   ]
  },
  {
   "cell_type": "code",
   "execution_count": null,
   "metadata": {
    "collapsed": true
   },
   "outputs": [],
   "source": []
  },
  {
   "cell_type": "code",
   "execution_count": null,
   "metadata": {
    "collapsed": true
   },
   "outputs": [],
   "source": []
  },
  {
   "cell_type": "markdown",
   "metadata": {},
   "source": [
    "### Models as Objects\n",
    "\n",
    "Not every class represents something with such a nice real-world analogy as an agent.  In our case, we will use a class to represent a SchellingModel as well.  The SchellingModel has agents, but the model itself is about keeping track of how the agents interact with each other.  \n",
    "\n",
    "I've started this for you, but left the methods un-implemented.  Let's take a look. "
   ]
  },
  {
   "cell_type": "code",
   "execution_count": 8,
   "metadata": {},
   "outputs": [],
   "source": [
    "# Let's try creating a new SchellingModel\n",
    "from SchellingModel import SchellingModel\n",
    "\n",
    "model = SchellingModel(5, 5, 0.9, 0.3)"
   ]
  },
  {
   "cell_type": "code",
   "execution_count": 9,
   "metadata": {},
   "outputs": [
    {
     "data": {
      "text/plain": [
       "<SchellingModel.SchellingModel at 0x1f47fc64e10>"
      ]
     },
     "execution_count": 9,
     "metadata": {},
     "output_type": "execute_result"
    }
   ],
   "source": [
    "# we can see that the model exists\n",
    "model"
   ]
  },
  {
   "cell_type": "code",
   "execution_count": 10,
   "metadata": {},
   "outputs": [
    {
     "data": {
      "text/plain": [
       "'Implement print_status()'"
      ]
     },
     "execution_count": 10,
     "metadata": {},
     "output_type": "execute_result"
    }
   ],
   "source": [
    "# it might be nice to be able to print the important information about the model. \n",
    "# I haven't implemented this method yet.  \n",
    "model.print_status()"
   ]
  },
  {
   "cell_type": "code",
   "execution_count": 35,
   "metadata": {
    "collapsed": true
   },
   "outputs": [],
   "source": [
    "# Take a few minutes to implement print_status(), then print it here.\n",
    "\n"
   ]
  },
  {
   "cell_type": "code",
   "execution_count": null,
   "metadata": {
    "collapsed": true
   },
   "outputs": [],
   "source": []
  },
  {
   "cell_type": "code",
   "execution_count": null,
   "metadata": {
    "collapsed": true
   },
   "outputs": [],
   "source": []
  },
  {
   "cell_type": "code",
   "execution_count": null,
   "metadata": {
    "collapsed": true
   },
   "outputs": [],
   "source": [
    "# Now we need to make this thing run.  Implement the step() and the run() methods.  "
   ]
  },
  {
   "cell_type": "code",
   "execution_count": null,
   "metadata": {
    "collapsed": true
   },
   "outputs": [],
   "source": []
  },
  {
   "cell_type": "code",
   "execution_count": null,
   "metadata": {
    "collapsed": true
   },
   "outputs": [],
   "source": []
  },
  {
   "cell_type": "code",
   "execution_count": null,
   "metadata": {
    "collapsed": true
   },
   "outputs": [],
   "source": [
    "# Let's test our model for a 20x20 grid.  "
   ]
  },
  {
   "cell_type": "code",
   "execution_count": null,
   "metadata": {
    "collapsed": true
   },
   "outputs": [],
   "source": []
  },
  {
   "cell_type": "code",
   "execution_count": null,
   "metadata": {
    "collapsed": true
   },
   "outputs": [],
   "source": []
  },
  {
   "cell_type": "code",
   "execution_count": null,
   "metadata": {
    "collapsed": true
   },
   "outputs": [],
   "source": [
    "# What happens if people have a higher preference for similarity?  "
   ]
  },
  {
   "cell_type": "code",
   "execution_count": null,
   "metadata": {
    "collapsed": true
   },
   "outputs": [],
   "source": []
  },
  {
   "cell_type": "code",
   "execution_count": null,
   "metadata": {
    "collapsed": true
   },
   "outputs": [],
   "source": []
  },
  {
   "cell_type": "code",
   "execution_count": null,
   "metadata": {
    "collapsed": true
   },
   "outputs": [],
   "source": []
  }
 ],
 "metadata": {
  "anaconda-cloud": {},
  "kernelspec": {
   "display_name": "Python 3",
   "language": "python",
   "name": "python3"
  },
  "language_info": {
   "codemirror_mode": {
    "name": "ipython",
    "version": 3
   },
   "file_extension": ".py",
   "mimetype": "text/x-python",
   "name": "python",
   "nbconvert_exporter": "python",
   "pygments_lexer": "ipython3",
   "version": "3.7.1"
  }
 },
 "nbformat": 4,
 "nbformat_minor": 1
}
