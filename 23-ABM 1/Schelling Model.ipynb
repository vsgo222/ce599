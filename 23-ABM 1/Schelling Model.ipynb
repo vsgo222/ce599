{
 "cells": [
  {
   "cell_type": "code",
   "execution_count": 1,
   "metadata": {},
   "outputs": [],
   "source": [
    "import matplotlib.pyplot as plt\n",
    "import itertools\n",
    "import random\n",
    "import copy\n",
    "%load_ext autoreload\n",
    "%autoreload 2"
   ]
  },
  {
   "cell_type": "code",
   "execution_count": 2,
   "metadata": {},
   "outputs": [],
   "source": [
    "# when we're importing modules, they are normally only reloaded when we import.\n",
    "# here we're going to be making changes to the modules.  \n",
    "# this code tells python to reload them each time I execute a new line of code\n",
    "%load_ext autoreload\n",
    "%autoreload 2"
   ]
  },
  {
   "cell_type": "code",
   "execution_count": 3,
   "metadata": {},
   "outputs": [],
   "source": [
    "'''\n",
    "Create a new Schelling class. \n",
    "\n",
    "'''\n",
    "class Schelling:\n",
    "    # Schelling(20, 20, 0.3, 0.3, 5, 2)\n",
    "    def __init__(self, width, height, empty_ratio, similarity_threshold,n_iterations,races=2):\n",
    "        '''\n",
    "        '''\n",
    "        self.width = width\n",
    "        self.height = height\n",
    "        self.races=races\n",
    "        self.empty_ratio = empty_ratio\n",
    "        self.similarity_threshold = similarity_threshold\n",
    "        self.n_iterations = n_iterations\n",
    "        self.empty_houses = []\n",
    "        self.agents={}\n",
    "        \n",
    "        \n",
    "    def populate(self):\n",
    "        self.all_houses = list(itertools.product(range(self.width),range(self.height)))\n",
    "        random.shuffle(self.all_houses)\n",
    "        \n",
    "        self.n_empty = int(self.empty_ratio*len(self.all_houses))\n",
    "        self.empty_houses = self.all_houses[:self.n_empty]\n",
    "        \n",
    "        self.remaining_houses = self.all_houses[self.n_empty:]\n",
    "        houses_by_race = [self.remaining_houses[i::self.races] for i in range(self.races)]\n",
    "        for i in range(self.races):\n",
    "            # create agent for each race\n",
    "            self.agents = dict(\n",
    "                                list(self.agents.items()) + \n",
    "                                list(dict(zip(houses_by_race[i],[i+1]*len(houses_by_race[i]))).items())\n",
    "                              )\n",
    "\n",
    "    def is_unsatisfied(self,x,y):\n",
    "        race = self.agents[(x,y)]\n",
    "        count_similar=0\n",
    "        count_difference =0\n",
    "        if x>0 and y>0 and (x-1,y-1) not in self.empty_houses:\n",
    "            if self.agents[(x-1,y-1)]==race:\n",
    "                count_similar+=1\n",
    "            else:\n",
    "                count_difference+=1\n",
    "\n",
    "        if y>0 and (x,y-1) not in self.empty_houses:\n",
    "            if self.agents[(x,y-1)]==race:\n",
    "                count_similar+=1\n",
    "            else:\n",
    "                count_difference+=1\n",
    "\n",
    "        if x<(self.width-1) and y>0 and (x+1,y-1) not in self.empty_houses:\n",
    "            if self.agents[(x+1,y-1)]==race:\n",
    "                count_similar+=1\n",
    "            else:\n",
    "                count_difference+=1\n",
    "\n",
    "        if x>0 and (x-1,y) not in self.empty_houses:\n",
    "            if self.agents[(x-1,y)]==race:\n",
    "                count_similar+=1\n",
    "            else:\n",
    "                count_difference+=1\n",
    "\n",
    "        if x<(self.width-1) and (x+1,y) not in self.empty_houses:\n",
    "            if self.agents[(x+1,y)]==race:\n",
    "                count_similar+=1\n",
    "            else:\n",
    "                count_difference+=1\n",
    "\n",
    "\n",
    "        # now with self.height\n",
    "        if x>0 and y<(self.height-1) and (x,y+1) not in self.empty_houses:\n",
    "            if self.agents[(x,y+1)]==race:\n",
    "                count_similar+=1\n",
    "            else:\n",
    "                count_difference+=1\n",
    "                \n",
    "        if x<(self.width-1) and y<(self.height-1) and (x+1,y+1) not in self.empty_houses:\n",
    "            if self.agents[(x+1,y+1)]==race:\n",
    "                count_similar+=1\n",
    "            else:\n",
    "                count_difference+=1\n",
    "\n",
    "        if (count_similar + count_difference)==0:\n",
    "            return False\n",
    "        else:\n",
    "            return float(count_similar/(count_similar + count_difference))<self.similarity_threshold\n",
    "\n",
    "\n",
    "\n",
    "    def update(self):\n",
    "        for i in range(self.n_iterations):\n",
    "            self.old_agents = copy.deepcopy(self.agents)\n",
    "            n_change=0\n",
    "            for agent in self.old_agents:\n",
    "                if self.is_unsatisfied(agent[0],agent[1]):\n",
    "                    agent_race=self.agents[agent]\n",
    "                    empty_house = random.choice(self.empty_houses)\n",
    "                    self.agents[empty_house]=agent_race\n",
    "                    del self.agents[agent]\n",
    "                    self.empty_houses.remove(empty_house)\n",
    "                    self.empty_houses.append(agent)\n",
    "                    n_change+=1\n",
    "            print(n_change)\n",
    "            if n_change==0:\n",
    "                break\n",
    "\n",
    "\n",
    "    def move_to_empty(self,x,y):\n",
    "        race=self.agents[(x,y)]\n",
    "        empty_house = randome.choice(self.empty_houses)\n",
    "        self.updated_agents[empty_house]=race\n",
    "        del self.updated_agents[(x,y)]\n",
    "        self.empty_houses.remove(empty_house)\n",
    "        self.empty_houses.append((x,y))\n",
    "\n",
    "\n",
    "    def plot(self, title, file_name):\n",
    "        fig, ax = plt.subplots()\n",
    "        #If you want to run the simulation with more than 7 colors, you should set agent_colors accordingly\n",
    "        agent_colors = {1:'b', 2:'r', 3:'g', 4:'c', 5:'m', 6:'y', 7:'k'}\n",
    "        for agent in self.agents:\n",
    "            ax.scatter(agent[0]+0.5, agent[1]+0.5, color=agent_colors[self.agents[agent]])\n",
    "\n",
    "        ax.set_title(title, fontsize=10, fontweight='bold')\n",
    "        ax.set_xlim([0, self.width])\n",
    "        ax.set_ylim([0, self.height])\n",
    "        ax.set_xticks([])\n",
    "        ax.set_yticks([])\n",
    "        plt.savefig(file_name)\n",
    "        \n",
    "    \n",
    "    def calculate_similarity(self):\n",
    "        similarity=[]\n",
    "        for agent in self.agents:\n",
    "            count_similar = 0\n",
    "            count_difference = 0\n",
    "            x=agent[0]\n",
    "            y=agent[1]\n",
    "            race = self.agents[(x,y)]\n",
    "            if x>0 and y>0 and (x-1,y-1) not in self.empty_houses:\n",
    "                if self.agents[(x-1,y-1)]==race:\n",
    "                    count_similar+=1\n",
    "                else:\n",
    "                    count_difference+=1\n",
    "            \n",
    "            if y>0 and (x,y-1) not in self.empty_houses:\n",
    "                if self.agents[(x,y-1)]==race:\n",
    "                    count_similar+=1\n",
    "                else:\n",
    "                    count_difference+=1\n",
    "            \n",
    "            if x<(self.width-1) and y>0 and (x+1,y-1) not in self.empty_houses:\n",
    "                if self.agents[(x+1,y-1)] == race:\n",
    "                    count_similar+=1\n",
    "                else:\n",
    "                    count_difference+=1\n",
    "                    \n",
    "            if x>0 and (x-1,y) not in self.empty_houses:\n",
    "                if self.agents[(x-1,y)]==race:\n",
    "                    count_similar+=1\n",
    "                else:\n",
    "                    count_difference+=1\n",
    "                    \n",
    "            if x<(self.width-1) and (x+1,y) not in self.empty_houses:\n",
    "                if self.agents[(x+1,y)]==race:\n",
    "                    count_similar+=1\n",
    "                else:\n",
    "                    count_difference+=1\n",
    "                    \n",
    "            if x>0 and y< (self.height-1) and (x-1,y+1) not in self.empty_houses:\n",
    "                if self.agents[(x-1,y+1)]==race:\n",
    "                    count_similar+=1\n",
    "                else:\n",
    "                    count_difference+=1\n",
    "            \n",
    "            if x>0 and y<(self.height-1) and (x,y+1) not in self.empty_houses:\n",
    "                if self.agents[(x,y+1)]==race:\n",
    "                    count_similar+=1\n",
    "                else:\n",
    "                    count_difference+=1\n",
    "                    \n",
    "            if x<(self.width-1) and y<(self.height-1) and (x+1,y+1) not in self.empty_houses:\n",
    "                if self.agents[(x+1,y+1)]==race:\n",
    "                    count_similar+=1\n",
    "                else:\n",
    "                    count_difference+=1\n",
    "\n",
    "            try:\n",
    "                similarity.append(float(count_similar)/(count_similar+count_difference))\n",
    "            except:\n",
    "                similarity.append(1)\n",
    "                \n",
    "        return sum(similarity)/len(similarity)                    "
   ]
  },
  {
   "cell_type": "code",
   "execution_count": 4,
   "metadata": {},
   "outputs": [],
   "source": [
    "schelling_1 = Schelling(20, 20, 0.3, 0.3, 5, 2)\n",
    "schelling_1.populate()"
   ]
  },
  {
   "cell_type": "code",
   "execution_count": 5,
   "metadata": {},
   "outputs": [
    {
     "name": "stdout",
     "output_type": "stream",
     "text": [
      "56\n",
      "24\n",
      "11\n",
      "5\n",
      "1\n"
     ]
    },
    {
     "data": {
      "image/png": "[encoded data removed]",
      "text/plain": [
       "<Figure size 432x288 with 1 Axes>"
      ]
     },
     "metadata": {},
     "output_type": "display_data"
    }
   ],
   "source": [
    "schelling_1.update()\n",
    "schelling_1.plot('Schelling Model with 2 colors: Final State with Similarity Threshold 30%', 'schelling_2_30_final.png')"
   ]
  },
  {
   "cell_type": "code",
   "execution_count": 9,
   "metadata": {},
   "outputs": [
    {
     "name": "stdout",
     "output_type": "stream",
     "text": [
      "0\n",
      "22\n",
      "4\n",
      "0\n",
      "23\n",
      "9\n",
      "4\n",
      "2\n",
      "0\n",
      "46\n",
      "26\n",
      "14\n",
      "8\n",
      "9\n",
      "78\n",
      "40\n",
      "21\n",
      "9\n",
      "7\n",
      "102\n",
      "58\n",
      "34\n",
      "20\n",
      "14\n",
      "157\n",
      "87\n",
      "58\n",
      "30\n",
      "21\n",
      "211\n",
      "151\n",
      "123\n",
      "105\n",
      "94\n"
     ]
    }
   ],
   "source": [
    "similarity_threshold_ratio = {}\n",
    "for i in [0,0.1,0.2,0.3,0.4,0.5,0.6,0.7]:\n",
    "    schelling = Schelling(20,20,0.3,i,5,2)\n",
    "    schelling.populate()\n",
    "    schelling.update()\n",
    "    similarity_threshold_ratio[i] = schelling.calculate_similarity()"
   ]
  },
  {
   "cell_type": "code",
   "execution_count": 10,
   "metadata": {},
   "outputs": [
    {
     "name": "stdout",
     "output_type": "stream",
     "text": [
      "{0: 0.4885289115646259, 0.1: 0.5978231292517008, 0.2: 0.6201190476190473, 0.3: 0.727329931972789, 0.4: 0.7758503401360547, 0.5: 0.8161862244897963, 0.6: 0.8890136054421771, 0.7: 0.7939880952380953}\n"
     ]
    }
   ],
   "source": [
    "print(similarity_threshold_ratio)"
   ]
  },
  {
   "cell_type": "code",
   "execution_count": 12,
   "metadata": {},
   "outputs": [
    {
     "data": {
      "image/png": "[encoded data removed]",
      "text/plain": [
       "<Figure size 432x288 with 1 Axes>"
      ]
     },
     "metadata": {
      "needs_background": "light"
     },
     "output_type": "display_data"
    }
   ],
   "source": [
    "fig, ax = plt.subplots()\n",
    "# plt.plot(similarity_threshold_ratio.keys(), similarity_threshold_ratio.values(),'ro')\n",
    "plt.plot(*zip(*sorted(similarity_threshold_ratio.items())),'ro')\n",
    "ax.set_xlim([0, 1])\n",
    "ax.set_ylim([0, 1.1])\n",
    "ax.set_xlabel(\"Similarity Threshold\")\n",
    "ax.set_ylabel(\"Mean Similarity Ratio\")\n",
    "plt.savefig('schelling_segregation_measure.png')"
   ]
  }
 ],
 "metadata": {
  "kernelspec": {
   "display_name": "Python 3",
   "language": "python",
   "name": "python3"
  },
  "language_info": {
   "codemirror_mode": {
    "name": "ipython",
    "version": 3
   },
   "file_extension": ".py",
   "mimetype": "text/x-python",
   "name": "python",
   "nbconvert_exporter": "python",
   "pygments_lexer": "ipython3",
   "version": "3.7.4"
  }
 },
 "nbformat": 4,
 "nbformat_minor": 2
}
