{
 "cells": [
  {
   "cell_type": "markdown",
   "metadata": {},
   "source": [
    "# Time-Series Modeling\n",
    "\n",
    "This lesson is adapted from Sean Abu: \n",
    "\n",
    "http://www.seanabu.com/2016/03/22/time-series-seasonal-ARIMA-model-in-python/\n",
    "\n",
    "With examples from Forecasting Principles and Practice, by Hyndman and Athanastopoulos: \n",
    "\n",
    "https://www.otexts.org/fpp\n",
    "\n",
    "The latter is an excellent text book and worth checking out.  I also recommend their fpp package for R, which provides some nice functionality to auto-select the order of an ARIMA model.  \n",
    "\n",
    "### Basics\n",
    "\n",
    "A time-series is a series of data points indexed in time order.  It is naturally one-dimensional, and for our purposes we will consider that all points are equally spaced.\n",
    "\n",
    "We may want to model time series for either inference (understanding statistical relationships), or for forecasting.  We may select different approaches depending on our interest.  There are two main approaches we will consider here: \n",
    "\n",
    "1. Regression on time-series data. This is about predicting a time series based on exogenous variables.  \n",
    "2. ARIMA modeling.  This is about predicting a time series as a function of its past values.  \n",
    "\n",
    "We can also combine the two: ARIMA models with exogenous regressors.  \n",
    "\n",
    "The focus today is on the modeling.  Pandas provides some nice data wrangling methods for working with time series data which are documented here: \n",
    "\n",
    "http://pandas.pydata.org/pandas-docs/stable/timeseries.html\n"
   ]
  },
  {
   "cell_type": "markdown",
   "metadata": {},
   "source": [
    "### Regression on time-series data\n"
   ]
  },
  {
   "cell_type": "code",
   "execution_count": 1,
   "metadata": {},
   "outputs": [],
   "source": [
    "%matplotlib inline\n",
    "\n",
    "import pandas as pd\n",
    "import seaborn as sns\n",
    "import numpy as np\n",
    "import statsmodels.api as sm\n",
    "import statsmodels.formula.api as smf\n"
   ]
  },
  {
   "cell_type": "code",
   "execution_count": 2,
   "metadata": {},
   "outputs": [
    {
     "data": {
      "text/html": [
       "<div>\n",
       "<style scoped>\n",
       "    .dataframe tbody tr th:only-of-type {\n",
       "        vertical-align: middle;\n",
       "    }\n",
       "\n",
       "    .dataframe tbody tr th {\n",
       "        vertical-align: top;\n",
       "    }\n",
       "\n",
       "    .dataframe thead th {\n",
       "        text-align: right;\n",
       "    }\n",
       "</style>\n",
       "<table border=\"1\" class=\"dataframe\">\n",
       "  <thead>\n",
       "    <tr style=\"text-align: right;\">\n",
       "      <th></th>\n",
       "      <th>AUSAIR</th>\n",
       "      <th>GUINEARICE</th>\n",
       "    </tr>\n",
       "    <tr>\n",
       "      <th>YEAR</th>\n",
       "      <th></th>\n",
       "      <th></th>\n",
       "    </tr>\n",
       "  </thead>\n",
       "  <tbody>\n",
       "    <tr>\n",
       "      <td>1970-01-01</td>\n",
       "      <td>7.318700</td>\n",
       "      <td>0.311405</td>\n",
       "    </tr>\n",
       "    <tr>\n",
       "      <td>1971-01-01</td>\n",
       "      <td>7.326600</td>\n",
       "      <td>0.325180</td>\n",
       "    </tr>\n",
       "    <tr>\n",
       "      <td>1972-01-01</td>\n",
       "      <td>7.795600</td>\n",
       "      <td>0.339565</td>\n",
       "    </tr>\n",
       "    <tr>\n",
       "      <td>1973-01-01</td>\n",
       "      <td>9.384600</td>\n",
       "      <td>0.354580</td>\n",
       "    </tr>\n",
       "    <tr>\n",
       "      <td>1974-01-01</td>\n",
       "      <td>10.664700</td>\n",
       "      <td>0.370265</td>\n",
       "    </tr>\n",
       "    <tr>\n",
       "      <td>1975-01-01</td>\n",
       "      <td>11.055100</td>\n",
       "      <td>0.386640</td>\n",
       "    </tr>\n",
       "    <tr>\n",
       "      <td>1976-01-01</td>\n",
       "      <td>10.864300</td>\n",
       "      <td>0.403740</td>\n",
       "    </tr>\n",
       "    <tr>\n",
       "      <td>1977-01-01</td>\n",
       "      <td>11.306500</td>\n",
       "      <td>0.421600</td>\n",
       "    </tr>\n",
       "    <tr>\n",
       "      <td>1978-01-01</td>\n",
       "      <td>12.122300</td>\n",
       "      <td>0.440250</td>\n",
       "    </tr>\n",
       "    <tr>\n",
       "      <td>1979-01-01</td>\n",
       "      <td>13.022500</td>\n",
       "      <td>0.459720</td>\n",
       "    </tr>\n",
       "    <tr>\n",
       "      <td>1980-01-01</td>\n",
       "      <td>13.648800</td>\n",
       "      <td>0.480055</td>\n",
       "    </tr>\n",
       "    <tr>\n",
       "      <td>1981-01-01</td>\n",
       "      <td>13.219500</td>\n",
       "      <td>0.501290</td>\n",
       "    </tr>\n",
       "    <tr>\n",
       "      <td>1982-01-01</td>\n",
       "      <td>13.187900</td>\n",
       "      <td>0.523460</td>\n",
       "    </tr>\n",
       "    <tr>\n",
       "      <td>1983-01-01</td>\n",
       "      <td>12.601500</td>\n",
       "      <td>0.546610</td>\n",
       "    </tr>\n",
       "    <tr>\n",
       "      <td>1984-01-01</td>\n",
       "      <td>13.236800</td>\n",
       "      <td>0.570790</td>\n",
       "    </tr>\n",
       "    <tr>\n",
       "      <td>1985-01-01</td>\n",
       "      <td>14.412100</td>\n",
       "      <td>0.596035</td>\n",
       "    </tr>\n",
       "    <tr>\n",
       "      <td>1986-01-01</td>\n",
       "      <td>15.497300</td>\n",
       "      <td>0.622395</td>\n",
       "    </tr>\n",
       "    <tr>\n",
       "      <td>1987-01-01</td>\n",
       "      <td>16.880200</td>\n",
       "      <td>0.649925</td>\n",
       "    </tr>\n",
       "    <tr>\n",
       "      <td>1988-01-01</td>\n",
       "      <td>18.816300</td>\n",
       "      <td>0.678670</td>\n",
       "    </tr>\n",
       "    <tr>\n",
       "      <td>1989-01-01</td>\n",
       "      <td>15.114300</td>\n",
       "      <td>0.708690</td>\n",
       "    </tr>\n",
       "    <tr>\n",
       "      <td>1990-01-01</td>\n",
       "      <td>17.553400</td>\n",
       "      <td>0.740035</td>\n",
       "    </tr>\n",
       "    <tr>\n",
       "      <td>1991-01-01</td>\n",
       "      <td>21.860100</td>\n",
       "      <td>0.772765</td>\n",
       "    </tr>\n",
       "    <tr>\n",
       "      <td>1992-01-01</td>\n",
       "      <td>23.886600</td>\n",
       "      <td>0.806945</td>\n",
       "    </tr>\n",
       "    <tr>\n",
       "      <td>1993-01-01</td>\n",
       "      <td>26.929300</td>\n",
       "      <td>0.842635</td>\n",
       "    </tr>\n",
       "    <tr>\n",
       "      <td>1994-01-01</td>\n",
       "      <td>26.888500</td>\n",
       "      <td>0.879905</td>\n",
       "    </tr>\n",
       "    <tr>\n",
       "      <td>1995-01-01</td>\n",
       "      <td>28.831400</td>\n",
       "      <td>0.918825</td>\n",
       "    </tr>\n",
       "    <tr>\n",
       "      <td>1996-01-01</td>\n",
       "      <td>30.075100</td>\n",
       "      <td>0.959460</td>\n",
       "    </tr>\n",
       "    <tr>\n",
       "      <td>1997-01-01</td>\n",
       "      <td>30.953500</td>\n",
       "      <td>1.001900</td>\n",
       "    </tr>\n",
       "    <tr>\n",
       "      <td>1998-01-01</td>\n",
       "      <td>30.185700</td>\n",
       "      <td>1.046220</td>\n",
       "    </tr>\n",
       "    <tr>\n",
       "      <td>1999-01-01</td>\n",
       "      <td>31.579700</td>\n",
       "      <td>1.092490</td>\n",
       "    </tr>\n",
       "    <tr>\n",
       "      <td>2000-01-01</td>\n",
       "      <td>32.577569</td>\n",
       "      <td>1.140810</td>\n",
       "    </tr>\n",
       "    <tr>\n",
       "      <td>2001-01-01</td>\n",
       "      <td>33.477398</td>\n",
       "      <td>1.033520</td>\n",
       "    </tr>\n",
       "    <tr>\n",
       "      <td>2002-01-01</td>\n",
       "      <td>39.021581</td>\n",
       "      <td>1.088670</td>\n",
       "    </tr>\n",
       "    <tr>\n",
       "      <td>2003-01-01</td>\n",
       "      <td>41.386432</td>\n",
       "      <td>1.146760</td>\n",
       "    </tr>\n",
       "    <tr>\n",
       "      <td>2004-01-01</td>\n",
       "      <td>41.596552</td>\n",
       "      <td>1.207960</td>\n",
       "    </tr>\n",
       "    <tr>\n",
       "      <td>2005-01-01</td>\n",
       "      <td>44.657324</td>\n",
       "      <td>1.272420</td>\n",
       "    </tr>\n",
       "    <tr>\n",
       "      <td>2006-01-01</td>\n",
       "      <td>46.951775</td>\n",
       "      <td>1.340310</td>\n",
       "    </tr>\n",
       "    <tr>\n",
       "      <td>2007-01-01</td>\n",
       "      <td>48.728837</td>\n",
       "      <td>1.401590</td>\n",
       "    </tr>\n",
       "    <tr>\n",
       "      <td>2008-01-01</td>\n",
       "      <td>51.488427</td>\n",
       "      <td>1.534090</td>\n",
       "    </tr>\n",
       "    <tr>\n",
       "      <td>2009-01-01</td>\n",
       "      <td>50.026967</td>\n",
       "      <td>1.499000</td>\n",
       "    </tr>\n",
       "  </tbody>\n",
       "</table>\n",
       "</div>"
      ],
      "text/plain": [
       "               AUSAIR  GUINEARICE\n",
       "YEAR                             \n",
       "1970-01-01   7.318700    0.311405\n",
       "1971-01-01   7.326600    0.325180\n",
       "1972-01-01   7.795600    0.339565\n",
       "1973-01-01   9.384600    0.354580\n",
       "1974-01-01  10.664700    0.370265\n",
       "1975-01-01  11.055100    0.386640\n",
       "1976-01-01  10.864300    0.403740\n",
       "1977-01-01  11.306500    0.421600\n",
       "1978-01-01  12.122300    0.440250\n",
       "1979-01-01  13.022500    0.459720\n",
       "1980-01-01  13.648800    0.480055\n",
       "1981-01-01  13.219500    0.501290\n",
       "1982-01-01  13.187900    0.523460\n",
       "1983-01-01  12.601500    0.546610\n",
       "1984-01-01  13.236800    0.570790\n",
       "1985-01-01  14.412100    0.596035\n",
       "1986-01-01  15.497300    0.622395\n",
       "1987-01-01  16.880200    0.649925\n",
       "1988-01-01  18.816300    0.678670\n",
       "1989-01-01  15.114300    0.708690\n",
       "1990-01-01  17.553400    0.740035\n",
       "1991-01-01  21.860100    0.772765\n",
       "1992-01-01  23.886600    0.806945\n",
       "1993-01-01  26.929300    0.842635\n",
       "1994-01-01  26.888500    0.879905\n",
       "1995-01-01  28.831400    0.918825\n",
       "1996-01-01  30.075100    0.959460\n",
       "1997-01-01  30.953500    1.001900\n",
       "1998-01-01  30.185700    1.046220\n",
       "1999-01-01  31.579700    1.092490\n",
       "2000-01-01  32.577569    1.140810\n",
       "2001-01-01  33.477398    1.033520\n",
       "2002-01-01  39.021581    1.088670\n",
       "2003-01-01  41.386432    1.146760\n",
       "2004-01-01  41.596552    1.207960\n",
       "2005-01-01  44.657324    1.272420\n",
       "2006-01-01  46.951775    1.340310\n",
       "2007-01-01  48.728837    1.401590\n",
       "2008-01-01  51.488427    1.534090\n",
       "2009-01-01  50.026967    1.499000"
      ]
     },
     "execution_count": 2,
     "metadata": {},
     "output_type": "execute_result"
    }
   ],
   "source": [
    "# This data has\n",
    "air = pd.read_csv('data/ausair.csv', parse_dates=['YEAR'], index_col='YEAR')\n",
    "air"
   ]
  },
  {
   "cell_type": "code",
   "execution_count": 3,
   "metadata": {},
   "outputs": [
    {
     "data": {
      "text/plain": [
       "array([<matplotlib.axes._subplots.AxesSubplot object at 0x0000027BF12DFEC8>,\n",
       "       <matplotlib.axes._subplots.AxesSubplot object at 0x0000027BF335CF88>],\n",
       "      dtype=object)"
      ]
     },
     "execution_count": 3,
     "metadata": {},
     "output_type": "execute_result"
    },
    {
     "data": {
      "image/png": "[encoded data removed]",
      "text/plain": [
       "<Figure size 432x288 with 2 Axes>"
      ]
     },
     "metadata": {
      "needs_background": "light"
     },
     "output_type": "display_data"
    }
   ],
   "source": [
    "# Both time series are growing over the period of interest...\n",
    "air.plot(subplots=True)"
   ]
  },
  {
   "cell_type": "code",
   "execution_count": 4,
   "metadata": {},
   "outputs": [
    {
     "data": {
      "text/plain": [
       "<seaborn.axisgrid.JointGrid at 0x27bf34d0d08>"
      ]
     },
     "execution_count": 4,
     "metadata": {},
     "output_type": "execute_result"
    },
    {
     "data": {
      "image/png": "[encoded data removed]",
      "text/plain": [
       "<Figure size 432x432 with 3 Axes>"
      ]
     },
     "metadata": {
      "needs_background": "light"
     },
     "output_type": "display_data"
    }
   ],
   "source": [
    "# when we plot them against each other, they look to be highly correlated...\n",
    "sns.jointplot(x=\"GUINEARICE\", y=\"AUSAIR\", data=air)"
   ]
  },
  {
   "cell_type": "code",
   "execution_count": 5,
   "metadata": {},
   "outputs": [
    {
     "name": "stdout",
     "output_type": "stream",
     "text": [
      "                            OLS Regression Results                            \n",
      "==============================================================================\n",
      "Dep. Variable:                 AUSAIR   R-squared:                       0.971\n",
      "Model:                            OLS   Adj. R-squared:                  0.970\n",
      "Method:                 Least Squares   F-statistic:                     1272.\n",
      "Date:                Thu, 09 Apr 2020   Prob (F-statistic):           7.94e-31\n",
      "Time:                        10:17:14   Log-Likelihood:                -89.643\n",
      "No. Observations:                  40   AIC:                             183.3\n",
      "Df Residuals:                      38   BIC:                             186.7\n",
      "Df Model:                           1                                         \n",
      "Covariance Type:            nonrobust                                         \n",
      "==============================================================================\n",
      "                 coef    std err          t      P>|t|      [0.025      0.975]\n",
      "------------------------------------------------------------------------------\n",
      "Intercept     -5.7297      0.903     -6.348      0.000      -7.557      -3.902\n",
      "GUINEARICE    37.4101      1.049     35.672      0.000      35.287      39.533\n",
      "==============================================================================\n",
      "Omnibus:                        1.905   Durbin-Watson:                   0.491\n",
      "Prob(Omnibus):                  0.386   Jarque-Bera (JB):                1.655\n",
      "Skew:                          -0.485   Prob(JB):                        0.437\n",
      "Kurtosis:                       2.774   Cond. No.                         4.73\n",
      "==============================================================================\n",
      "\n",
      "Warnings:\n",
      "[1] Standard Errors assume that the covariance matrix of the errors is correctly specified.\n"
     ]
    }
   ],
   "source": [
    "# so let's estimate a regression model\n",
    "mod = smf.ols(formula='AUSAIR ~ GUINEARICE', data=air)\n",
    "res = mod.fit()\n",
    "print(res.summary())"
   ]
  },
  {
   "cell_type": "markdown",
   "metadata": {},
   "source": [
    "#### Woohoo!  We got an r-squared of 0.97.  This is a great model!  Right?"
   ]
  },
  {
   "cell_type": "markdown",
   "metadata": {},
   "source": [
    "Sorry to disappoint, but this is an example of **spurious regression**.  Spurious regression can happen when working with time series that are non-stationary.  \n",
    "\n",
    "I would add that the model lacks a theoretical basis as well.  It clearly falls in the category of \"If you can't explain it, you can't use it!\"  However, spurious regression can occur even when there is a theoretical basis for the model.  \n",
    "\n",
    "A stationary time series is one whose properties do not depend on the time at which the series is observed.  To avoid spurious regression, we want the dependent variable and all regressors to be stationary.  "
   ]
  },
  {
   "cell_type": "markdown",
   "metadata": {},
   "source": [
    "One way to tell if data are stationary is to plot them, and look for either a trend or a cycle\n"
   ]
  },
  {
   "cell_type": "code",
   "execution_count": 6,
   "metadata": {},
   "outputs": [
    {
     "data": {
      "text/plain": [
       "array([<matplotlib.axes._subplots.AxesSubplot object at 0x0000027BF363B208>,\n",
       "       <matplotlib.axes._subplots.AxesSubplot object at 0x0000027BF36F88C8>],\n",
       "      dtype=object)"
      ]
     },
     "execution_count": 6,
     "metadata": {},
     "output_type": "execute_result"
    },
    {
     "data": {
      "image/png": "[encoded data removed]",
      "text/plain": [
       "<Figure size 432x288 with 2 Axes>"
      ]
     },
     "metadata": {
      "needs_background": "light"
     },
     "output_type": "display_data"
    }
   ],
   "source": [
    "# check for trend or cycle\n",
    "\n",
    "air.plot(subplots=True)"
   ]
  },
  {
   "cell_type": "markdown",
   "metadata": {},
   "source": [
    "We can also look at plots of the auto-correlation function (ACF).  auto-correlation is the correlation of the time-series past values.  There are some statistical tests for this as well, but often a graphical analysis is good enough. "
   ]
  },
  {
   "cell_type": "code",
   "execution_count": 7,
   "metadata": {},
   "outputs": [
    {
     "data": {
      "image/png": "[encoded data removed]",
      "text/plain": [
       "<Figure size 432x288 with 1 Axes>"
      ]
     },
     "metadata": {
      "needs_background": "light"
     },
     "output_type": "display_data"
    },
    {
     "data": {
      "image/png": "[encoded data removed]",
      "text/plain": [
       "<Figure size 432x288 with 1 Axes>"
      ]
     },
     "metadata": {
      "needs_background": "light"
     },
     "output_type": "display_data"
    }
   ],
   "source": [
    "# ACF plots\n",
    "\n",
    "fig = sm.graphics.tsa.plot_acf(air['AUSAIR'], lags=30)\n",
    "fig = sm.graphics.tsa.plot_acf(air['GUINEARICE'], lags=30)"
   ]
  },
  {
   "cell_type": "markdown",
   "metadata": {},
   "source": [
    "What do we do if the data are not stationary?  There are a few strategies, but differencing usually works.  All this means is subtracting each value from the previous value.  That way, you are modeling the change, rather than the total value.  "
   ]
  },
  {
   "cell_type": "code",
   "execution_count": 8,
   "metadata": {},
   "outputs": [
    {
     "data": {
      "text/html": [
       "<div>\n",
       "<style scoped>\n",
       "    .dataframe tbody tr th:only-of-type {\n",
       "        vertical-align: middle;\n",
       "    }\n",
       "\n",
       "    .dataframe tbody tr th {\n",
       "        vertical-align: top;\n",
       "    }\n",
       "\n",
       "    .dataframe thead th {\n",
       "        text-align: right;\n",
       "    }\n",
       "</style>\n",
       "<table border=\"1\" class=\"dataframe\">\n",
       "  <thead>\n",
       "    <tr style=\"text-align: right;\">\n",
       "      <th></th>\n",
       "      <th>AUSAIR</th>\n",
       "      <th>GUINEARICE</th>\n",
       "      <th>AUSAIR_DIFF</th>\n",
       "      <th>GUINEARICE_DIFF</th>\n",
       "    </tr>\n",
       "    <tr>\n",
       "      <th>YEAR</th>\n",
       "      <th></th>\n",
       "      <th></th>\n",
       "      <th></th>\n",
       "      <th></th>\n",
       "    </tr>\n",
       "  </thead>\n",
       "  <tbody>\n",
       "    <tr>\n",
       "      <td>1970-01-01</td>\n",
       "      <td>7.3187</td>\n",
       "      <td>0.311405</td>\n",
       "      <td>NaN</td>\n",
       "      <td>NaN</td>\n",
       "    </tr>\n",
       "    <tr>\n",
       "      <td>1971-01-01</td>\n",
       "      <td>7.3266</td>\n",
       "      <td>0.325180</td>\n",
       "      <td>0.0079</td>\n",
       "      <td>0.013775</td>\n",
       "    </tr>\n",
       "    <tr>\n",
       "      <td>1972-01-01</td>\n",
       "      <td>7.7956</td>\n",
       "      <td>0.339565</td>\n",
       "      <td>0.4690</td>\n",
       "      <td>0.014385</td>\n",
       "    </tr>\n",
       "    <tr>\n",
       "      <td>1973-01-01</td>\n",
       "      <td>9.3846</td>\n",
       "      <td>0.354580</td>\n",
       "      <td>1.5890</td>\n",
       "      <td>0.015015</td>\n",
       "    </tr>\n",
       "    <tr>\n",
       "      <td>1974-01-01</td>\n",
       "      <td>10.6647</td>\n",
       "      <td>0.370265</td>\n",
       "      <td>1.2801</td>\n",
       "      <td>0.015685</td>\n",
       "    </tr>\n",
       "  </tbody>\n",
       "</table>\n",
       "</div>"
      ],
      "text/plain": [
       "             AUSAIR  GUINEARICE  AUSAIR_DIFF  GUINEARICE_DIFF\n",
       "YEAR                                                         \n",
       "1970-01-01   7.3187    0.311405          NaN              NaN\n",
       "1971-01-01   7.3266    0.325180       0.0079         0.013775\n",
       "1972-01-01   7.7956    0.339565       0.4690         0.014385\n",
       "1973-01-01   9.3846    0.354580       1.5890         0.015015\n",
       "1974-01-01  10.6647    0.370265       1.2801         0.015685"
      ]
     },
     "execution_count": 8,
     "metadata": {},
     "output_type": "execute_result"
    }
   ],
   "source": [
    "# shift moves things by the specified number of rows\n",
    "\n",
    "air['AUSAIR_DIFF'] = air['AUSAIR'] - air['AUSAIR'].shift(1)  \n",
    "air['GUINEARICE_DIFF'] = air['GUINEARICE'] - air['GUINEARICE'].shift(1)  \n",
    "air.head()"
   ]
  },
  {
   "cell_type": "code",
   "execution_count": 9,
   "metadata": {},
   "outputs": [
    {
     "data": {
      "text/plain": [
       "array([<matplotlib.axes._subplots.AxesSubplot object at 0x0000027BF385E748>,\n",
       "       <matplotlib.axes._subplots.AxesSubplot object at 0x0000027BF3872D48>,\n",
       "       <matplotlib.axes._subplots.AxesSubplot object at 0x0000027BF364FA08>,\n",
       "       <matplotlib.axes._subplots.AxesSubplot object at 0x0000027BF394D7C8>],\n",
       "      dtype=object)"
      ]
     },
     "execution_count": 9,
     "metadata": {},
     "output_type": "execute_result"
    },
    {
     "data": {
      "image/png": "[encoded data removed]",
      "text/plain": [
       "<Figure size 432x288 with 4 Axes>"
      ]
     },
     "metadata": {
      "needs_background": "light"
     },
     "output_type": "display_data"
    }
   ],
   "source": [
    "# now does it look stationary? \n",
    "\n",
    "air.plot(subplots=True)"
   ]
  },
  {
   "cell_type": "code",
   "execution_count": 10,
   "metadata": {},
   "outputs": [
    {
     "data": {
      "image/png": "[encoded data removed]",
      "text/plain": [
       "<Figure size 432x288 with 1 Axes>"
      ]
     },
     "metadata": {
      "needs_background": "light"
     },
     "output_type": "display_data"
    },
    {
     "data": {
      "image/png": "[encoded data removed]",
      "text/plain": [
       "<Figure size 432x288 with 1 Axes>"
      ]
     },
     "metadata": {
      "needs_background": "light"
     },
     "output_type": "display_data"
    }
   ],
   "source": [
    "# ACF plots\n",
    "# the first row is missing, so skip that one..\n",
    "\n",
    "fig = sm.graphics.tsa.plot_acf(air['AUSAIR_DIFF'][1:], lags=30)\n",
    "fig = sm.graphics.tsa.plot_acf(air['GUINEARICE_DIFF'][1:], lags=30)"
   ]
  },
  {
   "cell_type": "code",
   "execution_count": 11,
   "metadata": {},
   "outputs": [
    {
     "data": {
      "text/html": [
       "<div>\n",
       "<style scoped>\n",
       "    .dataframe tbody tr th:only-of-type {\n",
       "        vertical-align: middle;\n",
       "    }\n",
       "\n",
       "    .dataframe tbody tr th {\n",
       "        vertical-align: top;\n",
       "    }\n",
       "\n",
       "    .dataframe thead th {\n",
       "        text-align: right;\n",
       "    }\n",
       "</style>\n",
       "<table border=\"1\" class=\"dataframe\">\n",
       "  <thead>\n",
       "    <tr style=\"text-align: right;\">\n",
       "      <th></th>\n",
       "      <th>AUSAIR</th>\n",
       "      <th>GUINEARICE</th>\n",
       "      <th>AUSAIR_DIFF</th>\n",
       "      <th>GUINEARICE_DIFF</th>\n",
       "      <th>AUSAIR_2DIFF</th>\n",
       "      <th>GUINEARICE_2DIFF</th>\n",
       "    </tr>\n",
       "    <tr>\n",
       "      <th>YEAR</th>\n",
       "      <th></th>\n",
       "      <th></th>\n",
       "      <th></th>\n",
       "      <th></th>\n",
       "      <th></th>\n",
       "      <th></th>\n",
       "    </tr>\n",
       "  </thead>\n",
       "  <tbody>\n",
       "    <tr>\n",
       "      <td>1970-01-01</td>\n",
       "      <td>7.3187</td>\n",
       "      <td>0.311405</td>\n",
       "      <td>NaN</td>\n",
       "      <td>NaN</td>\n",
       "      <td>NaN</td>\n",
       "      <td>NaN</td>\n",
       "    </tr>\n",
       "    <tr>\n",
       "      <td>1971-01-01</td>\n",
       "      <td>7.3266</td>\n",
       "      <td>0.325180</td>\n",
       "      <td>0.0079</td>\n",
       "      <td>0.013775</td>\n",
       "      <td>NaN</td>\n",
       "      <td>NaN</td>\n",
       "    </tr>\n",
       "    <tr>\n",
       "      <td>1972-01-01</td>\n",
       "      <td>7.7956</td>\n",
       "      <td>0.339565</td>\n",
       "      <td>0.4690</td>\n",
       "      <td>0.014385</td>\n",
       "      <td>0.4611</td>\n",
       "      <td>0.00061</td>\n",
       "    </tr>\n",
       "    <tr>\n",
       "      <td>1973-01-01</td>\n",
       "      <td>9.3846</td>\n",
       "      <td>0.354580</td>\n",
       "      <td>1.5890</td>\n",
       "      <td>0.015015</td>\n",
       "      <td>1.1200</td>\n",
       "      <td>0.00063</td>\n",
       "    </tr>\n",
       "    <tr>\n",
       "      <td>1974-01-01</td>\n",
       "      <td>10.6647</td>\n",
       "      <td>0.370265</td>\n",
       "      <td>1.2801</td>\n",
       "      <td>0.015685</td>\n",
       "      <td>-0.3089</td>\n",
       "      <td>0.00067</td>\n",
       "    </tr>\n",
       "  </tbody>\n",
       "</table>\n",
       "</div>"
      ],
      "text/plain": [
       "             AUSAIR  GUINEARICE  AUSAIR_DIFF  GUINEARICE_DIFF  AUSAIR_2DIFF  \\\n",
       "YEAR                                                                          \n",
       "1970-01-01   7.3187    0.311405          NaN              NaN           NaN   \n",
       "1971-01-01   7.3266    0.325180       0.0079         0.013775           NaN   \n",
       "1972-01-01   7.7956    0.339565       0.4690         0.014385        0.4611   \n",
       "1973-01-01   9.3846    0.354580       1.5890         0.015015        1.1200   \n",
       "1974-01-01  10.6647    0.370265       1.2801         0.015685       -0.3089   \n",
       "\n",
       "            GUINEARICE_2DIFF  \n",
       "YEAR                          \n",
       "1970-01-01               NaN  \n",
       "1971-01-01               NaN  \n",
       "1972-01-01           0.00061  \n",
       "1973-01-01           0.00063  \n",
       "1974-01-01           0.00067  "
      ]
     },
     "execution_count": 11,
     "metadata": {},
     "output_type": "execute_result"
    }
   ],
   "source": [
    "# if we have to, we can also calculate a second difference\n",
    "# don't go beyond 2\n",
    "\n",
    "air['AUSAIR_2DIFF'] = air['AUSAIR_DIFF'] - air['AUSAIR_DIFF'].shift(1)  \n",
    "air['GUINEARICE_2DIFF'] = air['GUINEARICE_DIFF'] - air['GUINEARICE_DIFF'].shift(1)  \n",
    "air.head()\n"
   ]
  },
  {
   "cell_type": "code",
   "execution_count": 12,
   "metadata": {},
   "outputs": [
    {
     "data": {
      "text/plain": [
       "array([<matplotlib.axes._subplots.AxesSubplot object at 0x0000027BF3C7B708>,\n",
       "       <matplotlib.axes._subplots.AxesSubplot object at 0x0000027BF3CC3988>,\n",
       "       <matplotlib.axes._subplots.AxesSubplot object at 0x0000027BF3C7F808>,\n",
       "       <matplotlib.axes._subplots.AxesSubplot object at 0x0000027BF3D27F88>,\n",
       "       <matplotlib.axes._subplots.AxesSubplot object at 0x0000027BF3D60848>,\n",
       "       <matplotlib.axes._subplots.AxesSubplot object at 0x0000027BF3D99588>],\n",
       "      dtype=object)"
      ]
     },
     "execution_count": 12,
     "metadata": {},
     "output_type": "execute_result"
    },
    {
     "data": {
      "image/png": "[encoded data removed]",
      "text/plain": [
       "<Figure size 432x288 with 6 Axes>"
      ]
     },
     "metadata": {
      "needs_background": "light"
     },
     "output_type": "display_data"
    }
   ],
   "source": [
    "\n",
    "air.plot(subplots=True)"
   ]
  },
  {
   "cell_type": "code",
   "execution_count": 13,
   "metadata": {},
   "outputs": [
    {
     "data": {
      "image/png": "[encoded data removed]",
      "text/plain": [
       "<Figure size 432x288 with 1 Axes>"
      ]
     },
     "metadata": {
      "needs_background": "light"
     },
     "output_type": "display_data"
    },
    {
     "data": {
      "image/png": "[encoded data removed]",
      "text/plain": [
       "<Figure size 432x288 with 1 Axes>"
      ]
     },
     "metadata": {
      "needs_background": "light"
     },
     "output_type": "display_data"
    }
   ],
   "source": [
    "# ACF plots\n",
    "# the first two rows are missing, so skip those..\n",
    "\n",
    "fig = sm.graphics.tsa.plot_acf(air['AUSAIR_2DIFF'][2:], lags=30)\n",
    "fig = sm.graphics.tsa.plot_acf(air['GUINEARICE_2DIFF'][2:], lags=30)"
   ]
  },
  {
   "cell_type": "code",
   "execution_count": 14,
   "metadata": {},
   "outputs": [
    {
     "name": "stdout",
     "output_type": "stream",
     "text": [
      "                            OLS Regression Results                            \n",
      "==============================================================================\n",
      "Dep. Variable:            AUSAIR_DIFF   R-squared:                       0.125\n",
      "Model:                            OLS   Adj. R-squared:                  0.102\n",
      "Method:                 Least Squares   F-statistic:                     5.295\n",
      "Date:                Thu, 09 Apr 2020   Prob (F-statistic):             0.0271\n",
      "Time:                        10:29:35   Log-Likelihood:                -70.079\n",
      "No. Observations:                  39   AIC:                             144.2\n",
      "Df Residuals:                      37   BIC:                             147.5\n",
      "Df Model:                           1                                         \n",
      "Covariance Type:            nonrobust                                         \n",
      "===================================================================================\n",
      "                      coef    std err          t      P>|t|      [0.025      0.975]\n",
      "-----------------------------------------------------------------------------------\n",
      "Intercept           0.5881      0.326      1.806      0.079      -0.072       1.248\n",
      "GUINEARICE_DIFF    16.6487      7.235      2.301      0.027       1.988      31.309\n",
      "==============================================================================\n",
      "Omnibus:                        6.783   Durbin-Watson:                   1.733\n",
      "Prob(Omnibus):                  0.034   Jarque-Bera (JB):               10.436\n",
      "Skew:                          -0.123   Prob(JB):                      0.00542\n",
      "Kurtosis:                       5.522   Cond. No.                         30.2\n",
      "==============================================================================\n",
      "\n",
      "Warnings:\n",
      "[1] Standard Errors assume that the covariance matrix of the errors is correctly specified.\n"
     ]
    }
   ],
   "source": [
    "# now what if we estimate the same model on the differenced data\n",
    "\n",
    "mod = smf.ols(formula='AUSAIR_DIFF ~ GUINEARICE_DIFF', data=air)\n",
    "res = mod.fit()\n",
    "print(res.summary())"
   ]
  },
  {
   "cell_type": "code",
   "execution_count": 15,
   "metadata": {},
   "outputs": [
    {
     "name": "stdout",
     "output_type": "stream",
     "text": [
      "                            OLS Regression Results                            \n",
      "==============================================================================\n",
      "Dep. Variable:           AUSAIR_2DIFF   R-squared:                       0.164\n",
      "Model:                            OLS   Adj. R-squared:                  0.141\n",
      "Method:                 Least Squares   F-statistic:                     7.088\n",
      "Date:                Thu, 09 Apr 2020   Prob (F-statistic):             0.0115\n",
      "Time:                        10:29:39   Log-Likelihood:                -79.187\n",
      "No. Observations:                  38   AIC:                             162.4\n",
      "Df Residuals:                      36   BIC:                             165.6\n",
      "Df Model:                           1                                         \n",
      "Covariance Type:            nonrobust                                         \n",
      "====================================================================================\n",
      "                       coef    std err          t      P>|t|      [0.025      0.975]\n",
      "------------------------------------------------------------------------------------\n",
      "Intercept           -0.0150      0.324     -0.046      0.963      -0.673       0.642\n",
      "GUINEARICE_2DIFF    18.3687      6.900      2.662      0.012       4.376      32.362\n",
      "==============================================================================\n",
      "Omnibus:                        6.128   Durbin-Watson:                   2.672\n",
      "Prob(Omnibus):                  0.047   Jarque-Bera (JB):                8.413\n",
      "Skew:                           0.116   Prob(JB):                       0.0149\n",
      "Kurtosis:                       5.293   Cond. No.                         21.3\n",
      "==============================================================================\n",
      "\n",
      "Warnings:\n",
      "[1] Standard Errors assume that the covariance matrix of the errors is correctly specified.\n"
     ]
    }
   ],
   "source": [
    "# now what if we estimate the same model on the second differenced data\n",
    "\n",
    "mod = smf.ols(formula='AUSAIR_2DIFF ~ GUINEARICE_2DIFF', data=air)\n",
    "res = mod.fit()\n",
    "print(res.summary())"
   ]
  },
  {
   "cell_type": "markdown",
   "metadata": {},
   "source": [
    "## Homework\n",
    "\n",
    "The data folder contains a time-series data set of ridership on the BART rail system from 2001 through 2015.  Estimate a regression model of the ridership (RIDERS) as a function of variables included in the data set.  Build as complete of a model as you can, but be sure you can explain it!"
   ]
  },
  {
   "cell_type": "code",
   "execution_count": 16,
   "metadata": {},
   "outputs": [
    {
     "data": {
      "text/html": [
       "<div>\n",
       "<style scoped>\n",
       "    .dataframe tbody tr th:only-of-type {\n",
       "        vertical-align: middle;\n",
       "    }\n",
       "\n",
       "    .dataframe tbody tr th {\n",
       "        vertical-align: top;\n",
       "    }\n",
       "\n",
       "    .dataframe thead th {\n",
       "        text-align: right;\n",
       "    }\n",
       "</style>\n",
       "<table border=\"1\" class=\"dataframe\">\n",
       "  <thead>\n",
       "    <tr style=\"text-align: right;\">\n",
       "      <th></th>\n",
       "      <th>RIDERS</th>\n",
       "      <th>STATIONS</th>\n",
       "      <th>CASH_FARE_2010USD_BART</th>\n",
       "      <th>AVG_FARE_2010USD_BART</th>\n",
       "      <th>HH</th>\n",
       "      <th>HH_0VEH</th>\n",
       "      <th>POP</th>\n",
       "      <th>WORKERS</th>\n",
       "      <th>MEDIAN_HHINC_2010USD</th>\n",
       "      <th>SERVMILES_E_BART</th>\n",
       "      <th>...</th>\n",
       "      <th>EDHEALTH_EMP</th>\n",
       "      <th>LEISURE_EMP</th>\n",
       "      <th>OTHER_EMP</th>\n",
       "      <th>FUEL_PRICE_2010USD</th>\n",
       "      <th>FUEL_COST_2010USD</th>\n",
       "      <th>TOLL_BB_PK_2010USD</th>\n",
       "      <th>TOLL_BB_OP_2010USD</th>\n",
       "      <th>TOLL_BB_CARPOOL_2010USD</th>\n",
       "      <th>CASUAL_CARPOOL</th>\n",
       "      <th>BART_STRIKE</th>\n",
       "    </tr>\n",
       "    <tr>\n",
       "      <th>MONTH</th>\n",
       "      <th></th>\n",
       "      <th></th>\n",
       "      <th></th>\n",
       "      <th></th>\n",
       "      <th></th>\n",
       "      <th></th>\n",
       "      <th></th>\n",
       "      <th></th>\n",
       "      <th></th>\n",
       "      <th></th>\n",
       "      <th></th>\n",
       "      <th></th>\n",
       "      <th></th>\n",
       "      <th></th>\n",
       "      <th></th>\n",
       "      <th></th>\n",
       "      <th></th>\n",
       "      <th></th>\n",
       "      <th></th>\n",
       "      <th></th>\n",
       "      <th></th>\n",
       "    </tr>\n",
       "  </thead>\n",
       "  <tbody>\n",
       "    <tr>\n",
       "      <td>2001-01-01</td>\n",
       "      <td>321180.5238</td>\n",
       "      <td>39</td>\n",
       "      <td>3.262745</td>\n",
       "      <td>2.555435</td>\n",
       "      <td>1452556.571</td>\n",
       "      <td>187359.1429</td>\n",
       "      <td>3870692.571</td>\n",
       "      <td>1924489.571</td>\n",
       "      <td>85841.07733</td>\n",
       "      <td>25527.10573</td>\n",
       "      <td>...</td>\n",
       "      <td>314779.0</td>\n",
       "      <td>179565.0</td>\n",
       "      <td>1317382.0</td>\n",
       "      <td>2.240335</td>\n",
       "      <td>0.101833</td>\n",
       "      <td>2.490645</td>\n",
       "      <td>2.490645</td>\n",
       "      <td>0.0</td>\n",
       "      <td>1</td>\n",
       "      <td>0</td>\n",
       "    </tr>\n",
       "    <tr>\n",
       "      <td>2001-02-01</td>\n",
       "      <td>334885.1053</td>\n",
       "      <td>39</td>\n",
       "      <td>3.249754</td>\n",
       "      <td>2.545259</td>\n",
       "      <td>1452696.413</td>\n",
       "      <td>187278.4921</td>\n",
       "      <td>3870052.746</td>\n",
       "      <td>1923471.413</td>\n",
       "      <td>85401.59874</td>\n",
       "      <td>25527.10573</td>\n",
       "      <td>...</td>\n",
       "      <td>319473.0</td>\n",
       "      <td>181972.0</td>\n",
       "      <td>1321821.0</td>\n",
       "      <td>2.227694</td>\n",
       "      <td>0.101182</td>\n",
       "      <td>2.480728</td>\n",
       "      <td>2.480728</td>\n",
       "      <td>0.0</td>\n",
       "      <td>1</td>\n",
       "      <td>0</td>\n",
       "    </tr>\n",
       "    <tr>\n",
       "      <td>2001-03-01</td>\n",
       "      <td>340021.5455</td>\n",
       "      <td>39</td>\n",
       "      <td>3.242376</td>\n",
       "      <td>2.539481</td>\n",
       "      <td>1452836.254</td>\n",
       "      <td>187197.8413</td>\n",
       "      <td>3869412.921</td>\n",
       "      <td>1922453.254</td>\n",
       "      <td>85110.28356</td>\n",
       "      <td>25527.10573</td>\n",
       "      <td>...</td>\n",
       "      <td>321266.0</td>\n",
       "      <td>184828.0</td>\n",
       "      <td>1331919.0</td>\n",
       "      <td>2.290702</td>\n",
       "      <td>0.103965</td>\n",
       "      <td>2.475096</td>\n",
       "      <td>2.475096</td>\n",
       "      <td>0.0</td>\n",
       "      <td>1</td>\n",
       "      <td>0</td>\n",
       "    </tr>\n",
       "    <tr>\n",
       "      <td>2001-04-01</td>\n",
       "      <td>333794.4286</td>\n",
       "      <td>39</td>\n",
       "      <td>3.229546</td>\n",
       "      <td>2.529432</td>\n",
       "      <td>1452976.095</td>\n",
       "      <td>187117.1905</td>\n",
       "      <td>3868773.095</td>\n",
       "      <td>1921435.095</td>\n",
       "      <td>84676.45762</td>\n",
       "      <td>25527.10573</td>\n",
       "      <td>...</td>\n",
       "      <td>321919.0</td>\n",
       "      <td>185372.0</td>\n",
       "      <td>1308563.0</td>\n",
       "      <td>2.436951</td>\n",
       "      <td>0.110519</td>\n",
       "      <td>2.465302</td>\n",
       "      <td>2.465302</td>\n",
       "      <td>0.0</td>\n",
       "      <td>1</td>\n",
       "      <td>0</td>\n",
       "    </tr>\n",
       "    <tr>\n",
       "      <td>2001-05-01</td>\n",
       "      <td>333847.4545</td>\n",
       "      <td>39</td>\n",
       "      <td>3.215007</td>\n",
       "      <td>2.518045</td>\n",
       "      <td>1453115.937</td>\n",
       "      <td>187036.5397</td>\n",
       "      <td>3868133.270</td>\n",
       "      <td>1920416.937</td>\n",
       "      <td>84198.65633</td>\n",
       "      <td>25527.10573</td>\n",
       "      <td>...</td>\n",
       "      <td>323980.0</td>\n",
       "      <td>188738.0</td>\n",
       "      <td>1302376.0</td>\n",
       "      <td>2.532738</td>\n",
       "      <td>0.114777</td>\n",
       "      <td>2.454204</td>\n",
       "      <td>2.454204</td>\n",
       "      <td>0.0</td>\n",
       "      <td>1</td>\n",
       "      <td>0</td>\n",
       "    </tr>\n",
       "    <tr>\n",
       "      <td>...</td>\n",
       "      <td>...</td>\n",
       "      <td>...</td>\n",
       "      <td>...</td>\n",
       "      <td>...</td>\n",
       "      <td>...</td>\n",
       "      <td>...</td>\n",
       "      <td>...</td>\n",
       "      <td>...</td>\n",
       "      <td>...</td>\n",
       "      <td>...</td>\n",
       "      <td>...</td>\n",
       "      <td>...</td>\n",
       "      <td>...</td>\n",
       "      <td>...</td>\n",
       "      <td>...</td>\n",
       "      <td>...</td>\n",
       "      <td>...</td>\n",
       "      <td>...</td>\n",
       "      <td>...</td>\n",
       "      <td>...</td>\n",
       "      <td>...</td>\n",
       "    </tr>\n",
       "    <tr>\n",
       "      <td>2015-05-01</td>\n",
       "      <td>424311.9500</td>\n",
       "      <td>46</td>\n",
       "      <td>3.466082</td>\n",
       "      <td>2.963072</td>\n",
       "      <td>NaN</td>\n",
       "      <td>NaN</td>\n",
       "      <td>NaN</td>\n",
       "      <td>NaN</td>\n",
       "      <td>NaN</td>\n",
       "      <td>30583.84000</td>\n",
       "      <td>...</td>\n",
       "      <td>NaN</td>\n",
       "      <td>NaN</td>\n",
       "      <td>NaN</td>\n",
       "      <td>NaN</td>\n",
       "      <td>NaN</td>\n",
       "      <td>NaN</td>\n",
       "      <td>NaN</td>\n",
       "      <td>NaN</td>\n",
       "      <td>1</td>\n",
       "      <td>0</td>\n",
       "    </tr>\n",
       "    <tr>\n",
       "      <td>2015-06-01</td>\n",
       "      <td>432868.5455</td>\n",
       "      <td>46</td>\n",
       "      <td>3.453983</td>\n",
       "      <td>2.952729</td>\n",
       "      <td>NaN</td>\n",
       "      <td>NaN</td>\n",
       "      <td>NaN</td>\n",
       "      <td>NaN</td>\n",
       "      <td>NaN</td>\n",
       "      <td>30583.84000</td>\n",
       "      <td>...</td>\n",
       "      <td>NaN</td>\n",
       "      <td>NaN</td>\n",
       "      <td>NaN</td>\n",
       "      <td>NaN</td>\n",
       "      <td>NaN</td>\n",
       "      <td>NaN</td>\n",
       "      <td>NaN</td>\n",
       "      <td>NaN</td>\n",
       "      <td>1</td>\n",
       "      <td>0</td>\n",
       "    </tr>\n",
       "    <tr>\n",
       "      <td>2015-07-01</td>\n",
       "      <td>427467.0909</td>\n",
       "      <td>46</td>\n",
       "      <td>3.453752</td>\n",
       "      <td>2.952531</td>\n",
       "      <td>NaN</td>\n",
       "      <td>NaN</td>\n",
       "      <td>NaN</td>\n",
       "      <td>NaN</td>\n",
       "      <td>NaN</td>\n",
       "      <td>30583.84000</td>\n",
       "      <td>...</td>\n",
       "      <td>NaN</td>\n",
       "      <td>NaN</td>\n",
       "      <td>NaN</td>\n",
       "      <td>NaN</td>\n",
       "      <td>NaN</td>\n",
       "      <td>NaN</td>\n",
       "      <td>NaN</td>\n",
       "      <td>NaN</td>\n",
       "      <td>1</td>\n",
       "      <td>0</td>\n",
       "    </tr>\n",
       "    <tr>\n",
       "      <td>2015-08-01</td>\n",
       "      <td>429749.6190</td>\n",
       "      <td>46</td>\n",
       "      <td>NaN</td>\n",
       "      <td>NaN</td>\n",
       "      <td>NaN</td>\n",
       "      <td>NaN</td>\n",
       "      <td>NaN</td>\n",
       "      <td>NaN</td>\n",
       "      <td>NaN</td>\n",
       "      <td>30583.84000</td>\n",
       "      <td>...</td>\n",
       "      <td>NaN</td>\n",
       "      <td>NaN</td>\n",
       "      <td>NaN</td>\n",
       "      <td>NaN</td>\n",
       "      <td>NaN</td>\n",
       "      <td>NaN</td>\n",
       "      <td>NaN</td>\n",
       "      <td>NaN</td>\n",
       "      <td>1</td>\n",
       "      <td>0</td>\n",
       "    </tr>\n",
       "    <tr>\n",
       "      <td>2015-09-01</td>\n",
       "      <td>445103.0000</td>\n",
       "      <td>46</td>\n",
       "      <td>NaN</td>\n",
       "      <td>NaN</td>\n",
       "      <td>NaN</td>\n",
       "      <td>NaN</td>\n",
       "      <td>NaN</td>\n",
       "      <td>NaN</td>\n",
       "      <td>NaN</td>\n",
       "      <td>30770.42219</td>\n",
       "      <td>...</td>\n",
       "      <td>NaN</td>\n",
       "      <td>NaN</td>\n",
       "      <td>NaN</td>\n",
       "      <td>NaN</td>\n",
       "      <td>NaN</td>\n",
       "      <td>NaN</td>\n",
       "      <td>NaN</td>\n",
       "      <td>NaN</td>\n",
       "      <td>1</td>\n",
       "      <td>0</td>\n",
       "    </tr>\n",
       "  </tbody>\n",
       "</table>\n",
       "<p>177 rows × 22 columns</p>\n",
       "</div>"
      ],
      "text/plain": [
       "                 RIDERS  STATIONS  CASH_FARE_2010USD_BART  \\\n",
       "MONTH                                                       \n",
       "2001-01-01  321180.5238        39                3.262745   \n",
       "2001-02-01  334885.1053        39                3.249754   \n",
       "2001-03-01  340021.5455        39                3.242376   \n",
       "2001-04-01  333794.4286        39                3.229546   \n",
       "2001-05-01  333847.4545        39                3.215007   \n",
       "...                 ...       ...                     ...   \n",
       "2015-05-01  424311.9500        46                3.466082   \n",
       "2015-06-01  432868.5455        46                3.453983   \n",
       "2015-07-01  427467.0909        46                3.453752   \n",
       "2015-08-01  429749.6190        46                     NaN   \n",
       "2015-09-01  445103.0000        46                     NaN   \n",
       "\n",
       "            AVG_FARE_2010USD_BART           HH      HH_0VEH          POP  \\\n",
       "MONTH                                                                      \n",
       "2001-01-01               2.555435  1452556.571  187359.1429  3870692.571   \n",
       "2001-02-01               2.545259  1452696.413  187278.4921  3870052.746   \n",
       "2001-03-01               2.539481  1452836.254  187197.8413  3869412.921   \n",
       "2001-04-01               2.529432  1452976.095  187117.1905  3868773.095   \n",
       "2001-05-01               2.518045  1453115.937  187036.5397  3868133.270   \n",
       "...                           ...          ...          ...          ...   \n",
       "2015-05-01               2.963072          NaN          NaN          NaN   \n",
       "2015-06-01               2.952729          NaN          NaN          NaN   \n",
       "2015-07-01               2.952531          NaN          NaN          NaN   \n",
       "2015-08-01                    NaN          NaN          NaN          NaN   \n",
       "2015-09-01                    NaN          NaN          NaN          NaN   \n",
       "\n",
       "                WORKERS  MEDIAN_HHINC_2010USD  SERVMILES_E_BART  ...  \\\n",
       "MONTH                                                            ...   \n",
       "2001-01-01  1924489.571           85841.07733       25527.10573  ...   \n",
       "2001-02-01  1923471.413           85401.59874       25527.10573  ...   \n",
       "2001-03-01  1922453.254           85110.28356       25527.10573  ...   \n",
       "2001-04-01  1921435.095           84676.45762       25527.10573  ...   \n",
       "2001-05-01  1920416.937           84198.65633       25527.10573  ...   \n",
       "...                 ...                   ...               ...  ...   \n",
       "2015-05-01          NaN                   NaN       30583.84000  ...   \n",
       "2015-06-01          NaN                   NaN       30583.84000  ...   \n",
       "2015-07-01          NaN                   NaN       30583.84000  ...   \n",
       "2015-08-01          NaN                   NaN       30583.84000  ...   \n",
       "2015-09-01          NaN                   NaN       30770.42219  ...   \n",
       "\n",
       "            EDHEALTH_EMP  LEISURE_EMP  OTHER_EMP  FUEL_PRICE_2010USD  \\\n",
       "MONTH                                                                  \n",
       "2001-01-01      314779.0     179565.0  1317382.0            2.240335   \n",
       "2001-02-01      319473.0     181972.0  1321821.0            2.227694   \n",
       "2001-03-01      321266.0     184828.0  1331919.0            2.290702   \n",
       "2001-04-01      321919.0     185372.0  1308563.0            2.436951   \n",
       "2001-05-01      323980.0     188738.0  1302376.0            2.532738   \n",
       "...                  ...          ...        ...                 ...   \n",
       "2015-05-01           NaN          NaN        NaN                 NaN   \n",
       "2015-06-01           NaN          NaN        NaN                 NaN   \n",
       "2015-07-01           NaN          NaN        NaN                 NaN   \n",
       "2015-08-01           NaN          NaN        NaN                 NaN   \n",
       "2015-09-01           NaN          NaN        NaN                 NaN   \n",
       "\n",
       "            FUEL_COST_2010USD  TOLL_BB_PK_2010USD  TOLL_BB_OP_2010USD  \\\n",
       "MONTH                                                                   \n",
       "2001-01-01           0.101833            2.490645            2.490645   \n",
       "2001-02-01           0.101182            2.480728            2.480728   \n",
       "2001-03-01           0.103965            2.475096            2.475096   \n",
       "2001-04-01           0.110519            2.465302            2.465302   \n",
       "2001-05-01           0.114777            2.454204            2.454204   \n",
       "...                       ...                 ...                 ...   \n",
       "2015-05-01                NaN                 NaN                 NaN   \n",
       "2015-06-01                NaN                 NaN                 NaN   \n",
       "2015-07-01                NaN                 NaN                 NaN   \n",
       "2015-08-01                NaN                 NaN                 NaN   \n",
       "2015-09-01                NaN                 NaN                 NaN   \n",
       "\n",
       "            TOLL_BB_CARPOOL_2010USD  CASUAL_CARPOOL  BART_STRIKE  \n",
       "MONTH                                                             \n",
       "2001-01-01                      0.0               1            0  \n",
       "2001-02-01                      0.0               1            0  \n",
       "2001-03-01                      0.0               1            0  \n",
       "2001-04-01                      0.0               1            0  \n",
       "2001-05-01                      0.0               1            0  \n",
       "...                             ...             ...          ...  \n",
       "2015-05-01                      NaN               1            0  \n",
       "2015-06-01                      NaN               1            0  \n",
       "2015-07-01                      NaN               1            0  \n",
       "2015-08-01                      NaN               1            0  \n",
       "2015-09-01                      NaN               1            0  \n",
       "\n",
       "[177 rows x 22 columns]"
      ]
     },
     "execution_count": 16,
     "metadata": {},
     "output_type": "execute_result"
    }
   ],
   "source": [
    "# BART File\n",
    "bart = pd.read_csv('data/BARTEstimationFile.csv', parse_dates=['MONTH'], index_col='MONTH')\n",
    "bart"
   ]
  },
  {
   "cell_type": "code",
   "execution_count": 28,
   "metadata": {},
   "outputs": [
    {
     "data": {
      "text/plain": [
       "array([<matplotlib.axes._subplots.AxesSubplot object at 0x0000027BF602A488>,\n",
       "       <matplotlib.axes._subplots.AxesSubplot object at 0x0000027BF59AEF08>,\n",
       "       <matplotlib.axes._subplots.AxesSubplot object at 0x0000027BF7110A88>,\n",
       "       <matplotlib.axes._subplots.AxesSubplot object at 0x0000027BF7185548>],\n",
       "      dtype=object)"
      ]
     },
     "execution_count": 28,
     "metadata": {},
     "output_type": "execute_result"
    },
    {
     "data": {
      "image/png": "[encoded data removed]",
      "text/plain": [
       "<Figure size 432x288 with 4 Axes>"
      ]
     },
     "metadata": {
      "needs_background": "light"
     },
     "output_type": "display_data"
    }
   ],
   "source": [
    "bart[['RIDERS','SERVMILES_E_BART','AVG_FARE_2010USD_BART','FUEL_PRICE_2010USD']].plot(subplots=True)"
   ]
  },
  {
   "cell_type": "code",
   "execution_count": 29,
   "metadata": {},
   "outputs": [
    {
     "data": {
      "text/plain": [
       "array([<matplotlib.axes._subplots.AxesSubplot object at 0x0000027BF71F1FC8>,\n",
       "       <matplotlib.axes._subplots.AxesSubplot object at 0x0000027BF72E9988>],\n",
       "      dtype=object)"
      ]
     },
     "execution_count": 29,
     "metadata": {},
     "output_type": "execute_result"
    },
    {
     "data": {
      "image/png": "[encoded data removed]",
      "text/plain": [
       "<Figure size 432x288 with 2 Axes>"
      ]
     },
     "metadata": {
      "needs_background": "light"
     },
     "output_type": "display_data"
    }
   ],
   "source": [
    "bart[['CASH_FARE_2010USD_BART','POP']].plot(subplots=True)"
   ]
  },
  {
   "cell_type": "code",
   "execution_count": 46,
   "metadata": {},
   "outputs": [
    {
     "data": {
      "image/png": "[encoded data removed]",
      "text/plain": [
       "<Figure size 432x288 with 1 Axes>"
      ]
     },
     "metadata": {
      "needs_background": "light"
     },
     "output_type": "display_data"
    }
   ],
   "source": [
    "fig = sm.graphics.tsa.plot_acf(bart['RIDERS'], lags=18)"
   ]
  },
  {
   "cell_type": "code",
   "execution_count": 47,
   "metadata": {},
   "outputs": [
    {
     "data": {
      "image/png": "[encoded data removed]",
      "text/plain": [
       "<Figure size 432x288 with 1 Axes>"
      ]
     },
     "metadata": {
      "needs_background": "light"
     },
     "output_type": "display_data"
    }
   ],
   "source": [
    "bart['RIDERS_DIFF'] = bart['RIDERS'] - bart['RIDERS'].shift(12)\n",
    "fig = sm.graphics.tsa.plot_acf(bart['RIDERS_DIFF'])"
   ]
  },
  {
   "cell_type": "code",
   "execution_count": 48,
   "metadata": {},
   "outputs": [
    {
     "data": {
      "image/png": "[encoded data removed]",
      "text/plain": [
       "<Figure size 432x288 with 1 Axes>"
      ]
     },
     "metadata": {
      "needs_background": "light"
     },
     "output_type": "display_data"
    }
   ],
   "source": [
    "fig = sm.graphics.tsa.plot_acf(bart['SERVMILES_E_BART'], lags=18)"
   ]
  },
  {
   "cell_type": "code",
   "execution_count": 49,
   "metadata": {
    "scrolled": true
   },
   "outputs": [
    {
     "data": {
      "image/png": "[encoded data removed]",
      "text/plain": [
       "<Figure size 432x288 with 1 Axes>"
      ]
     },
     "metadata": {
      "needs_background": "light"
     },
     "output_type": "display_data"
    }
   ],
   "source": [
    "bart['SERMILES_DIFF'] = bart['SERVMILES_E_BART'] - bart['SERVMILES_E_BART'].shift(12)\n",
    "fig = sm.graphics.tsa.plot_acf(bart['SERMILES_DIFF'])"
   ]
  },
  {
   "cell_type": "code",
   "execution_count": 39,
   "metadata": {},
   "outputs": [
    {
     "name": "stdout",
     "output_type": "stream",
     "text": [
      "                            OLS Regression Results                            \n",
      "==============================================================================\n",
      "Dep. Variable:            RIDERS_DIFF   R-squared:                       0.096\n",
      "Model:                            OLS   Adj. R-squared:                  0.090\n",
      "Method:                 Least Squares   F-statistic:                     17.28\n",
      "Date:                Thu, 09 Apr 2020   Prob (F-statistic):           5.21e-05\n",
      "Time:                        11:48:15   Log-Likelihood:                -1859.7\n",
      "No. Observations:                 165   AIC:                             3723.\n",
      "Df Residuals:                     163   BIC:                             3730.\n",
      "Df Model:                           1                                         \n",
      "Covariance Type:            nonrobust                                         \n",
      "=================================================================================\n",
      "                    coef    std err          t      P>|t|      [0.025      0.975]\n",
      "---------------------------------------------------------------------------------\n",
      "Intercept      5516.5825   1556.460      3.544      0.001    2443.157    8590.008\n",
      "SERMILES_DIFF     5.6100      1.350      4.156      0.000       2.945       8.275\n",
      "==============================================================================\n",
      "Omnibus:                       23.066   Durbin-Watson:                   0.801\n",
      "Prob(Omnibus):                  0.000   Jarque-Bera (JB):              119.187\n",
      "Skew:                           0.157   Prob(JB):                     1.31e-26\n",
      "Kurtosis:                       7.152   Cond. No.                     1.21e+03\n",
      "==============================================================================\n",
      "\n",
      "Warnings:\n",
      "[1] Standard Errors assume that the covariance matrix of the errors is correctly specified.\n",
      "[2] The condition number is large, 1.21e+03. This might indicate that there are\n",
      "strong multicollinearity or other numerical problems.\n"
     ]
    }
   ],
   "source": [
    "# so let's estimate a regression model\n",
    "mod = smf.ols(formula='RIDERS_DIFF ~ SERMILES_DIFF', data=bart)\n",
    "res = mod.fit()\n",
    "print(res.summary())"
   ]
  },
  {
   "cell_type": "code",
   "execution_count": 50,
   "metadata": {},
   "outputs": [
    {
     "data": {
      "image/png": "[encoded data removed]",
      "text/plain": [
       "<Figure size 432x288 with 1 Axes>"
      ]
     },
     "metadata": {
      "needs_background": "light"
     },
     "output_type": "display_data"
    }
   ],
   "source": [
    "# Lets include tot employment also\n",
    "fig = sm.graphics.tsa.plot_acf(bart['AVG_FARE_2010USD_BART'], lags=18)"
   ]
  },
  {
   "cell_type": "code",
   "execution_count": 55,
   "metadata": {},
   "outputs": [
    {
     "data": {
      "image/png": "[encoded data removed]",
      "text/plain": [
       "<Figure size 432x288 with 1 Axes>"
      ]
     },
     "metadata": {
      "needs_background": "light"
     },
     "output_type": "display_data"
    }
   ],
   "source": [
    "# Lets include median household income\n",
    "fig = sm.graphics.tsa.plot_acf(bart['MEDIAN_HHINC_2010USD'], lags=18)"
   ]
  },
  {
   "cell_type": "code",
   "execution_count": 56,
   "metadata": {},
   "outputs": [
    {
     "data": {
      "image/png": "[encoded data removed]",
      "text/plain": [
       "<Figure size 432x288 with 1 Axes>"
      ]
     },
     "metadata": {
      "needs_background": "light"
     },
     "output_type": "display_data"
    }
   ],
   "source": [
    "# Lets include tot employment also\n",
    "fig = sm.graphics.tsa.plot_acf(bart['TOTEMP'], lags=18)"
   ]
  },
  {
   "cell_type": "code",
   "execution_count": 58,
   "metadata": {
    "scrolled": true
   },
   "outputs": [
    {
     "data": {
      "image/png": "[encoded data removed]",
      "text/plain": [
       "<Figure size 432x288 with 1 Axes>"
      ]
     },
     "metadata": {
      "needs_background": "light"
     },
     "output_type": "display_data"
    }
   ],
   "source": [
    "# Lets include population also\n",
    "fig = sm.graphics.tsa.plot_acf(bart['POP'], lags=18)"
   ]
  },
  {
   "cell_type": "code",
   "execution_count": 61,
   "metadata": {},
   "outputs": [
    {
     "data": {
      "image/png": "[encoded data removed]",
      "text/plain": [
       "<Figure size 432x288 with 1 Axes>"
      ]
     },
     "metadata": {
      "needs_background": "light"
     },
     "output_type": "display_data"
    }
   ],
   "source": [
    "# Lets include fuel cost also\n",
    "fig = sm.graphics.tsa.plot_acf(bart['FUEL_COST_2010USD'], lags=18)"
   ]
  },
  {
   "cell_type": "code",
   "execution_count": 68,
   "metadata": {},
   "outputs": [
    {
     "name": "stdout",
     "output_type": "stream",
     "text": [
      "                            OLS Regression Results                            \n",
      "==============================================================================\n",
      "Dep. Variable:            RIDERS_DIFF   R-squared:                       0.467\n",
      "Model:                            OLS   Adj. R-squared:                  0.445\n",
      "Method:                 Least Squares   F-statistic:                     21.72\n",
      "Date:                Thu, 09 Apr 2020   Prob (F-statistic):           3.03e-18\n",
      "Time:                        12:02:30   Log-Likelihood:                -1719.4\n",
      "No. Observations:                 156   AIC:                             3453.\n",
      "Df Residuals:                     149   BIC:                             3474.\n",
      "Df Model:                           6                                         \n",
      "Covariance Type:            nonrobust                                         \n",
      "=========================================================================================\n",
      "                            coef    std err          t      P>|t|      [0.025      0.975]\n",
      "-----------------------------------------------------------------------------------------\n",
      "Intercept              4817.6641   6.45e+04      0.075      0.941   -1.23e+05    1.32e+05\n",
      "SERMILES_DIFF             5.4405      1.545      3.520      0.001       2.387       8.494\n",
      "AVG_FARE_2010USD_BART  3.818e+04    1.6e+04      2.387      0.018    6571.533    6.98e+04\n",
      "FUEL_COST_2010USD      1.518e+05   8.49e+04      1.789      0.076   -1.59e+04    3.19e+05\n",
      "MEDIAN_HHINC_2010USD     -2.6047      0.799     -3.262      0.001      -4.183      -1.027\n",
      "TOTEMP                    0.1863      0.036      5.147      0.000       0.115       0.258\n",
      "POP                      -0.0707      0.021     -3.360      0.001      -0.112      -0.029\n",
      "==============================================================================\n",
      "Omnibus:                       44.280   Durbin-Watson:                   1.392\n",
      "Prob(Omnibus):                  0.000   Jarque-Bera (JB):              932.214\n",
      "Skew:                          -0.113   Prob(JB):                    3.73e-203\n",
      "Kurtosis:                      14.974   Cond. No.                     3.28e+08\n",
      "==============================================================================\n",
      "\n",
      "Warnings:\n",
      "[1] Standard Errors assume that the covariance matrix of the errors is correctly specified.\n",
      "[2] The condition number is large, 3.28e+08. This might indicate that there are\n",
      "strong multicollinearity or other numerical problems.\n"
     ]
    }
   ],
   "source": [
    "# so let's estimate a regression model with service miles and average fares\n",
    "mod = smf.ols(formula='RIDERS_DIFF ~ \\\n",
    "                        SERMILES_DIFF \\\n",
    "                        + AVG_FARE_2010USD_BART \\\n",
    "                        + FUEL_COST_2010USD \\\n",
    "                        + MEDIAN_HHINC_2010USD \\\n",
    "                        + TOTEMP \\\n",
    "                        + POP',\n",
    "                        data=bart)\n",
    "res = mod.fit()\n",
    "print(res.summary())"
   ]
  },
  {
   "cell_type": "code",
   "execution_count": 81,
   "metadata": {},
   "outputs": [
    {
     "name": "stdout",
     "output_type": "stream",
     "text": [
      "                            OLS Regression Results                            \n",
      "==============================================================================\n",
      "Dep. Variable:            RIDERS_DIFF   R-squared:                       0.515\n",
      "Model:                            OLS   Adj. R-squared:                  0.493\n",
      "Method:                 Least Squares   F-statistic:                     22.49\n",
      "Date:                Thu, 09 Apr 2020   Prob (F-statistic):           1.53e-20\n",
      "Time:                        13:00:28   Log-Likelihood:                -1711.9\n",
      "No. Observations:                 156   AIC:                             3440.\n",
      "Df Residuals:                     148   BIC:                             3464.\n",
      "Df Model:                           7                                         \n",
      "Covariance Type:            nonrobust                                         \n",
      "=========================================================================================\n",
      "                            coef    std err          t      P>|t|      [0.025      0.975]\n",
      "-----------------------------------------------------------------------------------------\n",
      "Intercept              9.752e+04   6.61e+04      1.475      0.142   -3.32e+04    2.28e+05\n",
      "SERMILES_DIFF             4.2198      1.511      2.792      0.006       1.233       7.206\n",
      "AVG_FARE_2010USD_BART  7.332e+04   1.78e+04      4.120      0.000    3.82e+04    1.08e+05\n",
      "FUEL_COST_2010USD      2.224e+05   8.32e+04      2.674      0.008     5.8e+04    3.87e+05\n",
      "MEDIAN_HHINC_2010USD     -0.9045      0.881     -1.026      0.306      -2.646       0.837\n",
      "TOTEMP                    0.2121      0.035      6.018      0.000       0.142       0.282\n",
      "POP                      -0.1607      0.031     -5.222      0.000      -0.222      -0.100\n",
      "CASUAL_CARPOOL         -2.27e+04   5873.177     -3.866      0.000   -3.43e+04   -1.11e+04\n",
      "==============================================================================\n",
      "Omnibus:                       46.032   Durbin-Watson:                   1.528\n",
      "Prob(Omnibus):                  0.000   Jarque-Bera (JB):             1098.855\n",
      "Skew:                           0.081   Prob(JB):                    2.44e-239\n",
      "Kurtosis:                      16.001   Cond. No.                     3.29e+08\n",
      "==============================================================================\n",
      "\n",
      "Warnings:\n",
      "[1] Standard Errors assume that the covariance matrix of the errors is correctly specified.\n",
      "[2] The condition number is large, 3.29e+08. This might indicate that there are\n",
      "strong multicollinearity or other numerical problems.\n"
     ]
    }
   ],
   "source": [
    "# so let's estimate a regression model with service miles and average fares\n",
    "mod = smf.ols(formula='RIDERS_DIFF ~ \\\n",
    "                        SERMILES_DIFF \\\n",
    "                        + AVG_FARE_2010USD_BART \\\n",
    "                        + FUEL_COST_2010USD \\\n",
    "                        + MEDIAN_HHINC_2010USD \\\n",
    "                        + TOTEMP \\\n",
    "                        + POP \\\n",
    "                        + CASUAL_CARPOOL',\n",
    "                        data=bart)\n",
    "res = mod.fit()\n",
    "print(res.summary())"
   ]
  },
  {
   "cell_type": "code",
   "execution_count": 79,
   "metadata": {},
   "outputs": [
    {
     "name": "stdout",
     "output_type": "stream",
     "text": [
      "                            OLS Regression Results                            \n",
      "==============================================================================\n",
      "Dep. Variable:            RIDERS_DIFF   R-squared:                       0.622\n",
      "Model:                            OLS   Adj. R-squared:                  0.604\n",
      "Method:                 Least Squares   F-statistic:                     34.82\n",
      "Date:                Thu, 09 Apr 2020   Prob (F-statistic):           2.43e-28\n",
      "Time:                        12:58:48   Log-Likelihood:                -1692.5\n",
      "No. Observations:                 156   AIC:                             3401.\n",
      "Df Residuals:                     148   BIC:                             3425.\n",
      "Df Model:                           7                                         \n",
      "Covariance Type:            nonrobust                                         \n",
      "=========================================================================================\n",
      "                            coef    std err          t      P>|t|      [0.025      0.975]\n",
      "-----------------------------------------------------------------------------------------\n",
      "Intercept              9980.3137   5.63e+04      0.177      0.859   -1.01e+05    1.21e+05\n",
      "SERMILES_DIFF             6.1483      1.273      4.830      0.000       3.633       8.664\n",
      "AVG_FARE_2010USD_BART -1.106e+04   8434.522     -1.312      0.192   -2.77e+04    5604.840\n",
      "FUEL_COST_2010USD      1.335e+05   7.21e+04      1.852      0.066   -8923.900    2.76e+05\n",
      "MEDIAN_HHINC_2010USD     -2.9352      0.720     -4.074      0.000      -4.359      -1.512\n",
      "TOTEMP                    0.1219      0.025      4.847      0.000       0.072       0.172\n",
      "CASUAL_CARPOOL        -2346.7542   3407.945     -0.689      0.492   -9081.270    4387.762\n",
      "BART_STRIKE           -8.156e+04   9306.670     -8.764      0.000      -1e+05   -6.32e+04\n",
      "==============================================================================\n",
      "Omnibus:                       76.603   Durbin-Watson:                   1.227\n",
      "Prob(Omnibus):                  0.000   Jarque-Bera (JB):              614.280\n",
      "Skew:                           1.550   Prob(JB):                    4.08e-134\n",
      "Kurtosis:                      12.214   Cond. No.                     1.40e+08\n",
      "==============================================================================\n",
      "\n",
      "Warnings:\n",
      "[1] Standard Errors assume that the covariance matrix of the errors is correctly specified.\n",
      "[2] The condition number is large, 1.4e+08. This might indicate that there are\n",
      "strong multicollinearity or other numerical problems.\n"
     ]
    }
   ],
   "source": [
    "# so let's estimate a regression model with service miles and average fares\n",
    "mod = smf.ols(formula='RIDERS_DIFF ~ \\\n",
    "                        SERMILES_DIFF \\\n",
    "                        + AVG_FARE_2010USD_BART \\\n",
    "                        + FUEL_COST_2010USD \\\n",
    "                        + MEDIAN_HHINC_2010USD \\\n",
    "                        + TOTEMP \\\n",
    "                        + POP \\\n",
    "                        + CASUAL_CARPOOL \\\n",
    "                        + BART_STRIKE',\n",
    "                        data=bart)\n",
    "res = mod.fit()\n",
    "print(res.summary())"
   ]
  }
 ],
 "metadata": {
  "anaconda-cloud": {},
  "kernelspec": {
   "display_name": "Python 3",
   "language": "python",
   "name": "python3"
  },
  "language_info": {
   "codemirror_mode": {
    "name": "ipython",
    "version": 3
   },
   "file_extension": ".py",
   "mimetype": "text/x-python",
   "name": "python",
   "nbconvert_exporter": "python",
   "pygments_lexer": "ipython3",
   "version": "3.7.4"
  }
 },
 "nbformat": 4,
 "nbformat_minor": 1
}
