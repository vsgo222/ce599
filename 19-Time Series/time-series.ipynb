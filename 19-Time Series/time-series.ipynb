{
 "cells": [
  {
   "cell_type": "markdown",
   "metadata": {},
   "source": [
    "# Time-Series Modeling\n",
    "\n",
    "This lesson is adapted from Sean Abu: \n",
    "\n",
    "http://www.seanabu.com/2016/03/22/time-series-seasonal-ARIMA-model-in-python/\n",
    "\n",
    "With examples from Forecasting Principles and Practice, by Hyndman and Athanastopoulos: \n",
    "\n",
    "https://www.otexts.org/fpp\n",
    "\n",
    "The latter is an excellent text book and worth checking out.  I also recommend their fpp package for R, which provides some nice functionality to auto-select the order of an ARIMA model.  \n",
    "\n",
    "### Basics\n",
    "\n",
    "A time-series is a series of data points indexed in time order.  It is naturally one-dimensional, and for our purposes we will consider that all points are equally spaced.\n",
    "\n",
    "We may want to model time series for either inference (understanding statistical relationships), or for forecasting.  We may select different approaches depending on our interest.  There are two main approaches we will consider here: \n",
    "\n",
    "1. Regression on time-series data. This is about predicting a time series based on exogenous variables.  \n",
    "2. ARIMA modeling.  This is about predicting a time series as a function of its past values.  \n",
    "\n",
    "We can also combine the two: ARIMA models with exogenous regressors.  \n",
    "\n",
    "The focus today is on the modeling.  Pandas provides some nice data wrangling methods for working with time series data which are documented here: \n",
    "\n",
    "http://pandas.pydata.org/pandas-docs/stable/timeseries.html\n"
   ]
  },
  {
   "cell_type": "markdown",
   "metadata": {},
   "source": [
    "### Regression on time-series data\n"
   ]
  },
  {
   "cell_type": "code",
   "execution_count": null,
   "metadata": {},
   "outputs": [],
   "source": [
    "%matplotlib inline\n",
    "\n",
    "import pandas as pd\n",
    "import seaborn as sns\n",
    "import numpy as np\n",
    "import statsmodels.api as sm\n",
    "import statsmodels.formula.api as smf\n"
   ]
  },
  {
   "cell_type": "code",
   "execution_count": null,
   "metadata": {},
   "outputs": [],
   "source": [
    "# This data has\n",
    "air = pd.read_csv('data/ausair.csv', parse_dates=['YEAR'], index_col='YEAR')\n",
    "air"
   ]
  },
  {
   "cell_type": "code",
   "execution_count": null,
   "metadata": {},
   "outputs": [],
   "source": [
    "# Both time series are growing over the period of interest...\n",
    "\n",
    "air.plot(subplots=True)"
   ]
  },
  {
   "cell_type": "code",
   "execution_count": null,
   "metadata": {},
   "outputs": [],
   "source": [
    "# when we plot them against each other, they look to be highly correlated...\n",
    "\n",
    "sns.jointplot(x=\"GUINEARICE\", y=\"AUSAIR\", data=air)"
   ]
  },
  {
   "cell_type": "code",
   "execution_count": null,
   "metadata": {},
   "outputs": [],
   "source": [
    "# so let's estimate a regression model\n",
    "\n",
    "mod = smf.ols(formula='AUSAIR ~ GUINEARICE', data=air)\n",
    "res = mod.fit()\n",
    "print(res.summary())"
   ]
  },
  {
   "cell_type": "markdown",
   "metadata": {},
   "source": [
    "#### Woohoo!  We got an r-squared of 0.97.  This is a great model!  Right?"
   ]
  },
  {
   "cell_type": "markdown",
   "metadata": {},
   "source": [
    "Sorry to disappoint, but this is an example of **spurious regression**.  Spurious regression can happen when working with time series that are non-stationary.  \n",
    "\n",
    "I would add that the model lacks a theoretical basis as well.  It clearly falls in the category of \"If you can't explain it, you can't use it!\"  However, spurious regression can occur even when there is a theoretical basis for the model.  \n",
    "\n",
    "A stationary time series is one whose properties do not depend on the time at which the series is observed.  To avoid spurious regression, we want the dependent variable and all regressors to be stationary.  "
   ]
  },
  {
   "cell_type": "markdown",
   "metadata": {},
   "source": [
    "One way to tell if data are stationary is to plot them, and look for either a trend or a cycle\n"
   ]
  },
  {
   "cell_type": "code",
   "execution_count": null,
   "metadata": {},
   "outputs": [],
   "source": [
    "# check for trend or cycle\n",
    "\n",
    "air.plot(subplots=True)"
   ]
  },
  {
   "cell_type": "markdown",
   "metadata": {},
   "source": [
    "We can also look at plots of the auto-correlation function (ACF).  auto-correlation is the correlation of the time-series past values.  There are some statistical tests for this as well, but often a graphical analysis is good enough. "
   ]
  },
  {
   "cell_type": "code",
   "execution_count": null,
   "metadata": {},
   "outputs": [],
   "source": [
    "# ACF plots\n",
    "\n",
    "fig = sm.graphics.tsa.plot_acf(air['AUSAIR'], lags=30)\n",
    "fig = sm.graphics.tsa.plot_acf(air['GUINEARICE'], lags=30)"
   ]
  },
  {
   "cell_type": "markdown",
   "metadata": {},
   "source": [
    "What do we do if the data are not stationary?  There are a few strategies, but differencing usually works.  All this means is subtracting each value from the previous value.  That way, you are modeling the change, rather than the total value.  "
   ]
  },
  {
   "cell_type": "code",
   "execution_count": null,
   "metadata": {},
   "outputs": [],
   "source": [
    "# shift moves things by the specified number of rows\n",
    "\n",
    "air['AUSAIR_DIFF'] = air['AUSAIR'] - air['AUSAIR'].shift(1)  \n",
    "air['GUINEARICE_DIFF'] = air['GUINEARICE'] - air['GUINEARICE'].shift(1)  \n",
    "air.head()"
   ]
  },
  {
   "cell_type": "code",
   "execution_count": null,
   "metadata": {},
   "outputs": [],
   "source": [
    "# now does it look stationary? \n",
    "\n",
    "air.plot(subplots=True)"
   ]
  },
  {
   "cell_type": "code",
   "execution_count": null,
   "metadata": {},
   "outputs": [],
   "source": [
    "# ACF plots\n",
    "# the first row is missing, so skip that one..\n",
    "\n",
    "fig = sm.graphics.tsa.plot_acf(air['AUSAIR_DIFF'][1:], lags=30)\n",
    "fig = sm.graphics.tsa.plot_acf(air['GUINEARICE_DIFF'][1:], lags=30)"
   ]
  },
  {
   "cell_type": "code",
   "execution_count": null,
   "metadata": {},
   "outputs": [],
   "source": [
    "# if we have to, we can also calculate a second difference\n",
    "# don't go beyond 2\n",
    "\n",
    "air['AUSAIR_2DIFF'] = air['AUSAIR_DIFF'] - air['AUSAIR_DIFF'].shift(1)  \n",
    "air['GUINEARICE_2DIFF'] = air['GUINEARICE_DIFF'] - air['GUINEARICE_DIFF'].shift(1)  \n",
    "air.head()\n"
   ]
  },
  {
   "cell_type": "code",
   "execution_count": null,
   "metadata": {},
   "outputs": [],
   "source": [
    "\n",
    "air.plot(subplots=True)"
   ]
  },
  {
   "cell_type": "code",
   "execution_count": null,
   "metadata": {},
   "outputs": [],
   "source": [
    "# ACF plots\n",
    "# the first two rows are missing, so skip those..\n",
    "\n",
    "fig = sm.graphics.tsa.plot_acf(air['AUSAIR_2DIFF'][2:], lags=30)\n",
    "fig = sm.graphics.tsa.plot_acf(air['GUINEARICE_2DIFF'][2:], lags=30)"
   ]
  },
  {
   "cell_type": "code",
   "execution_count": null,
   "metadata": {},
   "outputs": [],
   "source": [
    "# now what if we estimate the same model on the differenced data\n",
    "\n",
    "mod = smf.ols(formula='AUSAIR_DIFF ~ GUINEARICE_DIFF', data=air)\n",
    "res = mod.fit()\n",
    "print(res.summary())"
   ]
  },
  {
   "cell_type": "code",
   "execution_count": null,
   "metadata": {},
   "outputs": [],
   "source": [
    "# now what if we estimate the same model on the second differenced data\n",
    "\n",
    "mod = smf.ols(formula='AUSAIR_2DIFF ~ GUINEARICE_2DIFF', data=air)\n",
    "res = mod.fit()\n",
    "print(res.summary())"
   ]
  },
  {
   "cell_type": "markdown",
   "metadata": {},
   "source": [
    "## Homework\n",
    "\n",
    "The data folder contains a time-series data set of ridership on the BART rail system from 2001 through 2015.  Estimate a regression model of the ridership (RIDERS) as a function of variables included in the data set.  Build as complete of a model as you can, but be sure you can explain it!"
   ]
  },
  {
   "cell_type": "code",
   "execution_count": null,
   "metadata": {},
   "outputs": [],
   "source": []
  }
 ],
 "metadata": {
  "anaconda-cloud": {},
  "kernelspec": {
   "display_name": "Python 3",
   "language": "python",
   "name": "python3"
  },
  "language_info": {
   "codemirror_mode": {
    "name": "ipython",
    "version": 3
   },
   "file_extension": ".py",
   "mimetype": "text/x-python",
   "name": "python",
   "nbconvert_exporter": "python",
   "pygments_lexer": "ipython3",
   "version": "3.7.1"
  }
 },
 "nbformat": 4,
 "nbformat_minor": 1
}
