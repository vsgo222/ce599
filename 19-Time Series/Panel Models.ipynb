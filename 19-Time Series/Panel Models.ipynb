{
 "cells": [
  {
   "cell_type": "markdown",
   "metadata": {},
   "source": [
    "### Transit ridership panel data models\n",
    "\n",
    "Script to estimate the models of MUNI bus and rail ridership at a TAZ level for the purpose of determining the effect of TNCs on transit ridership in San Francisco. \n",
    "\n",
    "gde 3.28.2020"
   ]
  },
  {
   "cell_type": "code",
   "execution_count": null,
   "metadata": {},
   "outputs": [],
   "source": [
    "import pandas as pd\n",
    "import numpy as np\n",
    "\n",
    "from linearmodels.panel import PanelOLS\n",
    "\n",
    "pd.set_option('display.max_columns', 500)\n",
    "pd.set_option('display.max_rows', 20)\n",
    "\n",
    "%matplotlib inline"
   ]
  },
  {
   "cell_type": "code",
   "execution_count": null,
   "metadata": {},
   "outputs": [],
   "source": [
    "# read the data and structure the data\n",
    "data = pd.read_csv('data/PanelEstimationFile.csv', thousands = ',')\n"
   ]
  },
  {
   "cell_type": "code",
   "execution_count": null,
   "metadata": {},
   "outputs": [],
   "source": [
    "# calculate dervied fields \n",
    "\n",
    "# setting flags\n",
    "data['BUS'] = np.where(data['MODE']=='BUS', 1, 0)\n",
    "data['RAIL'] = np.where(data['MODE']=='RAIL', 1, 0)\n",
    "data['YEAR_2015'] = np.where(data['YEAR']==2015, 1, 0)\n",
    "\n",
    "# segmenting bus vs rail coefficients\n",
    "data['TRIP_STOPS_DELIVERED_BUS'] = data['TRIP_STOPS_DELIVERED']*data['BUS']\n",
    "data['TRIP_STOPS_DELIVERED_RAIL'] = data['TRIP_STOPS_DELIVERED']*data['RAIL']\n",
    "\n",
    "data['AVG_TNC_SMOOTH_BUS'] = data['AVG_TNC_SMOOTH'] * data['BUS']\n",
    "data['AVG_TNC_SMOOTH_RAIL'] = data['AVG_TNC_SMOOTH'] * data['RAIL']\n",
    "\n",
    "data['BUS_TRIP_STOPS_COMPETING_BUS'] = data['BUS_TRIP_STOPS_COMPETING'] * data['BUS']\n",
    "\n",
    "# combining BART and Caltrain\n",
    "data['BART_CT_AVG_RIDE_SMOOTH'] = data['BART_AVG_RIDE_SMOOTH'] + data['CALTRAIN_AVG_RIDE_SMOOTH']\n"
   ]
  },
  {
   "cell_type": "code",
   "execution_count": null,
   "metadata": {},
   "outputs": [],
   "source": [
    "# Set the index\n",
    "data = data.set_index(['ID', 'YEAR'])\n",
    "data.head()"
   ]
  },
  {
   "cell_type": "code",
   "execution_count": null,
   "metadata": {},
   "outputs": [],
   "source": [
    "# match Greg's combined TAZ model\n",
    "\n",
    "mod = PanelOLS.from_formula(\"np.log(1+AVG_RIDE) \\\n",
    "                            ~ np.log(1+ACCESS_30) \\\n",
    "                            + np.log(1+ROUTES) \\\n",
    "                            + np.log(1+TRIP_STOPS_DELIVERED_BUS) \\\n",
    "                            + np.log(1+TRIP_STOPS_DELIVERED_RAIL) \\\n",
    "                            + ONTIME5 \\\n",
    "                            + np.log(1+BART_CT_AVG_RIDE_SMOOTH) \\\n",
    "                            + np.log(1+BUS_TRIP_STOPS_COMPETING_BUS) \\\n",
    "                            + np.log(1+AVG_TNC_SMOOTH_BUS) \\\n",
    "                            + np.log(1+AVG_TNC_SMOOTH_RAIL) \\\n",
    "                            + YEAR_2015 \\\n",
    "                            + EntityEffects\",\n",
    "             data = data)\n",
    "\n",
    "res = mod.fit()\n",
    "print(res)"
   ]
  },
  {
   "cell_type": "code",
   "execution_count": null,
   "metadata": {},
   "outputs": [],
   "source": []
  },
  {
   "cell_type": "code",
   "execution_count": null,
   "metadata": {},
   "outputs": [],
   "source": []
  }
 ],
 "metadata": {
  "kernelspec": {
   "display_name": "Python 3",
   "language": "python",
   "name": "python3"
  },
  "language_info": {
   "codemirror_mode": {
    "name": "ipython",
    "version": 3
   },
   "file_extension": ".py",
   "mimetype": "text/x-python",
   "name": "python",
   "nbconvert_exporter": "python",
   "pygments_lexer": "ipython3",
   "version": "3.7.1"
  }
 },
 "nbformat": 4,
 "nbformat_minor": 4
}
