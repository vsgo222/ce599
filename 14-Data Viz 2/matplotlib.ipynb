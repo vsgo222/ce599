{
 "cells": [
  {
   "cell_type": "markdown",
   "metadata": {},
   "source": [
    "# Data visualization with seaborn\n",
    "### Statistical data visualization\n",
    "\n",
    "Last week we used pandas and matplotlib to make some basic graphs.  This time we will start to explore the data statistically, and use seaborn for statistical data visualization.  The point is to explore the relationships in the data.  This exercise is based on the seaborn tutorial.  For reference: \n",
    "\n",
    "http://seaborn.pydata.org/index.html\n",
    "\n",
    "We won't cover them here, but if you get into this stuff you might check out: \n",
    "\n",
    "bokeh: does interactive data viz, much like we did interactive mapping earlier. \n",
    "\n",
    "http://bokeh.pydata.org/en/latest/\n",
    "    \n",
    "d3: this is a javascript library that has been used to create some of the most beautiful visualizations I have ever seen. \n",
    "\n",
    "https://github.com/d3/d3/wiki/Gallery"
   ]
  },
  {
   "cell_type": "markdown",
   "metadata": {},
   "source": [
    "## Install\n",
    "\n",
    "    conda install seaborn\n"
   ]
  },
  {
   "cell_type": "code",
   "execution_count": 1,
   "metadata": {
    "collapsed": false
   },
   "outputs": [],
   "source": [
    "# magic command to display matplotlib plots inline within the ipython notebook webpage\n",
    "%matplotlib inline\n",
    "\n",
    "# import necessary modules\n",
    "import pandas as pd\n",
    "import geopandas as gp\n",
    "from scipy import stats, integrate\n",
    "import matplotlib.pyplot as plt\n",
    "import seaborn as sns\n",
    "sns.set(color_codes=True)"
   ]
  },
  {
   "cell_type": "markdown",
   "metadata": {},
   "source": [
    "## Load the data sets\n",
    "\n",
    "In this exercise, we are interested in understanding more about the congested roadway speed.  We may want to see what the speed distribution looks like, and how it relates to other variables.  We'll examine this today. "
   ]
  },
  {
   "cell_type": "code",
   "execution_count": 2,
   "metadata": {
    "collapsed": false
   },
   "outputs": [
    {
     "data": {
      "text/html": [
       "<div>\n",
       "<table border=\"1\" class=\"dataframe\">\n",
       "  <thead>\n",
       "    <tr style=\"text-align: right;\">\n",
       "      <th></th>\n",
       "      <th>ANode</th>\n",
       "      <th>BNode</th>\n",
       "      <th>Direction</th>\n",
       "      <th>FacilityTy</th>\n",
       "      <th>FreeflowSp</th>\n",
       "      <th>Label</th>\n",
       "      <th>Length</th>\n",
       "      <th>LinkID</th>\n",
       "      <th>ModelTime5</th>\n",
       "      <th>ModelVolum</th>\n",
       "      <th>NumLanes</th>\n",
       "      <th>Type</th>\n",
       "      <th>geometry</th>\n",
       "      <th>Speed</th>\n",
       "    </tr>\n",
       "  </thead>\n",
       "  <tbody>\n",
       "    <tr>\n",
       "      <th>0</th>\n",
       "      <td>6956.0</td>\n",
       "      <td>40003.0</td>\n",
       "      <td>EB</td>\n",
       "      <td>8.0</td>\n",
       "      <td>40.0</td>\n",
       "      <td>HWY 101 N OFF-RAMP to HARNEY WY</td>\n",
       "      <td>0.109211</td>\n",
       "      <td>3477.0</td>\n",
       "      <td>0.169666</td>\n",
       "      <td>176.0</td>\n",
       "      <td>1.0</td>\n",
       "      <td>RoadLink</td>\n",
       "      <td>LINESTRING (6013570.791748491 2085003.96208599...</td>\n",
       "      <td>38.620892</td>\n",
       "    </tr>\n",
       "    <tr>\n",
       "      <th>1</th>\n",
       "      <td>6956.0</td>\n",
       "      <td>40029.0</td>\n",
       "      <td>NB</td>\n",
       "      <td>1.0</td>\n",
       "      <td>65.0</td>\n",
       "      <td>HWY 101 NORTHBOUND</td>\n",
       "      <td>0.151513</td>\n",
       "      <td>3478.0</td>\n",
       "      <td>0.172743</td>\n",
       "      <td>6247.0</td>\n",
       "      <td>4.0</td>\n",
       "      <td>RoadLink</td>\n",
       "      <td>LINESTRING (6013590.440897825 2085010.56453974...</td>\n",
       "      <td>52.626085</td>\n",
       "    </tr>\n",
       "    <tr>\n",
       "      <th>2</th>\n",
       "      <td>6985.0</td>\n",
       "      <td>6980.0</td>\n",
       "      <td>SB</td>\n",
       "      <td>8.0</td>\n",
       "      <td>40.0</td>\n",
       "      <td>HWY 101 S ON-RAMP from BEATTY AVE</td>\n",
       "      <td>0.054407</td>\n",
       "      <td>3481.0</td>\n",
       "      <td>0.337117</td>\n",
       "      <td>251.0</td>\n",
       "      <td>1.0</td>\n",
       "      <td>RoadLink</td>\n",
       "      <td>LINESTRING (6013196.868106447 2085485.42769724...</td>\n",
       "      <td>9.683272</td>\n",
       "    </tr>\n",
       "    <tr>\n",
       "      <th>3</th>\n",
       "      <td>6985.0</td>\n",
       "      <td>6986.0</td>\n",
       "      <td>WB</td>\n",
       "      <td>6.0</td>\n",
       "      <td>35.0</td>\n",
       "      <td>BEATTY AVE</td>\n",
       "      <td>0.279096</td>\n",
       "      <td>3482.0</td>\n",
       "      <td>0.488893</td>\n",
       "      <td>78.0</td>\n",
       "      <td>1.0</td>\n",
       "      <td>RoadLink</td>\n",
       "      <td>LINESTRING (6013197.871166563 2085491.68336289...</td>\n",
       "      <td>34.252460</td>\n",
       "    </tr>\n",
       "    <tr>\n",
       "      <th>4</th>\n",
       "      <td>6985.0</td>\n",
       "      <td>52492.0</td>\n",
       "      <td>NB</td>\n",
       "      <td>6.0</td>\n",
       "      <td>30.0</td>\n",
       "      <td>ALANA WY</td>\n",
       "      <td>0.103751</td>\n",
       "      <td>3483.0</td>\n",
       "      <td>0.222079</td>\n",
       "      <td>76.0</td>\n",
       "      <td>1.0</td>\n",
       "      <td>RoadLink</td>\n",
       "      <td>LINESTRING (6013204.215209286 2085486.3706171,...</td>\n",
       "      <td>28.030923</td>\n",
       "    </tr>\n",
       "  </tbody>\n",
       "</table>\n",
       "</div>"
      ],
      "text/plain": [
       "    ANode    BNode Direction  FacilityTy  FreeflowSp  \\\n",
       "0  6956.0  40003.0        EB         8.0        40.0   \n",
       "1  6956.0  40029.0        NB         1.0        65.0   \n",
       "2  6985.0   6980.0        SB         8.0        40.0   \n",
       "3  6985.0   6986.0        WB         6.0        35.0   \n",
       "4  6985.0  52492.0        NB         6.0        30.0   \n",
       "\n",
       "                               Label    Length  LinkID  ModelTime5  \\\n",
       "0    HWY 101 N OFF-RAMP to HARNEY WY  0.109211  3477.0    0.169666   \n",
       "1                 HWY 101 NORTHBOUND  0.151513  3478.0    0.172743   \n",
       "2  HWY 101 S ON-RAMP from BEATTY AVE  0.054407  3481.0    0.337117   \n",
       "3                         BEATTY AVE  0.279096  3482.0    0.488893   \n",
       "4                           ALANA WY  0.103751  3483.0    0.222079   \n",
       "\n",
       "   ModelVolum  NumLanes      Type  \\\n",
       "0       176.0       1.0  RoadLink   \n",
       "1      6247.0       4.0  RoadLink   \n",
       "2       251.0       1.0  RoadLink   \n",
       "3        78.0       1.0  RoadLink   \n",
       "4        76.0       1.0  RoadLink   \n",
       "\n",
       "                                            geometry      Speed  \n",
       "0  LINESTRING (6013570.791748491 2085003.96208599...  38.620892  \n",
       "1  LINESTRING (6013590.440897825 2085010.56453974...  52.626085  \n",
       "2  LINESTRING (6013196.868106447 2085485.42769724...   9.683272  \n",
       "3  LINESTRING (6013197.871166563 2085491.68336289...  34.252460  \n",
       "4  LINESTRING (6013204.215209286 2085486.3706171,...  28.030923  "
      ]
     },
     "execution_count": 2,
     "metadata": {},
     "output_type": "execute_result"
    }
   ],
   "source": [
    "# This file contains the street network of San Francisco.  \n",
    "# Each link has a modeled traffic volume and travel time for the 5-6 pm period. \n",
    "net = gp.read_file('data/sf_links.shp')\n",
    "\n",
    "# calculate the speed, in mph\n",
    "net['Speed'] = net['Length'] / net['ModelTime5'] * 60\n",
    "\n",
    "# see what we have\n",
    "net.head()"
   ]
  },
  {
   "cell_type": "markdown",
   "metadata": {
    "collapsed": true
   },
   "source": [
    "## Plotting univariate distributions\n",
    "\n",
    "The most convenient way to take a quick look at a univariate distribution in seaborn is the distplot() function. By default, this will draw a histogram and fit a kernel density estimate (KDE)."
   ]
  },
  {
   "cell_type": "code",
   "execution_count": null,
   "metadata": {
    "collapsed": false
   },
   "outputs": [],
   "source": [
    "sns.distplot(net['Speed'])"
   ]
  },
  {
   "cell_type": "markdown",
   "metadata": {},
   "source": [
    "If we want to control the limits of the x axes, we need to use the matplotlib commands like we did last week. "
   ]
  },
  {
   "cell_type": "code",
   "execution_count": null,
   "metadata": {
    "collapsed": false
   },
   "outputs": [],
   "source": [
    "ax = sns.distplot(net['Speed'])\n",
    "ax.figure.set_size_inches(8,6)\n",
    "ax.set_xlim(0,50)"
   ]
  },
  {
   "cell_type": "markdown",
   "metadata": {},
   "source": [
    "distplot() actually gives a combination of a histogram and a kernel density plot.  You can get just one or the other, and control the number of bins. \n",
    "\n",
    "Alternatively, you can also add a rug plot which gives a vertical tick for each observation. "
   ]
  },
  {
   "cell_type": "code",
   "execution_count": null,
   "metadata": {
    "collapsed": false
   },
   "outputs": [],
   "source": [
    "ax = sns.distplot(net['Speed'], kde=False, bins=100)\n",
    "ax.figure.set_size_inches(8,6)\n",
    "ax.set_xlim(0,50)"
   ]
  },
  {
   "cell_type": "markdown",
   "metadata": {},
   "source": [
    "The kernel density estimate may be less familiar, but it can be a useful tool for plotting the shape of a distribution. Like the histogram, the KDE plots encodes the density of observations on one axis with height along the other axis. \n",
    "\n",
    "Drawing a KDE is more computationally involved than drawing a histogram. What happens is that each observation is first replaced with a normal (Gaussian) curve centered at that value.  \n",
    "\n",
    "Next, these curves are summed to compute the value of the density at each point in the support grid. The resulting curve is then normalized so that the area under it is equal to 1. "
   ]
  },
  {
   "cell_type": "markdown",
   "metadata": {},
   "source": [
    "The bandwidth (bw) parameter of the KDE controls how tightly the estimation is fit to the data, much like the bin size in a histogram. It corresponds to the width of the kernels we plotted above. The default behavior tries to guess a good value using a common reference rule, but it may be helpful to try larger or smaller values. "
   ]
  },
  {
   "cell_type": "code",
   "execution_count": null,
   "metadata": {
    "collapsed": false
   },
   "outputs": [],
   "source": [
    "ax = sns.kdeplot(net['Speed'], label='default')\n",
    "ax = sns.kdeplot(net['Speed'], bw=.1, label=\"bw: 0.1\")\n",
    "ax = sns.kdeplot(net['Speed'], bw=2, label=\"bw: 2\")\n",
    "\n",
    "ax.set_xlim(0,50)\n",
    "plt.legend();"
   ]
  },
  {
   "cell_type": "markdown",
   "metadata": {},
   "source": [
    "You can also use distplot() to fit a parametric distribution to a dataset and visually evaluate how closely it corresponds to the observed data:"
   ]
  },
  {
   "cell_type": "code",
   "execution_count": null,
   "metadata": {
    "collapsed": false
   },
   "outputs": [],
   "source": [
    "# here we try to fit a normal distribution\n",
    "ax = sns.distplot(net['Speed'], kde=False, fit=stats.norm)\n",
    "ax.figure.set_size_inches(8,6)\n",
    "ax.set_xlim(0,50)"
   ]
  },
  {
   "cell_type": "markdown",
   "metadata": {},
   "source": [
    "In the above case, the normal distribution doesn't fit very well.  This can be an issue because many statistical tests are based on an assumption that your data follows a particular distribution.  If it doesn't, the test may be invalid.  This is why it is important to actually visualize it.  "
   ]
  },
  {
   "cell_type": "markdown",
   "metadata": {},
   "source": [
    "## Plotting bivariate distributions\n",
    "\n",
    "It can also be useful to visualize a bivariate distribution of two variables. The easiest way to do this in seaborn is to just the jointplot() function, which creates a multi-panel figure that shows both the bivariate (or joint) relationship between two variables along with the univariate (or marginal) distribution of each on separate axes."
   ]
  },
  {
   "cell_type": "markdown",
   "metadata": {},
   "source": [
    "#### Scatterplots\n",
    "\n",
    "The most familiar way to visualize a bivariate distribution is a scatterplot, where each observation is shown with point at the x and y values. This is analgous to a rug plot on two dimensions. You can draw a scatterplot with the matplotlib plt.scatter function, and it is also the default kind of plot shown by the jointplot() function:"
   ]
  },
  {
   "cell_type": "code",
   "execution_count": null,
   "metadata": {
    "collapsed": false
   },
   "outputs": [],
   "source": [
    "# plot the speed vs traffic volume\n",
    "sns.jointplot(x=\"ModelVolum\", y=\"Speed\", data=net, size=8)"
   ]
  },
  {
   "cell_type": "markdown",
   "metadata": {},
   "source": [
    "#### Hexbin plots\n",
    "\n",
    "There are a lot of points in the bottom left, so its hard to see what is going on.  We can look at this a bit better using something called a hexbin plot. \n",
    "\n",
    "The bivariate analogue of a histogram is known as a “hexbin” plot, because it shows the counts of observations that fall within hexagonal bins. This plot works best with relatively large datasets. It’s availible through the matplotlib plt.hexbin function and as a style in jointplot(). It looks best with a white background:"
   ]
  },
  {
   "cell_type": "code",
   "execution_count": null,
   "metadata": {
    "collapsed": false
   },
   "outputs": [],
   "source": [
    "# plot the speed vs traffic volume\n",
    "sns.jointplot(x=\"ModelVolum\", \n",
    "              y=\"Speed\", \n",
    "              data=net, \n",
    "              kind='hex', \n",
    "              size=8, \n",
    "              xlim=(0,1000), \n",
    "              ylim=(0,40))"
   ]
  },
  {
   "cell_type": "markdown",
   "metadata": {},
   "source": [
    "#### Kernel density estimation\n",
    "\n",
    "It is also posible to use the kernel density estimation procedure described above to visualize a bivariate distribution. In seaborn, this kind of plot is shown with a contour plot and is available as a style in jointplot():"
   ]
  },
  {
   "cell_type": "code",
   "execution_count": null,
   "metadata": {
    "collapsed": false
   },
   "outputs": [],
   "source": [
    "# plot the speed vs traffic volume\n",
    "sns.jointplot(x=\"ModelVolum\", \n",
    "              y=\"Speed\", \n",
    "              data=net, \n",
    "              kind='kde', \n",
    "              size=8, \n",
    "              bw=2,\n",
    "              xlim=(0,1000), \n",
    "              ylim=(0,40))"
   ]
  },
  {
   "cell_type": "markdown",
   "metadata": {},
   "source": [
    "## Visualizing pairwise relationships in a dataset\n",
    "\n",
    "To plot multiple pairwise bivariate distributions in a dataset, you can use the pairplot() function. This creates a matrix of axes and shows the relationship for each pair of columns in a DataFrame. by default, it also draws the univariate distribution of each variable on the diagonal Axes:"
   ]
  },
  {
   "cell_type": "code",
   "execution_count": null,
   "metadata": {
    "collapsed": false
   },
   "outputs": [],
   "source": [
    "# only for selected columns\n",
    "cols = ['FreeflowSp', 'Length', 'ModelTime5', 'ModelVolum', 'Speed']\n",
    "\n",
    "# and teh plots\n",
    "sns.pairplot(net[cols]) "
   ]
  },
  {
   "cell_type": "markdown",
   "metadata": {},
   "source": [
    "## Drawing linear regression models\n",
    "\n",
    "We can easily draw a scatterplot and fit a linear regression model. "
   ]
  },
  {
   "cell_type": "code",
   "execution_count": null,
   "metadata": {
    "collapsed": false
   },
   "outputs": [],
   "source": [
    "sns.regplot(x=\"ModelVolum\", y=\"Speed\", data=net);"
   ]
  },
  {
   "cell_type": "markdown",
   "metadata": {},
   "source": [
    "Or we can make this different for freeways vs non-freeways. "
   ]
  },
  {
   "cell_type": "code",
   "execution_count": null,
   "metadata": {
    "collapsed": false
   },
   "outputs": [],
   "source": [
    "# freeways are facility type 1\n",
    "net['Freeway'] = net['FacilityTy'].apply(lambda x : 'Freeway' if x==1 else 'Other')\n",
    "\n",
    "sns.lmplot(x=\"ModelVolum\", y=\"Speed\", hue='Freeway', data=net);"
   ]
  },
  {
   "cell_type": "markdown",
   "metadata": {},
   "source": [
    "## Exploring categories\n",
    "We previously learned how to use scatterplots and regression model fits to visualize the relationship between two variables and how it changes across levels of additional categorical variables. However, what if one of the main variables you are interested in is categorical? In this case, the scatterplot and regression model approach won’t work. There are several options, however, for visualizing such a relationship, which we will discuss in this tutorial."
   ]
  },
  {
   "cell_type": "markdown",
   "metadata": {},
   "source": [
    "#### Categorical scatterplots\n",
    "\n",
    "A simple way to show the the values of some quantitative variable across the levels of a categorical variable uses stripplot(), which generalizes a scatterplot to the case where one of the variables is categorical:"
   ]
  },
  {
   "cell_type": "code",
   "execution_count": null,
   "metadata": {
    "collapsed": false
   },
   "outputs": [],
   "source": [
    "sns.stripplot(x=\"FacilityTy\", y=\"Speed\", data=net);"
   ]
  },
  {
   "cell_type": "code",
   "execution_count": null,
   "metadata": {
    "collapsed": false
   },
   "outputs": [],
   "source": [
    "# this is hard to see, so let's add some 'jitter'\n",
    "\n",
    "sns.stripplot(x=\"FacilityTy\", y=\"Speed\", data=net, jitter=True);"
   ]
  },
  {
   "cell_type": "markdown",
   "metadata": {},
   "source": [
    "#### Boxplots\n",
    "\n",
    "At a certain point, the categorical scatterplot approach becomes limited in the information it can provide about the distribution of values within each category. There are several ways to summarize this information in ways that facilitate easy comparisons across the category levels. These generalize some of the approaches we discussed in the chapter to the case where we want to quickly compare across several distributions.\n",
    "\n",
    "The first is the familiar boxplot(). This kind of plot shows the three quartile values of the distribution along with extreme values. The “whiskers” extend to points that lie within 1.5 IQRs of the lower and upper quartile, and then observations that fall outside this range are displayed independently. Importantly, this means that each value in the boxplot corresponds to an actual observation in the data:"
   ]
  },
  {
   "cell_type": "code",
   "execution_count": null,
   "metadata": {
    "collapsed": false
   },
   "outputs": [],
   "source": [
    "sns.boxplot(x=\"FacilityTy\", y=\"Speed\", data=net)"
   ]
  },
  {
   "cell_type": "markdown",
   "metadata": {},
   "source": [
    "#### Violinplots\n",
    "\n",
    "A different approach is a violinplot(), which combines a boxplot with the kernel density estimation procedure described in the distributions tutorial:"
   ]
  },
  {
   "cell_type": "code",
   "execution_count": null,
   "metadata": {
    "collapsed": false
   },
   "outputs": [],
   "source": [
    "sns.violinplot(x=\"FacilityTy\", y=\"Speed\", data=net)"
   ]
  },
  {
   "cell_type": "markdown",
   "metadata": {},
   "source": [
    "# Homework\n",
    "\n",
    "Explore this data set and explain which factors most affect the link speed.  Use visualizations to support your case.  Your should first conduct an exploratory analysis, and then once you have figured out your story, clearly label a section with just the relevant explanation and supporting figures.  Make it easy for me to review just the 'bottom line'!"
   ]
  },
  {
   "cell_type": "code",
   "execution_count": null,
   "metadata": {
    "collapsed": true
   },
   "outputs": [],
   "source": []
  }
 ],
 "metadata": {
  "anaconda-cloud": {},
  "celltoolbar": "Raw Cell Format",
  "kernelspec": {
   "display_name": "Python [conda root]",
   "language": "python",
   "name": "conda-root-py"
  },
  "language_info": {
   "codemirror_mode": {
    "name": "ipython",
    "version": 3
   },
   "file_extension": ".py",
   "mimetype": "text/x-python",
   "name": "python",
   "nbconvert_exporter": "python",
   "pygments_lexer": "ipython3",
   "version": "3.5.2"
  }
 },
 "nbformat": 4,
 "nbformat_minor": 0
}
