{
 "cells": [
  {
   "cell_type": "markdown",
   "metadata": {},
   "source": [
    "# Making stuff run faster.  A few strategies. \n",
    "\n",
    "This lesson presents a few options for how to make things run faster or more efficieintly in python.  \n",
    "\n",
    "gde 4.2.2020"
   ]
  },
  {
   "cell_type": "markdown",
   "metadata": {},
   "source": [
    "### Don't worry about it, unless it's actually a problem!\n",
    "\n",
    "\"The real problem is that programmers have spent far too much time worrying about efficiency in the wrong places and at the wrong times; premature optimization is the root of all evil (or at least most of it) in programming.\"\n",
    "\n",
    "-- Donald Knuth\n",
    "\n",
    "\"Programmers waste enormous amounts of time thinking about, or worrying about, the speed of noncritical parts of their programs, and these attempts at efficiency actually have a strong negative impact when debugging and maintenance are considered. We should forget about small efficiencies, say about 97% of the time: premature optimization is the root of all evil. Yet we should not pass up our opportunities in that critical 3%.\"\n",
    "\n",
    "    Variant in Knuth, \"Structured Programming with Goto Statements\". Computing Surveys 6:4 (December 1974), pp. 261–301, §1. doi:10.1145/356635.356640"
   ]
  },
  {
   "cell_type": "markdown",
   "metadata": {},
   "source": [
    "## Understanding the basics\n",
    "\n",
    "There are different types of resource issues you may run into when working with computers.  The solution will depend on which of these is a constraint.\n",
    "\n",
    "First, understand that there are capacity problems and there are speed problems.  Capacity problems include: \n",
    "\n",
    "1. Running out of memory\n",
    "2. Running out of storage space\n",
    "\n",
    "In a capacity problem, the time for an operation is basically unaffected until you hit some limit, then you are out of luck.  In terms of a speed problem, there are several things that will affect how long your program takes to run.  It is worth understanding what is fast and slow on computers.  From fast to slow, you can expect:\n",
    "\n",
    "1. CPU operations \n",
    "2. Accessing RAM \n",
    "3. Sending output to the console\n",
    "4. Reading from a solid-state drive\n",
    "5. Writing to a solid-state drive\n",
    "6. Reading/writing from a traditional hard drive\n",
    "7. Access over a local network \n",
    "8. Access over the internet\n",
    "...\n",
    "100. Anything that involves a human\n",
    "\n",
    "That last one includes both any manual data processing, and the act of writing the code itself.  In scientific computing, most of the programs we write will be used by just a couple of people.  What we really care about is minimizing the total time to getting results.  \n"
   ]
  },
  {
   "cell_type": "markdown",
   "metadata": {},
   "source": [
    "## Step 1: Diagnose the problem"
   ]
  },
  {
   "cell_type": "markdown",
   "metadata": {},
   "source": [
    "### 1. Use the resource monitor"
   ]
  },
  {
   "cell_type": "code",
   "execution_count": null,
   "metadata": {},
   "outputs": [],
   "source": [
    "# a computationally intensive function\n",
    "import math \n",
    "\n",
    "for i in range(0,10000):\n",
    "    x = math.factorial(i)\n"
   ]
  },
  {
   "cell_type": "code",
   "execution_count": null,
   "metadata": {},
   "outputs": [],
   "source": [
    "# a memory intensive function\n",
    "l = []\n",
    "for i in range(0,10000):\n",
    "    new_list = [4.564234] * i * i\n",
    "    l.append(new_list)"
   ]
  },
  {
   "cell_type": "markdown",
   "metadata": {},
   "source": [
    "### 2. Use a timer"
   ]
  },
  {
   "cell_type": "code",
   "execution_count": null,
   "metadata": {},
   "outputs": [],
   "source": [
    "# overall time\n",
    "import math \n",
    "import datetime\n",
    "\n",
    "start_time = datetime.datetime.now()\n",
    "for i in range(0,10000):\n",
    "    x = math.factorial(i)\n",
    "\n",
    "time_elapsed = datetime.datetime.now() - start_time\n",
    "print('Finished in ', time_elapsed)\n"
   ]
  },
  {
   "cell_type": "code",
   "execution_count": null,
   "metadata": {},
   "outputs": [],
   "source": [
    "# time for multiple steps\n",
    "\n",
    "import math \n",
    "import datetime\n",
    "\n",
    "start_time = datetime.datetime.now()\n",
    "\n",
    "# step 1\n",
    "for i in range(0,10000):\n",
    "    x = math.factorial(i)\n",
    "step1_time = datetime.datetime.now() - start_time    \n",
    "print('Finished step 1 in ', step1_time)\n",
    "\n",
    "# step 2\n",
    "l = []\n",
    "for i in range(0,1000):\n",
    "    new_list = [4.564234] * i * i\n",
    "    l.append(new_list)\n",
    "step2_time = datetime.datetime.now() - (start_time + step1_time)\n",
    "print('Finished step 2 in ', step2_time)\n"
   ]
  },
  {
   "cell_type": "markdown",
   "metadata": {},
   "source": [
    "### 3. Use a profiling tool\n",
    "\n",
    "https://docs.python.org/3/library/profile.html\n",
    "\n",
    "https://www.pluralsight.com/guides/quick-profiling-in-python\n",
    "\n",
    "https://jiffyclub.github.io/snakeviz/\n",
    "\n",
    "https://mortada.net/easily-profile-python-code-in-jupyter.html\n",
    "\n",
    "https://jakevdp.github.io/PythonDataScienceHandbook/01.07-timing-and-profiling.html"
   ]
  },
  {
   "cell_type": "markdown",
   "metadata": {},
   "source": [
    "1. Built-in profile does method by method profiling"
   ]
  },
  {
   "cell_type": "code",
   "execution_count": null,
   "metadata": {},
   "outputs": [],
   "source": [
    "import cProfile"
   ]
  },
  {
   "cell_type": "code",
   "execution_count": null,
   "metadata": {},
   "outputs": [],
   "source": [
    "def factorial_range(n):\n",
    "    for i in range(0,n):\n",
    "        x = math.factorial(i)"
   ]
  },
  {
   "cell_type": "code",
   "execution_count": null,
   "metadata": {},
   "outputs": [],
   "source": [
    "pr = cProfile.Profile()\n",
    "pr.enable()\n",
    "factorial_range(10000)\n",
    "pr.disable()\n",
    "pr.print_stats()"
   ]
  },
  {
   "cell_type": "code",
   "execution_count": null,
   "metadata": {},
   "outputs": [],
   "source": [
    "pr.dump_stats(\"factorial_range_profile.txt\")"
   ]
  },
  {
   "cell_type": "markdown",
   "metadata": {},
   "source": [
    "2. To do line-by-line profile, using line_profiler, potentially with kernprof.  \n",
    "\n",
    "First, install: \n",
    "\n",
    "    conda install line_profiler"
   ]
  },
  {
   "cell_type": "code",
   "execution_count": null,
   "metadata": {},
   "outputs": [],
   "source": [
    "%load_ext line_profiler"
   ]
  },
  {
   "cell_type": "code",
   "execution_count": null,
   "metadata": {},
   "outputs": [],
   "source": [
    "%lprun -f factorial_range factorial_range(10000)"
   ]
  },
  {
   "cell_type": "markdown",
   "metadata": {},
   "source": [
    "3. To do memory profiling, use memory_profiler\n",
    "\n"
   ]
  }
 ],
 "metadata": {
  "kernelspec": {
   "display_name": "Python 3",
   "language": "python",
   "name": "python3"
  },
  "language_info": {
   "codemirror_mode": {
    "name": "ipython",
    "version": 3
   },
   "file_extension": ".py",
   "mimetype": "text/x-python",
   "name": "python",
   "nbconvert_exporter": "python",
   "pygments_lexer": "ipython3",
   "version": "3.7.1"
  }
 },
 "nbformat": 4,
 "nbformat_minor": 2
}
