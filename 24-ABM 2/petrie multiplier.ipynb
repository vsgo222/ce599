{
 "cells": [
  {
   "cell_type": "markdown",
   "metadata": {},
   "source": [
    "### The Petrie Multiplier\n",
    "\n",
    "At UK, about 20% of engineering students are women: \n",
    "\n",
    "https://www.uky.edu/iraa/enrollment-demographics\n",
    "\n",
    "If you pay any attention whatsoever to the news, you will have heard about the #metoo movement, and other examples of inappropriate or sexist behavior.  But you may not have seen it or experienced it it yourself.  The Petrie Multiplier offers an explanation for why that may be, and why the experience of your female colleagues and classmates may be very different.\n",
    "\n",
    "http://blog.ian.gent/2013/10/the-petrie-multiplier-why-attack-on.html\n",
    "\n",
    "Read about the Petrie Multiplier, and use what you have learned about object-oriented programming to create a Petrie simluation in Python.  Use your simulation to answer the following questions: \n",
    "\n",
    "1. What would happen in the simulation if you assumed that an agent subject to >N sexist remarks had an increased probability of dropping out and choosing a different field?  \n",
    "\n",
    "\n",
    "2. What would happen in the simulation if you designated 10% of agents as \"bystander interveners\"?  If the bystander witnesses an inappropriate remark, either on themselves or on another agent, the intervener confronts the attacker.  Say there is a 10% chance that this intervention causes the attacker to stop making inappropriate remarks.  How would this change the simulation?  \n",
    "\n",
    "\n",
    "3. What if you take sex out of the simulation?  Consider a workplace where you have positive and supportive workers, and one person who is mean and selfish on a regular basis.  For each mean/selfish interaction in the simulation, the person on the receiving end has an increased proability of making a mean/selfish interaction with another co-worker.  What would happen in this simulation?  \n",
    "\n",
    "\n",
    "I'm not usually a fan of business books, but there are a couple of useful ones coming from business school profs that consider the last issue.  \n",
    "\n",
    "Jim Collins, Good to Great: Why Some Companies Make the Leap and Others Don't, Harper Business 2001.\n",
    "\n",
    "https://www.amazon.com/Good-Great-Some-Companies-Others/dp/0066620996\n",
    "\n",
    "\n",
    "Robert Sutton, The No Asshole Rule: Building a Civilized Workplace and Surviving One That Isn't, Business Plus, 2007\n",
    "\n",
    "https://www.amazon.com/Asshole-Rule-Civilized-Workplace-Surviving/dp/0446526568/ref=tmm_hrd_swatch_0?_encoding=UTF8&qid=&sr=\n"
   ]
  },
  {
   "cell_type": "code",
   "execution_count": null,
   "metadata": {
    "collapsed": true
   },
   "outputs": [],
   "source": []
  }
 ],
 "metadata": {
  "anaconda-cloud": {},
  "kernelspec": {
   "display_name": "Python 3",
   "language": "python",
   "name": "python3"
  },
  "language_info": {
   "codemirror_mode": {
    "name": "ipython",
    "version": 3
   },
   "file_extension": ".py",
   "mimetype": "text/x-python",
   "name": "python",
   "nbconvert_exporter": "python",
   "pygments_lexer": "ipython3",
   "version": "3.7.1"
  }
 },
 "nbformat": 4,
 "nbformat_minor": 1
}
